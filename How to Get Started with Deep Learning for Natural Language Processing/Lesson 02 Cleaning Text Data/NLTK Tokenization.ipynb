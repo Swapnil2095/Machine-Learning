{
 "cells": [
  {
   "cell_type": "code",
   "execution_count": 1,
   "metadata": {},
   "outputs": [],
   "source": [
    "import nltk\n",
    "#nltk.download()"
   ]
  },
  {
   "cell_type": "code",
   "execution_count": 2,
   "metadata": {},
   "outputs": [],
   "source": [
    "# load data\n",
    "filename = 'rhyme.txt'\n",
    "file = open(filename, 'rt')\n",
    "text = file.read()\n",
    "file.close()\n",
    "# split into words\n",
    "from nltk.tokenize import word_tokenize\n",
    "tokens = word_tokenize(text)"
   ]
  },
  {
   "cell_type": "code",
   "execution_count": 3,
   "metadata": {},
   "outputs": [
    {
     "data": {
      "text/plain": [
       "['Sing',\n",
       " 'a',\n",
       " 'song',\n",
       " 'of',\n",
       " 'sixpence',\n",
       " ',',\n",
       " 'A',\n",
       " 'pocket',\n",
       " 'full',\n",
       " 'of',\n",
       " 'rye',\n",
       " '.',\n",
       " 'Four',\n",
       " 'and',\n",
       " 'twenty',\n",
       " 'blackbirds',\n",
       " ',',\n",
       " 'Baked',\n",
       " 'in',\n",
       " 'a',\n",
       " 'pie',\n",
       " '.',\n",
       " 'When',\n",
       " 'the',\n",
       " 'pie',\n",
       " 'was',\n",
       " 'opened',\n",
       " 'The',\n",
       " 'birds',\n",
       " 'began',\n",
       " 'to',\n",
       " 'sing',\n",
       " ';',\n",
       " 'Wasn',\n",
       " '’',\n",
       " 't',\n",
       " 'that',\n",
       " 'a',\n",
       " 'dainty',\n",
       " 'dish',\n",
       " ',',\n",
       " 'To',\n",
       " 'set',\n",
       " 'before',\n",
       " 'the',\n",
       " 'king',\n",
       " '.',\n",
       " 'The',\n",
       " 'king',\n",
       " 'was',\n",
       " 'in',\n",
       " 'his',\n",
       " 'counting',\n",
       " 'house',\n",
       " ',',\n",
       " 'Counting',\n",
       " 'out',\n",
       " 'his',\n",
       " 'money',\n",
       " ';',\n",
       " 'The',\n",
       " 'queen',\n",
       " 'was',\n",
       " 'in',\n",
       " 'the',\n",
       " 'parlour',\n",
       " ',',\n",
       " 'Eating',\n",
       " 'bread',\n",
       " 'and',\n",
       " 'honey',\n",
       " '.',\n",
       " 'The',\n",
       " 'maid',\n",
       " 'was',\n",
       " 'in',\n",
       " 'the',\n",
       " 'garden',\n",
       " ',',\n",
       " 'Hanging',\n",
       " 'out',\n",
       " 'the',\n",
       " 'clothes',\n",
       " ',',\n",
       " 'When',\n",
       " 'down',\n",
       " 'came',\n",
       " 'a',\n",
       " 'blackbird',\n",
       " 'And',\n",
       " 'pecked',\n",
       " 'off',\n",
       " 'her',\n",
       " 'nose',\n",
       " '.']"
      ]
     },
     "execution_count": 3,
     "metadata": {},
     "output_type": "execute_result"
    }
   ],
   "source": [
    "tokens"
   ]
  },
  {
   "cell_type": "code",
   "execution_count": null,
   "metadata": {},
   "outputs": [],
   "source": []
  }
 ],
 "metadata": {
  "kernelspec": {
   "display_name": "Python 3",
   "language": "python",
   "name": "python3"
  },
  "language_info": {
   "codemirror_mode": {
    "name": "ipython",
    "version": 3
   },
   "file_extension": ".py",
   "mimetype": "text/x-python",
   "name": "python",
   "nbconvert_exporter": "python",
   "pygments_lexer": "ipython3",
   "version": "3.6.3"
  }
 },
 "nbformat": 4,
 "nbformat_minor": 2
}
