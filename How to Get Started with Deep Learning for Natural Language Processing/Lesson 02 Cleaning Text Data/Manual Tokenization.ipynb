{
 "cells": [
  {
   "cell_type": "code",
   "execution_count": 1,
   "metadata": {},
   "outputs": [],
   "source": [
    "filename = 'rhyme.txt'\n",
    "file = open(filename, 'rt')\n",
    "text = file.read()\n",
    "file.close()\n",
    "# split into words by white space\n",
    "words = text.split()\n",
    "# convert to lowercase\n",
    "words = [word.lower() for word in words]"
   ]
  },
  {
   "cell_type": "code",
   "execution_count": 2,
   "metadata": {},
   "outputs": [
    {
     "data": {
      "text/plain": [
       "['sing',\n",
       " 'a',\n",
       " 'song',\n",
       " 'of',\n",
       " 'sixpence,',\n",
       " 'a',\n",
       " 'pocket',\n",
       " 'full',\n",
       " 'of',\n",
       " 'rye.',\n",
       " 'four',\n",
       " 'and',\n",
       " 'twenty',\n",
       " 'blackbirds,',\n",
       " 'baked',\n",
       " 'in',\n",
       " 'a',\n",
       " 'pie.',\n",
       " 'when',\n",
       " 'the',\n",
       " 'pie',\n",
       " 'was',\n",
       " 'opened',\n",
       " 'the',\n",
       " 'birds',\n",
       " 'began',\n",
       " 'to',\n",
       " 'sing;',\n",
       " 'wasn’t',\n",
       " 'that',\n",
       " 'a',\n",
       " 'dainty',\n",
       " 'dish,',\n",
       " 'to',\n",
       " 'set',\n",
       " 'before',\n",
       " 'the',\n",
       " 'king.',\n",
       " 'the',\n",
       " 'king',\n",
       " 'was',\n",
       " 'in',\n",
       " 'his',\n",
       " 'counting',\n",
       " 'house,',\n",
       " 'counting',\n",
       " 'out',\n",
       " 'his',\n",
       " 'money;',\n",
       " 'the',\n",
       " 'queen',\n",
       " 'was',\n",
       " 'in',\n",
       " 'the',\n",
       " 'parlour,',\n",
       " 'eating',\n",
       " 'bread',\n",
       " 'and',\n",
       " 'honey.',\n",
       " 'the',\n",
       " 'maid',\n",
       " 'was',\n",
       " 'in',\n",
       " 'the',\n",
       " 'garden,',\n",
       " 'hanging',\n",
       " 'out',\n",
       " 'the',\n",
       " 'clothes,',\n",
       " 'when',\n",
       " 'down',\n",
       " 'came',\n",
       " 'a',\n",
       " 'blackbird',\n",
       " 'and',\n",
       " 'pecked',\n",
       " 'off',\n",
       " 'her',\n",
       " 'nose.']"
      ]
     },
     "execution_count": 2,
     "metadata": {},
     "output_type": "execute_result"
    }
   ],
   "source": [
    "words"
   ]
  },
  {
   "cell_type": "code",
   "execution_count": null,
   "metadata": {},
   "outputs": [],
   "source": []
  }
 ],
 "metadata": {
  "kernelspec": {
   "display_name": "Python 3",
   "language": "python",
   "name": "python3"
  },
  "language_info": {
   "codemirror_mode": {
    "name": "ipython",
    "version": 3
   },
   "file_extension": ".py",
   "mimetype": "text/x-python",
   "name": "python",
   "nbconvert_exporter": "python",
   "pygments_lexer": "ipython3",
   "version": "3.6.3"
  }
 },
 "nbformat": 4,
 "nbformat_minor": 2
}
