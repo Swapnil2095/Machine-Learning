{
 "cells": [
  {
   "cell_type": "code",
   "execution_count": 2,
   "metadata": {},
   "outputs": [
    {
     "name": "stderr",
     "output_type": "stream",
     "text": [
      "C:\\Users\\Dell\\Anaconda3\\lib\\site-packages\\gensim\\utils.py:862: UserWarning: detected Windows; aliasing chunkize to chunkize_serial\n",
      "  warnings.warn(\"detected Windows; aliasing chunkize to chunkize_serial\")\n"
     ]
    },
    {
     "name": "stdout",
     "output_type": "stream",
     "text": [
      "Word2Vec(vocab=14, size=100, alpha=0.025)\n",
      "['this', 'is', 'the', 'first', 'sentence', 'for', 'word2vec', 'second', 'yet', 'another', 'one', 'more', 'and', 'final']\n",
      "[ -5.18473156e-04   8.33600410e-04  -3.12673580e-03  -4.80578421e-03\n",
      "   7.90769758e-04   1.84785313e-04   2.38826522e-03  -4.17785672e-03\n",
      "   3.92760849e-03  -1.50897948e-03   2.71225674e-03  -3.88698326e-03\n",
      "   1.11943402e-03   2.14719842e-03   2.36702967e-03   4.19591926e-03\n",
      "   3.97535926e-03   4.93279612e-03   4.77247231e-04  -4.96012799e-04\n",
      "   3.42341256e-03  -4.54189908e-03  -4.44536610e-03  -2.85149319e-03\n",
      "   2.31550337e-04  -3.42753902e-03  -2.10932153e-03  -1.90168503e-03\n",
      "   1.23533385e-03   1.11300009e-03  -4.33091959e-03  -2.06249999e-03\n",
      "  -3.56926024e-03  -1.88102457e-03  -1.64960464e-03  -3.38682183e-03\n",
      "   1.04329304e-03   2.61743600e-03  -1.28648034e-03  -7.57657399e-04\n",
      "   4.19966127e-05   1.54003513e-03  -3.42197309e-04  -5.70255856e-04\n",
      "   3.89185589e-04  -3.05258203e-03   1.88347115e-03   4.13315091e-03\n",
      "  -1.85378559e-03   4.72999690e-03  -3.48380441e-03   3.47596197e-03\n",
      "   1.94492959e-03  -3.86738771e-04   3.67935607e-03   2.53166049e-03\n",
      "   2.56366911e-03  -4.27911291e-03   3.27688712e-03   4.24576551e-03\n",
      "  -5.97083999e-04  -1.48771986e-04  -6.32090145e-04   4.27067687e-04\n",
      "  -1.31358253e-03  -4.19221260e-03  -4.14320687e-03  -2.51646852e-04\n",
      "   4.93529718e-03  -2.65113171e-03   1.59865979e-03  -4.76350635e-03\n",
      "  -4.08400781e-03   4.30024369e-03  -6.97691750e-04  -2.04992690e-03\n",
      "   2.77212705e-04  -3.37057770e-03  -2.22124625e-03   1.38305523e-03\n",
      "  -3.64775863e-03  -7.50715262e-04   1.40830327e-03   3.64396302e-03\n",
      "   1.64683687e-03  -6.57017692e-04   4.96971188e-03  -7.32431712e-04\n",
      "   6.55980606e-04  -3.61514464e-03  -4.03692527e-03  -4.05923493e-04\n",
      "   9.77427466e-04   2.89276498e-03  -1.73144147e-03  -1.26472826e-03\n",
      "   1.47936575e-03   3.56514193e-03  -4.79878392e-04   2.37475941e-03]\n"
     ]
    }
   ],
   "source": [
    "from gensim.models import Word2Vec\n",
    "# define training data\n",
    "sentences = [['this', 'is', 'the', 'first', 'sentence', 'for', 'word2vec'],\n",
    "\t\t\t['this', 'is', 'the', 'second', 'sentence'],\n",
    "\t\t\t['yet', 'another', 'sentence'],\n",
    "\t\t\t['one', 'more', 'sentence'],\n",
    "\t\t\t['and', 'the', 'final', 'sentence']]\n",
    "# train model\n",
    "model = Word2Vec(sentences, min_count=1)\n",
    "# summarize the loaded model\n",
    "print(model)\n",
    "# summarize vocabulary\n",
    "words = list(model.wv.vocab)\n",
    "print(words)\n",
    "# access vector for one word\n",
    "print(model['sentence'])"
   ]
  },
  {
   "cell_type": "code",
   "execution_count": null,
   "metadata": {},
   "outputs": [],
   "source": []
  }
 ],
 "metadata": {
  "kernelspec": {
   "display_name": "Python 3",
   "language": "python",
   "name": "python3"
  },
  "language_info": {
   "codemirror_mode": {
    "name": "ipython",
    "version": 3
   },
   "file_extension": ".py",
   "mimetype": "text/x-python",
   "name": "python",
   "nbconvert_exporter": "python",
   "pygments_lexer": "ipython3",
   "version": "3.6.3"
  }
 },
 "nbformat": 4,
 "nbformat_minor": 2
}
