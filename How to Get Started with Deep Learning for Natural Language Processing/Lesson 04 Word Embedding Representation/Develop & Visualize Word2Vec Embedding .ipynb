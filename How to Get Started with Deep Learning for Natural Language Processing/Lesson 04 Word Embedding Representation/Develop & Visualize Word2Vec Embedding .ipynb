{
 "cells": [
  {
   "cell_type": "code",
   "execution_count": 24,
   "metadata": {},
   "outputs": [
    {
     "name": "stdout",
     "output_type": "stream",
     "text": [
      "Word2Vec(vocab=14, size=100, alpha=0.025)\n"
     ]
    }
   ],
   "source": [
    "from gensim.models import Word2Vec\n",
    "# define training data\n",
    "sentences = [['this', 'is', 'the', 'first', 'sentence', 'for', 'word2vec'],\n",
    "\t\t\t['this', 'is', 'the', 'second', 'sentence'],\n",
    "\t\t\t['yet', 'another', 'sentence'],\n",
    "\t\t\t['one', 'more', 'sentence'],\n",
    "\t\t\t['and', 'the', 'final', 'sentence']]\n",
    "# train model\n",
    "model = Word2Vec(sentences, min_count=1)\n",
    "# summarize the loaded model\n",
    "print(model)\n"
   ]
  },
  {
   "cell_type": "raw",
   "metadata": {},
   "source": [
    "size: (default 100) The number of dimensions of the embedding, e.g. the length of the dense vector to represent each token (word).\n",
    "\n",
    "window: (default 5) The maximum distance between a target word and words around the target word.\n",
    "\n",
    "min_count: (default 5) The minimum count of words to consider when training the model; words with an occurrence less than this count will be ignored.\n",
    "\n",
    "workers: (default 3) The number of threads to use while training.\n",
    "sg: (default 0 or CBOW) The training algorithm, either CBOW (0) or skip gram (1)."
   ]
  },
  {
   "cell_type": "code",
   "execution_count": 25,
   "metadata": {},
   "outputs": [
    {
     "name": "stdout",
     "output_type": "stream",
     "text": [
      "['this', 'is', 'the', 'first', 'sentence', 'for', 'word2vec', 'second', 'yet', 'another', 'one', 'more', 'and', 'final']\n"
     ]
    }
   ],
   "source": [
    "#After the model is trained, it is accessible via the “wv” attribute. \n",
    "#This is the actual word vector model in which queries can be made.\n",
    "\n",
    "# summarize vocabulary\n",
    "words = list(model.wv.vocab)\n",
    "print(words)\n"
   ]
  },
  {
   "cell_type": "code",
   "execution_count": 26,
   "metadata": {},
   "outputs": [
    {
     "name": "stdout",
     "output_type": "stream",
     "text": [
      "[ 0.00359071 -0.00239273 -0.00472285 -0.00242615 -0.0045294   0.00388181\n",
      " -0.00257135 -0.00450369 -0.00225304  0.00347563  0.00495925 -0.00494909\n",
      "  0.0034487  -0.00160662  0.00289214 -0.00410676  0.00493316 -0.00481067\n",
      " -0.00395473 -0.00089911 -0.00153712 -0.00097157  0.00107157 -0.00338819\n",
      " -0.00496294 -0.00463319 -0.00151178 -0.00013494  0.00393671 -0.00347547\n",
      " -0.00363156  0.000585   -0.00183517 -0.00088445 -0.00447844  0.00237723\n",
      " -0.00185095 -0.00203011  0.00174351  0.0042939   0.00118095  0.00158426\n",
      "  0.00067656 -0.00191532  0.00448005 -0.00470267 -0.00304539 -0.00412327\n",
      " -0.00050854  0.0007797  -0.0024549   0.00372102 -0.0038551  -0.0036776\n",
      "  0.00454624 -0.00369002  0.00061623  0.00065687  0.00342428  0.00340039\n",
      " -0.0023372   0.00064603  0.0048066   0.00386124  0.00195328  0.00356755\n",
      " -0.0046124   0.00063915 -0.00130496  0.00054144  0.00273504 -0.00047079\n",
      "  0.00052322  0.00028752 -0.00085022 -0.00441497  0.00223993  0.00286568\n",
      "  0.00056154  0.00306662  0.0036917   0.00245     0.00359884 -0.002971\n",
      "  0.00264595  0.00327236 -0.0015905  -0.00223592  0.00319531  0.00420231\n",
      " -0.00168461 -0.00234533 -0.00172596  0.00189771  0.00289726  0.00172983\n",
      "  0.00241542  0.00232498  0.00096109  0.00381945]\n"
     ]
    }
   ],
   "source": [
    "print(model['first'])"
   ]
  },
  {
   "cell_type": "code",
   "execution_count": 27,
   "metadata": {},
   "outputs": [
    {
     "name": "stdout",
     "output_type": "stream",
     "text": [
      "[ -4.45081340e-03   3.48996744e-03   4.43060556e-03  -2.32827151e-03\n",
      "  -3.44369211e-03  -1.08549220e-03   2.37962790e-03  -3.04407586e-04\n",
      "   3.10452329e-03   1.59857795e-03   1.82099850e-03   4.87838686e-03\n",
      "  -4.22619283e-03   2.68613244e-03  -3.74447624e-03   1.23687950e-03\n",
      "  -4.06683097e-03   1.05514773e-03   1.44566805e-03  -2.54822313e-04\n",
      "   1.75854994e-03  -3.40501801e-03  -1.37322361e-03  -1.31301244e-03\n",
      "  -4.27579600e-03  -4.66051744e-03  -4.88745980e-03  -2.87992926e-03\n",
      "   4.33907285e-03  -2.17840425e-03  -2.43799109e-03  -1.22931786e-04\n",
      "   2.74358172e-04   4.67827660e-04  -1.07263029e-03   3.03906226e-03\n",
      "   3.55150132e-03   1.79673010e-03  -4.67802724e-03  -4.77317162e-03\n",
      "  -1.70708995e-03   4.85119922e-03  -2.00120732e-03  -3.66813224e-03\n",
      "  -3.92109761e-03  -3.09508061e-03   1.82569155e-03  -9.70274035e-04\n",
      "   1.56809721e-04   2.90958304e-03   3.20330705e-03   2.29376392e-03\n",
      "   2.04983098e-03   7.82689312e-04  -8.71525321e-04   4.00020136e-03\n",
      "  -9.81651479e-04   3.28705204e-03   3.38363643e-05   3.51259019e-04\n",
      "   3.76329944e-03  -9.34792391e-04   3.39599443e-04  -4.06384235e-04\n",
      "  -1.50916621e-03  -4.16775420e-03  -2.91456282e-03  -9.83645557e-04\n",
      "  -4.70695365e-03  -3.42336320e-03  -4.23937663e-03   2.19973898e-03\n",
      "  -2.39428994e-03   4.93872259e-03   3.21643008e-03  -9.14823555e-04\n",
      "   4.78240056e-03   2.72703520e-03   4.47322428e-03  -2.28635292e-03\n",
      "   4.87151369e-03   1.76540460e-03  -4.70365910e-03   4.16711345e-03\n",
      "  -3.36162350e-03   1.60807616e-03   2.81042233e-03  -2.24630767e-03\n",
      "  -3.03523545e-03   1.09629997e-03  -1.57315005e-03  -1.82072492e-03\n",
      "   2.18639337e-03   3.97844613e-03  -4.15306631e-03   3.27497558e-03\n",
      "   2.90056341e-04  -2.41030217e-03   1.31275202e-03   3.72753525e-03]\n"
     ]
    }
   ],
   "source": [
    "# access vector for one word\n",
    "print(model['sentence'])"
   ]
  },
  {
   "cell_type": "code",
   "execution_count": 28,
   "metadata": {},
   "outputs": [],
   "source": [
    "# save model\n",
    "model.save('model.bin')\n",
    "\n"
   ]
  },
  {
   "cell_type": "raw",
   "metadata": {},
   "source": [
    "By default, the model is saved in a binary format to save space. \n",
    "For example:\n",
    "model.wv.save_word2vec_format('model.bin')\n",
    "\n",
    "When getting started, you can save the learned model in ASCII format and review the contents.\n",
    "You can do this by setting binary=False when calling the save_word2vec_format() function, \n",
    "for example:\n",
    "model.wv.save_word2vec_format('model.txt', binary=False)\n",
    "\n",
    "The saved model can then be loaded again by calling the Word2Vec.load() function. \n",
    "For example:\n",
    "model = Word2Vec.load('model.bin')\n",
    "\n",
    "We can tie all of this together with a worked example.\n",
    "Rather than loading a large text document or corpus from file, we will work with a small, in-memory list of pre-tokenized sentences. \n",
    "The model is trained and the minimum count for words is set to 1 so that no words are ignored."
   ]
  },
  {
   "cell_type": "code",
   "execution_count": 29,
   "metadata": {},
   "outputs": [
    {
     "name": "stdout",
     "output_type": "stream",
     "text": [
      "Word2Vec(vocab=14, size=100, alpha=0.025)\n"
     ]
    }
   ],
   "source": [
    "# load model\n",
    "new_model = Word2Vec.load('model.bin')\n",
    "print(new_model)"
   ]
  },
  {
   "cell_type": "code",
   "execution_count": 31,
   "metadata": {},
   "outputs": [],
   "source": [
    "from sklearn.decomposition import PCA\n",
    "\n",
    "\n",
    "# fit a 2d PCA model to the vectors\n",
    "X = model[model.wv.vocab]\n",
    "pca = PCA(n_components=2)\n",
    "result = pca.fit_transform(X)\n"
   ]
  },
  {
   "cell_type": "code",
   "execution_count": 32,
   "metadata": {},
   "outputs": [
    {
     "data": {
      "image/png": "[encoded data removed]",
      "text/plain": [
       "<matplotlib.figure.Figure at 0x25afbb00748>"
      ]
     },
     "metadata": {},
     "output_type": "display_data"
    }
   ],
   "source": [
    "from matplotlib import pyplot\n",
    "# create a scatter plot of the projection\n",
    "\n",
    "pyplot.scatter(result[:, 0], result[:, 1])\n",
    "words = list(model.wv.vocab)\n",
    "for i, word in enumerate(words):\n",
    "\tpyplot.annotate(word, xy=(result[i, 0], result[i, 1]))\n",
    "pyplot.show()"
   ]
  },
  {
   "cell_type": "code",
   "execution_count": null,
   "metadata": {},
   "outputs": [],
   "source": []
  }
 ],
 "metadata": {
  "kernelspec": {
   "display_name": "Python 3",
   "language": "python",
   "name": "python3"
  },
  "language_info": {
   "codemirror_mode": {
    "name": "ipython",
    "version": 3
   },
   "file_extension": ".py",
   "mimetype": "text/x-python",
   "name": "python",
   "nbconvert_exporter": "python",
   "pygments_lexer": "ipython3",
   "version": "3.6.3"
  }
 },
 "nbformat": 4,
 "nbformat_minor": 2
}
