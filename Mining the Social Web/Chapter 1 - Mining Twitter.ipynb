{
 "cells": [
  {
   "cell_type": "markdown",
   "metadata": {},
   "source": [
    "#Mining the Social Web, 2nd Edition\n",
    "\n",
    "##Chapter 1: Mining Twitter: Exploring Trending Topics, Discovering What People Are Talking About, and More\n",
    "\n",
    "This IPython Notebook provides an interactive way to follow along with and explore the numbered examples from [_Mining the Social Web (2nd Edition)_](http://bit.ly/135dHfs). The intent behind this notebook is to reinforce the concepts from the sample code in a fun, convenient, and effective way. This notebook assumes that you are reading along with the book and have the context of the discussion as you work through these exercises.\n",
    "\n",
    "In the somewhat unlikely event that you've somehow stumbled across this notebook outside of its context on GitHub, [you can find the full source code repository here](http://bit.ly/16kGNyb).\n",
    "\n",
    "## Copyright and Licensing\n",
    "\n",
    "You are free to use or adapt this notebook for any purpose you'd like. However, please respect the [Simplified BSD License](https://github.com/ptwobrussell/Mining-the-Social-Web-2nd-Edition/blob/master/LICENSE.txt) that governs its use."
   ]
  },
  {
   "cell_type": "markdown",
   "metadata": {},
   "source": [
    "# Twitter API Access\n",
    "\n",
    "Twitter implements OAuth 1.0A as its standard authentication mechanism, and in order to use it to make requests to Twitter's API, you'll need to go to https://dev.twitter.com/apps and create a sample application. There are four primary identifiers you'll need to note for an OAuth 1.0A workflow: consumer key, consumer secret, access token, and access token secret. Note that you will need an ordinary Twitter account in order to login, create an app, and get these credentials.\n",
    "\n",
    "<img src=\"files/resources/ch01-twitter/images/Twitter-AppCredentials.png\" width=\"600px\">"
   ]
  },
  {
   "cell_type": "markdown",
   "metadata": {},
   "source": [
    "If you are taking advantage of the virtual machine experience for this chapter that is powered by Vagrant, you should just be able to execute the code in this notebook without any worries whatsoever about installing dependencies. If you are running the code from your own development envioronment, however, be advised that these examples in this chapter take advantage of a Python package called [twitter](https://github.com/sixohsix/twitter) to make API calls. You can install this package in a terminal with [pip](https://pypi.python.org/pypi/pip) with the command `pip install twitter`, preferably from within a [Python virtual environment](https://pypi.python.org/pypi/virtualenv). "
   ]
  },
  {
   "cell_type": "markdown",
   "metadata": {},
   "source": [
    "Once installed, you should be able to open up a Python interpreter (or better yet, your [IPython](http://ipython.org/) interpreter) and get rolling."
   ]
  },
  {
   "cell_type": "markdown",
   "metadata": {},
   "source": [
    "## Example 1. Authorizing an application to access Twitter account data"
   ]
  },
  {
   "cell_type": "code",
   "execution_count": 1,
   "metadata": {},
   "outputs": [
    {
     "name": "stdout",
     "output_type": "stream",
     "text": [
      "<twitter.api.Twitter object at 0x0000017FC6395C50>\n"
     ]
    }
   ],
   "source": [
    "import twitter\n",
    "\n",
    "# XXX: Go to http://dev.twitter.com/apps/new to create an app and get values\n",
    "# for these credentials, which you'll need to provide in place of these\n",
    "# empty string values that are defined as placeholders.\n",
    "# See https://dev.twitter.com/docs/auth/oauth for more information \n",
    "# on Twitter's OAuth implementation.\n",
    "\n",
    "CONSUMER_KEY = 'b2a5ZEs5hDPJNv16I392Pi9E7'\n",
    "CONSUMER_SECRET ='G7WW7PAEmOP39jaQjqvxpLV7YgF1G1QS90QMH0pKmK88un8eHX'\n",
    "OAUTH_TOKEN = '319052563-IQ2zT07FN9BEhVs6Vgb6NaduB9To32bmqVF8LJ1C'\n",
    "OAUTH_TOKEN_SECRET = 'x31vrAHRXCxKZgYXQWHWPv8YCwPVP1n9NHDo9tJ44xDJ1'\n",
    "\n",
    "auth = twitter.oauth.OAuth(OAUTH_TOKEN, OAUTH_TOKEN_SECRET,\n",
    "                           CONSUMER_KEY, CONSUMER_SECRET)\n",
    "\n",
    "twitter_api = twitter.Twitter(auth=auth)\n",
    "\n",
    "# Nothing to see by displaying twitter_api except that it's now a\n",
    "# defined variable\n",
    "\n",
    "print (twitter_api)"
   ]
  },
  {
   "cell_type": "markdown",
   "metadata": {},
   "source": [
    "## Example 2. Retrieving trends"
   ]
  },
  {
   "cell_type": "code",
   "execution_count": 2,
   "metadata": {},
   "outputs": [
    {
     "name": "stdout",
     "output_type": "stream",
     "text": [
      "[{'trends': [{'name': '#Budget2017', 'url': 'http://twitter.com/search?q=%23Budget2017', 'promoted_content': None, 'query': '%23Budget2017', 'tweet_volume': 46834}, {'name': '#PMQs', 'url': 'http://twitter.com/search?q=%23PMQs', 'promoted_content': None, 'query': '%23PMQs', 'tweet_volume': None}, {'name': 'Ratko Mladic', 'url': 'http://twitter.com/search?q=%22Ratko+Mladic%22', 'promoted_content': None, 'query': '%22Ratko+Mladic%22', 'tweet_volume': 51139}, {'name': '#FelizMiercoles', 'url': 'http://twitter.com/search?q=%23FelizMiercoles', 'promoted_content': None, 'query': '%23FelizMiercoles', 'tweet_volume': 20013}, {'name': '#DiadelaMusica', 'url': 'http://twitter.com/search?q=%23DiadelaMusica', 'promoted_content': None, 'query': '%23DiadelaMusica', 'tweet_volume': 11598}, {'name': '#WednesdayWisdom', 'url': 'http://twitter.com/search?q=%23WednesdayWisdom', 'promoted_content': None, 'query': '%23WednesdayWisdom', 'tweet_volume': 33413}, {'name': '夫婦の日', 'url': 'http://twitter.com/search?q=%E5%A4%AB%E5%A9%A6%E3%81%AE%E6%97%A5', 'promoted_content': None, 'query': '%E5%A4%AB%E5%A9%A6%E3%81%AE%E6%97%A5', 'tweet_volume': 192168}, {'name': '스폰지밥', 'url': 'http://twitter.com/search?q=%EC%8A%A4%ED%8F%B0%EC%A7%80%EB%B0%A5', 'promoted_content': None, 'query': '%EC%8A%A4%ED%8F%B0%EC%A7%80%EB%B0%A5', 'tweet_volume': 10217}, {'name': \"Nur Yerlitaş'tan\", 'url': 'http://twitter.com/search?q=%22Nur+Yerlita%C5%9F%27tan%22', 'promoted_content': None, 'query': '%22Nur+Yerlita%C5%9F%27tan%22', 'tweet_volume': None}, {'name': 'Anthony e Rosinha Garotinho', 'url': 'http://twitter.com/search?q=%22Anthony+e+Rosinha+Garotinho%22', 'promoted_content': None, 'query': '%22Anthony+e+Rosinha+Garotinho%22', 'tweet_volume': None}, {'name': 'Bosna Kasabı', 'url': 'http://twitter.com/search?q=%22Bosna+Kasab%C4%B1%22', 'promoted_content': None, 'query': '%22Bosna+Kasab%C4%B1%22', 'tweet_volume': None}, {'name': 'Isaac Go', 'url': 'http://twitter.com/search?q=%22Isaac+Go%22', 'promoted_content': None, 'query': '%22Isaac+Go%22', 'tweet_volume': 10288}, {'name': 'Happy Thanksgiving Eve', 'url': 'http://twitter.com/search?q=%22Happy+Thanksgiving+Eve%22', 'promoted_content': None, 'query': '%22Happy+Thanksgiving+Eve%22', 'tweet_volume': None}, {'name': 'Don King', 'url': 'http://twitter.com/search?q=%22Don+King%22', 'promoted_content': None, 'query': '%22Don+King%22', 'tweet_volume': 15688}, {'name': 'Nick Carter', 'url': 'http://twitter.com/search?q=%22Nick+Carter%22', 'promoted_content': None, 'query': '%22Nick+Carter%22', 'tweet_volume': None}, {'name': '이국종', 'url': 'http://twitter.com/search?q=%EC%9D%B4%EA%B5%AD%EC%A2%85', 'promoted_content': None, 'query': '%EC%9D%B4%EA%B5%AD%EC%A2%85', 'tweet_volume': 50566}, {'name': '김관진 석방', 'url': 'http://twitter.com/search?q=%22%EA%B9%80%EA%B4%80%EC%A7%84+%EC%84%9D%EB%B0%A9%22', 'promoted_content': None, 'query': '%22%EA%B9%80%EA%B4%80%EC%A7%84+%EC%84%9D%EB%B0%A9%22', 'tweet_volume': None}, {'name': 'コミティア', 'url': 'http://twitter.com/search?q=%E3%82%B3%E3%83%9F%E3%83%86%E3%82%A3%E3%82%A2', 'promoted_content': None, 'query': '%E3%82%B3%E3%83%9F%E3%83%86%E3%82%A3%E3%82%A2', 'tweet_volume': 42475}, {'name': 'Ateneo', 'url': 'http://twitter.com/search?q=Ateneo', 'promoted_content': None, 'query': 'Ateneo', 'tweet_volume': 23751}, {'name': '笑ってコラえて', 'url': 'http://twitter.com/search?q=%E7%AC%91%E3%81%A3%E3%81%A6%E3%82%B3%E3%83%A9%E3%81%88%E3%81%A6', 'promoted_content': None, 'query': '%E7%AC%91%E3%81%A3%E3%81%A6%E3%82%B3%E3%83%A9%E3%81%88%E3%81%A6', 'tweet_volume': 11237}, {'name': '#AguanteToto', 'url': 'http://twitter.com/search?q=%23AguanteToto', 'promoted_content': None, 'query': '%23AguanteToto', 'tweet_volume': 22355}, {'name': '#22Nov', 'url': 'http://twitter.com/search?q=%2322Nov', 'promoted_content': None, 'query': '%2322Nov', 'tweet_volume': 10369}, {'name': '#Beautiful1stWin', 'url': 'http://twitter.com/search?q=%23Beautiful1stWin', 'promoted_content': None, 'query': '%23Beautiful1stWin', 'tweet_volume': 40073}, {'name': '#صباح_الاحمد', 'url': 'http://twitter.com/search?q=%23%D8%B5%D8%A8%D8%A7%D8%AD_%D8%A7%D9%84%D8%A7%D8%AD%D9%85%D8%AF', 'promoted_content': None, 'query': '%23%D8%B5%D8%A8%D8%A7%D8%AD_%D8%A7%D9%84%D8%A7%D8%AD%D9%85%D8%AF', 'tweet_volume': 16973}, {'name': '#ConteUmSegredoSeu', 'url': 'http://twitter.com/search?q=%23ConteUmSegredoSeu', 'promoted_content': None, 'query': '%23ConteUmSegredoSeu', 'tweet_volume': None}, {'name': '#いいツインテールの日', 'url': 'http://twitter.com/search?q=%23%E3%81%84%E3%81%84%E3%83%84%E3%82%A4%E3%83%B3%E3%83%86%E3%83%BC%E3%83%AB%E3%81%AE%E6%97%A5', 'promoted_content': None, 'query': '%23%E3%81%84%E3%81%84%E3%83%84%E3%82%A4%E3%83%B3%E3%83%86%E3%83%BC%E3%83%AB%E3%81%AE%E6%97%A5', 'tweet_volume': 65316}, {'name': '#OTDirecto22N', 'url': 'http://twitter.com/search?q=%23OTDirecto22N', 'promoted_content': None, 'query': '%23OTDirecto22N', 'tweet_volume': None}, {'name': '#아미_툽살려라', 'url': 'http://twitter.com/search?q=%23%EC%95%84%EB%AF%B8_%ED%88%BD%EC%82%B4%EB%A0%A4%EB%9D%BC', 'promoted_content': None, 'query': '%23%EC%95%84%EB%AF%B8_%ED%88%BD%EC%82%B4%EB%A0%A4%EB%9D%BC', 'tweet_volume': 88394}, {'name': '#غرد_ببيت_شعر_ولا_خاطره', 'url': 'http://twitter.com/search?q=%23%D8%BA%D8%B1%D8%AF_%D8%A8%D8%A8%D9%8A%D8%AA_%D8%B4%D8%B9%D8%B1_%D9%88%D9%84%D8%A7_%D8%AE%D8%A7%D8%B7%D8%B1%D9%87', 'promoted_content': None, 'query': '%23%D8%BA%D8%B1%D8%AF_%D8%A8%D8%A8%D9%8A%D8%AA_%D8%B4%D8%B9%D8%B1_%D9%88%D9%84%D8%A7_%D8%AE%D8%A7%D8%B7%D8%B1%D9%87', 'tweet_volume': 78378}, {'name': '#hairyarchives', 'url': 'http://twitter.com/search?q=%23hairyarchives', 'promoted_content': None, 'query': '%23hairyarchives', 'tweet_volume': None}, {'name': '#BrahMos', 'url': 'http://twitter.com/search?q=%23BrahMos', 'promoted_content': None, 'query': '%23BrahMos', 'tweet_volume': None}, {'name': '#امطار_الرياض', 'url': 'http://twitter.com/search?q=%23%D8%A7%D9%85%D8%B7%D8%A7%D8%B1_%D8%A7%D9%84%D8%B1%D9%8A%D8%A7%D8%B6', 'promoted_content': None, 'query': '%23%D8%A7%D9%85%D8%B7%D8%A7%D8%B1_%D8%A7%D9%84%D8%B1%D9%8A%D8%A7%D8%B6', 'tweet_volume': 66718}, {'name': '#MsbKaynakBedelli', 'url': 'http://twitter.com/search?q=%23MsbKaynakBedelli', 'promoted_content': None, 'query': '%23MsbKaynakBedelli', 'tweet_volume': 17882}, {'name': '#زد_رصيدك51', 'url': 'http://twitter.com/search?q=%23%D8%B2%D8%AF_%D8%B1%D8%B5%D9%8A%D8%AF%D9%8351', 'promoted_content': None, 'query': '%23%D8%B2%D8%AF_%D8%B1%D8%B5%D9%8A%D8%AF%D9%8351', 'tweet_volume': 23078}, {'name': '#Los44', 'url': 'http://twitter.com/search?q=%23Los44', 'promoted_content': None, 'query': '%23Los44', 'tweet_volume': 11689}, {'name': '#الاهلي_يعتذر_للشباب', 'url': 'http://twitter.com/search?q=%23%D8%A7%D9%84%D8%A7%D9%87%D9%84%D9%8A_%D9%8A%D8%B9%D8%AA%D8%B0%D8%B1_%D9%84%D9%84%D8%B4%D8%A8%D8%A7%D8%A8', 'promoted_content': None, 'query': '%23%D8%A7%D9%84%D8%A7%D9%87%D9%84%D9%8A_%D9%8A%D8%B9%D8%AA%D8%B0%D8%B1_%D9%84%D9%84%D8%B4%D8%A8%D8%A7%D8%A8', 'tweet_volume': 20091}, {'name': '#QuartaDetremuraSDV', 'url': 'http://twitter.com/search?q=%23QuartaDetremuraSDV', 'promoted_content': None, 'query': '%23QuartaDetremuraSDV', 'tweet_volume': 12883}, {'name': '#HafizSaeed', 'url': 'http://twitter.com/search?q=%23HafizSaeed', 'promoted_content': None, 'query': '%23HafizSaeed', 'tweet_volume': None}, {'name': '#Paylaşmakİstedim', 'url': 'http://twitter.com/search?q=%23Payla%C5%9Fmak%C4%B0stedim', 'promoted_content': None, 'query': '%23Payla%C5%9Fmak%C4%B0stedim', 'tweet_volume': None}, {'name': '#ChatDelOdioM4', 'url': 'http://twitter.com/search?q=%23ChatDelOdioM4', 'promoted_content': None, 'query': '%23ChatDelOdioM4', 'tweet_volume': None}, {'name': '#JeQuitteLaSG', 'url': 'http://twitter.com/search?q=%23JeQuitteLaSG', 'promoted_content': None, 'query': '%23JeQuitteLaSG', 'tweet_volume': None}, {'name': '#aibou', 'url': 'http://twitter.com/search?q=%23aibou', 'promoted_content': None, 'query': '%23aibou', 'tweet_volume': None}, {'name': '#MaineOnTheJollyShow', 'url': 'http://twitter.com/search?q=%23MaineOnTheJollyShow', 'promoted_content': None, 'query': '%23MaineOnTheJollyShow', 'tweet_volume': 123642}, {'name': '#BlackFridayEsPcComponentes', 'url': 'http://twitter.com/search?q=%23BlackFridayEsPcComponentes', 'promoted_content': None, 'query': '%23BlackFridayEsPcComponentes', 'tweet_volume': None}, {'name': '#كلنا_للوطن', 'url': 'http://twitter.com/search?q=%23%D9%83%D9%84%D9%86%D8%A7_%D9%84%D9%84%D9%88%D8%B7%D9%86', 'promoted_content': None, 'query': '%23%D9%83%D9%84%D9%86%D8%A7_%D9%84%D9%84%D9%88%D8%B7%D9%86', 'tweet_volume': 10483}, {'name': '#EuropeanSemester', 'url': 'http://twitter.com/search?q=%23EuropeanSemester', 'promoted_content': None, 'query': '%23EuropeanSemester', 'tweet_volume': None}, {'name': '#HainsinFGülen', 'url': 'http://twitter.com/search?q=%23HainsinFG%C3%BClen', 'promoted_content': None, 'query': '%23HainsinFG%C3%BClen', 'tweet_volume': None}, {'name': '#MORCILENTOS', 'url': 'http://twitter.com/search?q=%23MORCILENTOS', 'promoted_content': None, 'query': '%23MORCILENTOS', 'tweet_volume': None}, {'name': '#newsrw', 'url': 'http://twitter.com/search?q=%23newsrw', 'promoted_content': None, 'query': '%23newsrw', 'tweet_volume': None}, {'name': '#RiveraM4', 'url': 'http://twitter.com/search?q=%23RiveraM4', 'promoted_content': None, 'query': '%23RiveraM4', 'tweet_volume': None}], 'as_of': '2017-11-22T13:03:29Z', 'created_at': '2017-11-22T12:57:04Z', 'locations': [{'name': 'Worldwide', 'woeid': 1}]}]\n"
     ]
    }
   ],
   "source": [
    "# The Yahoo! Where On Earth ID for the entire world is 1.\n",
    "# See https://dev.twitter.com/docs/api/1.1/get/trends/place and\n",
    "# http://developer.yahoo.com/geo/geoplanet/\n",
    "\n",
    "WORLD_WOE_ID = 1\n",
    "US_WOE_ID = 23424977\n",
    "\n",
    "# Prefix ID with the underscore for query string parameterization.\n",
    "# Without the underscore, the twitter package appends the ID value\n",
    "# to the URL itself as a special case keyword argument.\n",
    "\n",
    "world_trends = twitter_api.trends.place(_id=WORLD_WOE_ID)\n",
    "us_trends = twitter_api.trends.place(_id=US_WOE_ID)\n",
    "\n",
    "print (world_trends)\n",
    "\n"
   ]
  },
  {
   "cell_type": "markdown",
   "metadata": {},
   "source": [
    "## Example 3. Displaying API responses as pretty-printed JSON"
   ]
  },
  {
   "cell_type": "code",
   "execution_count": 3,
   "metadata": {},
   "outputs": [
    {
     "name": "stdout",
     "output_type": "stream",
     "text": [
      "[{'trends': [{'name': '#WednesdayWisdom', 'url': 'http://twitter.com/search?q=%23WednesdayWisdom', 'promoted_content': None, 'query': '%23WednesdayWisdom', 'tweet_volume': 33938}, {'name': 'Happy Thanksgiving Eve', 'url': 'http://twitter.com/search?q=%22Happy+Thanksgiving+Eve%22', 'promoted_content': None, 'query': '%22Happy+Thanksgiving+Eve%22', 'tweet_volume': None}, {'name': 'Don King', 'url': 'http://twitter.com/search?q=%22Don+King%22', 'promoted_content': None, 'query': '%22Don+King%22', 'tweet_volume': 16435}, {'name': 'Ratko Mladic', 'url': 'http://twitter.com/search?q=%22Ratko+Mladic%22', 'promoted_content': None, 'query': '%22Ratko+Mladic%22', 'tweet_volume': 51815}, {'name': 'US Navy', 'url': 'http://twitter.com/search?q=%22US+Navy%22', 'promoted_content': None, 'query': '%22US+Navy%22', 'tweet_volume': 20075}, {'name': '#NetNeutraility', 'url': 'http://twitter.com/search?q=%23NetNeutraility', 'promoted_content': None, 'query': '%23NetNeutraility', 'tweet_volume': 17306}, {'name': \"We're LIVE ON-AIR\", 'url': 'http://twitter.com/search?q=%22We%27re+LIVE+ON-AIR%22', 'promoted_content': None, 'query': '%22We%27re+LIVE+ON-AIR%22', 'tweet_volume': None}, {'name': 'USS Ronald Reagan', 'url': 'http://twitter.com/search?q=%22USS+Ronald+Reagan%22', 'promoted_content': None, 'query': '%22USS+Ronald+Reagan%22', 'tweet_volume': None}, {'name': 'Dmitri Hvorostovsky', 'url': 'http://twitter.com/search?q=%22Dmitri+Hvorostovsky%22', 'promoted_content': None, 'query': '%22Dmitri+Hvorostovsky%22', 'tweet_volume': None}, {'name': '#Budget2017', 'url': 'http://twitter.com/search?q=%23Budget2017', 'promoted_content': None, 'query': '%23Budget2017', 'tweet_volume': 51424}, {'name': 'The Women', 'url': 'http://twitter.com/search?q=%22The+Women%22', 'promoted_content': None, 'query': '%22The+Women%22', 'tweet_volume': 53873}, {'name': 'North End', 'url': 'http://twitter.com/search?q=%22North+End%22', 'promoted_content': None, 'query': '%22North+End%22', 'tweet_volume': None}, {'name': '#WhenTheFishIsAway', 'url': 'http://twitter.com/search?q=%23WhenTheFishIsAway', 'promoted_content': None, 'query': '%23WhenTheFishIsAway', 'tweet_volume': None}, {'name': 'John F. Kennedy', 'url': 'http://twitter.com/search?q=%22John+F.+Kennedy%22', 'promoted_content': None, 'query': '%22John+F.+Kennedy%22', 'tweet_volume': None}, {'name': 'Record High', 'url': 'http://twitter.com/search?q=%22Record+High%22', 'promoted_content': None, 'query': '%22Record+High%22', 'tweet_volume': None}, {'name': '#Turnpike', 'url': 'http://twitter.com/search?q=%23Turnpike', 'promoted_content': None, 'query': '%23Turnpike', 'tweet_volume': None}, {'name': 'University Blvd', 'url': 'http://twitter.com/search?q=%22University+Blvd%22', 'promoted_content': None, 'query': '%22University+Blvd%22', 'tweet_volume': None}, {'name': 'Lisa Murkowski', 'url': 'http://twitter.com/search?q=%22Lisa+Murkowski%22', 'promoted_content': None, 'query': '%22Lisa+Murkowski%22', 'tweet_volume': None}, {'name': 'Remembering David Cassidy', 'url': 'http://twitter.com/search?q=%22Remembering+David+Cassidy%22', 'promoted_content': None, 'query': '%22Remembering+David+Cassidy%22', 'tweet_volume': None}, {'name': 'Waterbury', 'url': 'http://twitter.com/search?q=Waterbury', 'promoted_content': None, 'query': 'Waterbury', 'tweet_volume': None}, {'name': 'U.S Rep. John Conyers', 'url': 'http://twitter.com/search?q=%22U.S+Rep.+John+Conyers%22', 'promoted_content': None, 'query': '%22U.S+Rep.+John+Conyers%22', 'tweet_volume': None}, {'name': 'Immediately Calling', 'url': 'http://twitter.com/search?q=%22Immediately+Calling%22', 'promoted_content': None, 'query': '%22Immediately+Calling%22', 'tweet_volume': None}, {'name': 'Mnangagwa', 'url': 'http://twitter.com/search?q=Mnangagwa', 'promoted_content': None, 'query': 'Mnangagwa', 'tweet_volume': 32505}, {'name': 'CAUGHT ON VIDEO', 'url': 'http://twitter.com/search?q=%22CAUGHT+ON+VIDEO%22', 'promoted_content': None, 'query': '%22CAUGHT+ON+VIDEO%22', 'tweet_volume': None}, {'name': 'I-40', 'url': 'http://twitter.com/search?q=I-40', 'promoted_content': None, 'query': 'I-40', 'tweet_volume': 51175}, {'name': 'Michael Hutchence', 'url': 'http://twitter.com/search?q=%22Michael+Hutchence%22', 'promoted_content': None, 'query': '%22Michael+Hutchence%22', 'tweet_volume': None}, {'name': 'Charlie Rose', 'url': 'http://twitter.com/search?q=%22Charlie+Rose%22', 'promoted_content': None, 'query': '%22Charlie+Rose%22', 'tweet_volume': 175978}, {'name': 'Black Friday', 'url': 'http://twitter.com/search?q=%22Black+Friday%22', 'promoted_content': None, 'query': '%22Black+Friday%22', 'tweet_volume': 400790}, {'name': 'Animal Crossing', 'url': 'http://twitter.com/search?q=%22Animal+Crossing%22', 'promoted_content': None, 'query': '%22Animal+Crossing%22', 'tweet_volume': 144481}, {'name': '#ICTY', 'url': 'http://twitter.com/search?q=%23ICTY', 'promoted_content': None, 'query': '%23ICTY', 'tweet_volume': None}, {'name': '#TISL', 'url': 'http://twitter.com/search?q=%23TISL', 'promoted_content': None, 'query': '%23TISL', 'tweet_volume': None}, {'name': '#clttraffic', 'url': 'http://twitter.com/search?q=%23clttraffic', 'promoted_content': None, 'query': '%23clttraffic', 'tweet_volume': None}, {'name': '#iamup', 'url': 'http://twitter.com/search?q=%23iamup', 'promoted_content': None, 'query': '%23iamup', 'tweet_volume': None}, {'name': '#GMRVA', 'url': 'http://twitter.com/search?q=%23GMRVA', 'promoted_content': None, 'query': '%23GMRVA', 'tweet_volume': None}, {'name': '#HolidayTravel', 'url': 'http://twitter.com/search?q=%23HolidayTravel', 'promoted_content': None, 'query': '%23HolidayTravel', 'tweet_volume': None}, {'name': '#MorningRushATL', 'url': 'http://twitter.com/search?q=%23MorningRushATL', 'promoted_content': None, 'query': '%23MorningRushATL', 'tweet_volume': None}, {'name': '#U23Worlds', 'url': 'http://twitter.com/search?q=%23U23Worlds', 'promoted_content': None, 'query': '%23U23Worlds', 'tweet_volume': None}, {'name': '#1linewed', 'url': 'http://twitter.com/search?q=%231linewed', 'promoted_content': None, 'query': '%231linewed', 'tweet_volume': None}, {'name': '#WhoKilledTupac', 'url': 'http://twitter.com/search?q=%23WhoKilledTupac', 'promoted_content': None, 'query': '%23WhoKilledTupac', 'tweet_volume': None}, {'name': '#Daybreak', 'url': 'http://twitter.com/search?q=%23Daybreak', 'promoted_content': None, 'query': '%23Daybreak', 'tweet_volume': None}, {'name': '#KSLAM', 'url': 'http://twitter.com/search?q=%23KSLAM', 'promoted_content': None, 'query': '%23KSLAM', 'tweet_volume': None}, {'name': '#amnewsers', 'url': 'http://twitter.com/search?q=%23amnewsers', 'promoted_content': None, 'query': '%23amnewsers', 'tweet_volume': None}, {'name': '#RivalryBeef', 'url': 'http://twitter.com/search?q=%23RivalryBeef', 'promoted_content': None, 'query': '%23RivalryBeef', 'tweet_volume': 10668}, {'name': '#DWTS', 'url': 'http://twitter.com/search?q=%23DWTS', 'promoted_content': None, 'query': '%23DWTS', 'tweet_volume': 34685}, {'name': '#TuesdayThoughts', 'url': 'http://twitter.com/search?q=%23TuesdayThoughts', 'promoted_content': None, 'query': '%23TuesdayThoughts', 'tweet_volume': 70917}], 'as_of': '2017-11-22T13:03:29Z', 'created_at': '2017-11-22T13:02:09Z', 'locations': [{'name': 'United States', 'woeid': 23424977}]}]\n"
     ]
    }
   ],
   "source": [
    "print (us_trends)"
   ]
  },
  {
   "cell_type": "code",
   "execution_count": 4,
   "metadata": {},
   "outputs": [
    {
     "name": "stdout",
     "output_type": "stream",
     "text": [
      "[\n",
      " {\n",
      "  \"trends\": [\n",
      "   {\n",
      "    \"name\": \"#Budget2017\",\n",
      "    \"url\": \"http://twitter.com/search?q=%23Budget2017\",\n",
      "    \"promoted_content\": null,\n",
      "    \"query\": \"%23Budget2017\",\n",
      "    \"tweet_volume\": 46834\n",
      "   },\n",
      "   {\n",
      "    \"name\": \"#PMQs\",\n",
      "    \"url\": \"http://twitter.com/search?q=%23PMQs\",\n",
      "    \"promoted_content\": null,\n",
      "    \"query\": \"%23PMQs\",\n",
      "    \"tweet_volume\": null\n",
      "   },\n",
      "   {\n",
      "    \"name\": \"Ratko Mladic\",\n",
      "    \"url\": \"http://twitter.com/search?q=%22Ratko+Mladic%22\",\n",
      "    \"promoted_content\": null,\n",
      "    \"query\": \"%22Ratko+Mladic%22\",\n",
      "    \"tweet_volume\": 51139\n",
      "   },\n",
      "   {\n",
      "    \"name\": \"#FelizMiercoles\",\n",
      "    \"url\": \"http://twitter.com/search?q=%23FelizMiercoles\",\n",
      "    \"promoted_content\": null,\n",
      "    \"query\": \"%23FelizMiercoles\",\n",
      "    \"tweet_volume\": 20013\n",
      "   },\n",
      "   {\n",
      "    \"name\": \"#DiadelaMusica\",\n",
      "    \"url\": \"http://twitter.com/search?q=%23DiadelaMusica\",\n",
      "    \"promoted_content\": null,\n",
      "    \"query\": \"%23DiadelaMusica\",\n",
      "    \"tweet_volume\": 11598\n",
      "   },\n",
      "   {\n",
      "    \"name\": \"#WednesdayWisdom\",\n",
      "    \"url\": \"http://twitter.com/search?q=%23WednesdayWisdom\",\n",
      "    \"promoted_content\": null,\n",
      "    \"query\": \"%23WednesdayWisdom\",\n",
      "    \"tweet_volume\": 33413\n",
      "   },\n",
      "   {\n",
      "    \"name\": \"\\u592b\\u5a66\\u306e\\u65e5\",\n",
      "    \"url\": \"http://twitter.com/search?q=%E5%A4%AB%E5%A9%A6%E3%81%AE%E6%97%A5\",\n",
      "    \"promoted_content\": null,\n",
      "    \"query\": \"%E5%A4%AB%E5%A9%A6%E3%81%AE%E6%97%A5\",\n",
      "    \"tweet_volume\": 192168\n",
      "   },\n",
      "   {\n",
      "    \"name\": \"\\uc2a4\\ud3f0\\uc9c0\\ubc25\",\n",
      "    \"url\": \"http://twitter.com/search?q=%EC%8A%A4%ED%8F%B0%EC%A7%80%EB%B0%A5\",\n",
      "    \"promoted_content\": null,\n",
      "    \"query\": \"%EC%8A%A4%ED%8F%B0%EC%A7%80%EB%B0%A5\",\n",
      "    \"tweet_volume\": 10217\n",
      "   },\n",
      "   {\n",
      "    \"name\": \"Nur Yerlita\\u015f'tan\",\n",
      "    \"url\": \"http://twitter.com/search?q=%22Nur+Yerlita%C5%9F%27tan%22\",\n",
      "    \"promoted_content\": null,\n",
      "    \"query\": \"%22Nur+Yerlita%C5%9F%27tan%22\",\n",
      "    \"tweet_volume\": null\n",
      "   },\n",
      "   {\n",
      "    \"name\": \"Anthony e Rosinha Garotinho\",\n",
      "    \"url\": \"http://twitter.com/search?q=%22Anthony+e+Rosinha+Garotinho%22\",\n",
      "    \"promoted_content\": null,\n",
      "    \"query\": \"%22Anthony+e+Rosinha+Garotinho%22\",\n",
      "    \"tweet_volume\": null\n",
      "   },\n",
      "   {\n",
      "    \"name\": \"Bosna Kasab\\u0131\",\n",
      "    \"url\": \"http://twitter.com/search?q=%22Bosna+Kasab%C4%B1%22\",\n",
      "    \"promoted_content\": null,\n",
      "    \"query\": \"%22Bosna+Kasab%C4%B1%22\",\n",
      "    \"tweet_volume\": null\n",
      "   },\n",
      "   {\n",
      "    \"name\": \"Isaac Go\",\n",
      "    \"url\": \"http://twitter.com/search?q=%22Isaac+Go%22\",\n",
      "    \"promoted_content\": null,\n",
      "    \"query\": \"%22Isaac+Go%22\",\n",
      "    \"tweet_volume\": 10288\n",
      "   },\n",
      "   {\n",
      "    \"name\": \"Happy Thanksgiving Eve\",\n",
      "    \"url\": \"http://twitter.com/search?q=%22Happy+Thanksgiving+Eve%22\",\n",
      "    \"promoted_content\": null,\n",
      "    \"query\": \"%22Happy+Thanksgiving+Eve%22\",\n",
      "    \"tweet_volume\": null\n",
      "   },\n",
      "   {\n",
      "    \"name\": \"Don King\",\n",
      "    \"url\": \"http://twitter.com/search?q=%22Don+King%22\",\n",
      "    \"promoted_content\": null,\n",
      "    \"query\": \"%22Don+King%22\",\n",
      "    \"tweet_volume\": 15688\n",
      "   },\n",
      "   {\n",
      "    \"name\": \"Nick Carter\",\n",
      "    \"url\": \"http://twitter.com/search?q=%22Nick+Carter%22\",\n",
      "    \"promoted_content\": null,\n",
      "    \"query\": \"%22Nick+Carter%22\",\n",
      "    \"tweet_volume\": null\n",
      "   },\n",
      "   {\n",
      "    \"name\": \"\\uc774\\uad6d\\uc885\",\n",
      "    \"url\": \"http://twitter.com/search?q=%EC%9D%B4%EA%B5%AD%EC%A2%85\",\n",
      "    \"promoted_content\": null,\n",
      "    \"query\": \"%EC%9D%B4%EA%B5%AD%EC%A2%85\",\n",
      "    \"tweet_volume\": 50566\n",
      "   },\n",
      "   {\n",
      "    \"name\": \"\\uae40\\uad00\\uc9c4 \\uc11d\\ubc29\",\n",
      "    \"url\": \"http://twitter.com/search?q=%22%EA%B9%80%EA%B4%80%EC%A7%84+%EC%84%9D%EB%B0%A9%22\",\n",
      "    \"promoted_content\": null,\n",
      "    \"query\": \"%22%EA%B9%80%EA%B4%80%EC%A7%84+%EC%84%9D%EB%B0%A9%22\",\n",
      "    \"tweet_volume\": null\n",
      "   },\n",
      "   {\n",
      "    \"name\": \"\\u30b3\\u30df\\u30c6\\u30a3\\u30a2\",\n",
      "    \"url\": \"http://twitter.com/search?q=%E3%82%B3%E3%83%9F%E3%83%86%E3%82%A3%E3%82%A2\",\n",
      "    \"promoted_content\": null,\n",
      "    \"query\": \"%E3%82%B3%E3%83%9F%E3%83%86%E3%82%A3%E3%82%A2\",\n",
      "    \"tweet_volume\": 42475\n",
      "   },\n",
      "   {\n",
      "    \"name\": \"Ateneo\",\n",
      "    \"url\": \"http://twitter.com/search?q=Ateneo\",\n",
      "    \"promoted_content\": null,\n",
      "    \"query\": \"Ateneo\",\n",
      "    \"tweet_volume\": 23751\n",
      "   },\n",
      "   {\n",
      "    \"name\": \"\\u7b11\\u3063\\u3066\\u30b3\\u30e9\\u3048\\u3066\",\n",
      "    \"url\": \"http://twitter.com/search?q=%E7%AC%91%E3%81%A3%E3%81%A6%E3%82%B3%E3%83%A9%E3%81%88%E3%81%A6\",\n",
      "    \"promoted_content\": null,\n",
      "    \"query\": \"%E7%AC%91%E3%81%A3%E3%81%A6%E3%82%B3%E3%83%A9%E3%81%88%E3%81%A6\",\n",
      "    \"tweet_volume\": 11237\n",
      "   },\n",
      "   {\n",
      "    \"name\": \"#AguanteToto\",\n",
      "    \"url\": \"http://twitter.com/search?q=%23AguanteToto\",\n",
      "    \"promoted_content\": null,\n",
      "    \"query\": \"%23AguanteToto\",\n",
      "    \"tweet_volume\": 22355\n",
      "   },\n",
      "   {\n",
      "    \"name\": \"#22Nov\",\n",
      "    \"url\": \"http://twitter.com/search?q=%2322Nov\",\n",
      "    \"promoted_content\": null,\n",
      "    \"query\": \"%2322Nov\",\n",
      "    \"tweet_volume\": 10369\n",
      "   },\n",
      "   {\n",
      "    \"name\": \"#Beautiful1stWin\",\n",
      "    \"url\": \"http://twitter.com/search?q=%23Beautiful1stWin\",\n",
      "    \"promoted_content\": null,\n",
      "    \"query\": \"%23Beautiful1stWin\",\n",
      "    \"tweet_volume\": 40073\n",
      "   },\n",
      "   {\n",
      "    \"name\": \"#\\u0635\\u0628\\u0627\\u062d_\\u0627\\u0644\\u0627\\u062d\\u0645\\u062f\",\n",
      "    \"url\": \"http://twitter.com/search?q=%23%D8%B5%D8%A8%D8%A7%D8%AD_%D8%A7%D9%84%D8%A7%D8%AD%D9%85%D8%AF\",\n",
      "    \"promoted_content\": null,\n",
      "    \"query\": \"%23%D8%B5%D8%A8%D8%A7%D8%AD_%D8%A7%D9%84%D8%A7%D8%AD%D9%85%D8%AF\",\n",
      "    \"tweet_volume\": 16973\n",
      "   },\n",
      "   {\n",
      "    \"name\": \"#ConteUmSegredoSeu\",\n",
      "    \"url\": \"http://twitter.com/search?q=%23ConteUmSegredoSeu\",\n",
      "    \"promoted_content\": null,\n",
      "    \"query\": \"%23ConteUmSegredoSeu\",\n",
      "    \"tweet_volume\": null\n",
      "   },\n",
      "   {\n",
      "    \"name\": \"#\\u3044\\u3044\\u30c4\\u30a4\\u30f3\\u30c6\\u30fc\\u30eb\\u306e\\u65e5\",\n",
      "    \"url\": \"http://twitter.com/search?q=%23%E3%81%84%E3%81%84%E3%83%84%E3%82%A4%E3%83%B3%E3%83%86%E3%83%BC%E3%83%AB%E3%81%AE%E6%97%A5\",\n",
      "    \"promoted_content\": null,\n",
      "    \"query\": \"%23%E3%81%84%E3%81%84%E3%83%84%E3%82%A4%E3%83%B3%E3%83%86%E3%83%BC%E3%83%AB%E3%81%AE%E6%97%A5\",\n",
      "    \"tweet_volume\": 65316\n",
      "   },\n",
      "   {\n",
      "    \"name\": \"#OTDirecto22N\",\n",
      "    \"url\": \"http://twitter.com/search?q=%23OTDirecto22N\",\n",
      "    \"promoted_content\": null,\n",
      "    \"query\": \"%23OTDirecto22N\",\n",
      "    \"tweet_volume\": null\n",
      "   },\n",
      "   {\n",
      "    \"name\": \"#\\uc544\\ubbf8_\\ud23d\\uc0b4\\ub824\\ub77c\",\n",
      "    \"url\": \"http://twitter.com/search?q=%23%EC%95%84%EB%AF%B8_%ED%88%BD%EC%82%B4%EB%A0%A4%EB%9D%BC\",\n",
      "    \"promoted_content\": null,\n",
      "    \"query\": \"%23%EC%95%84%EB%AF%B8_%ED%88%BD%EC%82%B4%EB%A0%A4%EB%9D%BC\",\n",
      "    \"tweet_volume\": 88394\n",
      "   },\n",
      "   {\n",
      "    \"name\": \"#\\u063a\\u0631\\u062f_\\u0628\\u0628\\u064a\\u062a_\\u0634\\u0639\\u0631_\\u0648\\u0644\\u0627_\\u062e\\u0627\\u0637\\u0631\\u0647\",\n",
      "    \"url\": \"http://twitter.com/search?q=%23%D8%BA%D8%B1%D8%AF_%D8%A8%D8%A8%D9%8A%D8%AA_%D8%B4%D8%B9%D8%B1_%D9%88%D9%84%D8%A7_%D8%AE%D8%A7%D8%B7%D8%B1%D9%87\",\n",
      "    \"promoted_content\": null,\n",
      "    \"query\": \"%23%D8%BA%D8%B1%D8%AF_%D8%A8%D8%A8%D9%8A%D8%AA_%D8%B4%D8%B9%D8%B1_%D9%88%D9%84%D8%A7_%D8%AE%D8%A7%D8%B7%D8%B1%D9%87\",\n",
      "    \"tweet_volume\": 78378\n",
      "   },\n",
      "   {\n",
      "    \"name\": \"#hairyarchives\",\n",
      "    \"url\": \"http://twitter.com/search?q=%23hairyarchives\",\n",
      "    \"promoted_content\": null,\n",
      "    \"query\": \"%23hairyarchives\",\n",
      "    \"tweet_volume\": null\n",
      "   },\n",
      "   {\n",
      "    \"name\": \"#BrahMos\",\n",
      "    \"url\": \"http://twitter.com/search?q=%23BrahMos\",\n",
      "    \"promoted_content\": null,\n",
      "    \"query\": \"%23BrahMos\",\n",
      "    \"tweet_volume\": null\n",
      "   },\n",
      "   {\n",
      "    \"name\": \"#\\u0627\\u0645\\u0637\\u0627\\u0631_\\u0627\\u0644\\u0631\\u064a\\u0627\\u0636\",\n",
      "    \"url\": \"http://twitter.com/search?q=%23%D8%A7%D9%85%D8%B7%D8%A7%D8%B1_%D8%A7%D9%84%D8%B1%D9%8A%D8%A7%D8%B6\",\n",
      "    \"promoted_content\": null,\n",
      "    \"query\": \"%23%D8%A7%D9%85%D8%B7%D8%A7%D8%B1_%D8%A7%D9%84%D8%B1%D9%8A%D8%A7%D8%B6\",\n",
      "    \"tweet_volume\": 66718\n",
      "   },\n",
      "   {\n",
      "    \"name\": \"#MsbKaynakBedelli\",\n",
      "    \"url\": \"http://twitter.com/search?q=%23MsbKaynakBedelli\",\n",
      "    \"promoted_content\": null,\n",
      "    \"query\": \"%23MsbKaynakBedelli\",\n",
      "    \"tweet_volume\": 17882\n",
      "   },\n",
      "   {\n",
      "    \"name\": \"#\\u0632\\u062f_\\u0631\\u0635\\u064a\\u062f\\u064351\",\n",
      "    \"url\": \"http://twitter.com/search?q=%23%D8%B2%D8%AF_%D8%B1%D8%B5%D9%8A%D8%AF%D9%8351\",\n",
      "    \"promoted_content\": null,\n",
      "    \"query\": \"%23%D8%B2%D8%AF_%D8%B1%D8%B5%D9%8A%D8%AF%D9%8351\",\n",
      "    \"tweet_volume\": 23078\n",
      "   },\n",
      "   {\n",
      "    \"name\": \"#Los44\",\n",
      "    \"url\": \"http://twitter.com/search?q=%23Los44\",\n",
      "    \"promoted_content\": null,\n",
      "    \"query\": \"%23Los44\",\n",
      "    \"tweet_volume\": 11689\n",
      "   },\n",
      "   {\n",
      "    \"name\": \"#\\u0627\\u0644\\u0627\\u0647\\u0644\\u064a_\\u064a\\u0639\\u062a\\u0630\\u0631_\\u0644\\u0644\\u0634\\u0628\\u0627\\u0628\",\n",
      "    \"url\": \"http://twitter.com/search?q=%23%D8%A7%D9%84%D8%A7%D9%87%D9%84%D9%8A_%D9%8A%D8%B9%D8%AA%D8%B0%D8%B1_%D9%84%D9%84%D8%B4%D8%A8%D8%A7%D8%A8\",\n",
      "    \"promoted_content\": null,\n",
      "    \"query\": \"%23%D8%A7%D9%84%D8%A7%D9%87%D9%84%D9%8A_%D9%8A%D8%B9%D8%AA%D8%B0%D8%B1_%D9%84%D9%84%D8%B4%D8%A8%D8%A7%D8%A8\",\n",
      "    \"tweet_volume\": 20091\n",
      "   },\n",
      "   {\n",
      "    \"name\": \"#QuartaDetremuraSDV\",\n",
      "    \"url\": \"http://twitter.com/search?q=%23QuartaDetremuraSDV\",\n",
      "    \"promoted_content\": null,\n",
      "    \"query\": \"%23QuartaDetremuraSDV\",\n",
      "    \"tweet_volume\": 12883\n",
      "   },\n",
      "   {\n",
      "    \"name\": \"#HafizSaeed\",\n",
      "    \"url\": \"http://twitter.com/search?q=%23HafizSaeed\",\n",
      "    \"promoted_content\": null,\n",
      "    \"query\": \"%23HafizSaeed\",\n",
      "    \"tweet_volume\": null\n",
      "   },\n",
      "   {\n",
      "    \"name\": \"#Payla\\u015fmak\\u0130stedim\",\n",
      "    \"url\": \"http://twitter.com/search?q=%23Payla%C5%9Fmak%C4%B0stedim\",\n",
      "    \"promoted_content\": null,\n",
      "    \"query\": \"%23Payla%C5%9Fmak%C4%B0stedim\",\n",
      "    \"tweet_volume\": null\n",
      "   },\n",
      "   {\n",
      "    \"name\": \"#ChatDelOdioM4\",\n",
      "    \"url\": \"http://twitter.com/search?q=%23ChatDelOdioM4\",\n",
      "    \"promoted_content\": null,\n",
      "    \"query\": \"%23ChatDelOdioM4\",\n",
      "    \"tweet_volume\": null\n",
      "   },\n",
      "   {\n",
      "    \"name\": \"#JeQuitteLaSG\",\n",
      "    \"url\": \"http://twitter.com/search?q=%23JeQuitteLaSG\",\n",
      "    \"promoted_content\": null,\n",
      "    \"query\": \"%23JeQuitteLaSG\",\n",
      "    \"tweet_volume\": null\n",
      "   },\n",
      "   {\n",
      "    \"name\": \"#aibou\",\n",
      "    \"url\": \"http://twitter.com/search?q=%23aibou\",\n",
      "    \"promoted_content\": null,\n",
      "    \"query\": \"%23aibou\",\n",
      "    \"tweet_volume\": null\n",
      "   },\n",
      "   {\n",
      "    \"name\": \"#MaineOnTheJollyShow\",\n",
      "    \"url\": \"http://twitter.com/search?q=%23MaineOnTheJollyShow\",\n",
      "    \"promoted_content\": null,\n",
      "    \"query\": \"%23MaineOnTheJollyShow\",\n",
      "    \"tweet_volume\": 123642\n",
      "   },\n",
      "   {\n",
      "    \"name\": \"#BlackFridayEsPcComponentes\",\n",
      "    \"url\": \"http://twitter.com/search?q=%23BlackFridayEsPcComponentes\",\n",
      "    \"promoted_content\": null,\n",
      "    \"query\": \"%23BlackFridayEsPcComponentes\",\n",
      "    \"tweet_volume\": null\n",
      "   },\n",
      "   {\n",
      "    \"name\": \"#\\u0643\\u0644\\u0646\\u0627_\\u0644\\u0644\\u0648\\u0637\\u0646\",\n",
      "    \"url\": \"http://twitter.com/search?q=%23%D9%83%D9%84%D9%86%D8%A7_%D9%84%D9%84%D9%88%D8%B7%D9%86\",\n",
      "    \"promoted_content\": null,\n",
      "    \"query\": \"%23%D9%83%D9%84%D9%86%D8%A7_%D9%84%D9%84%D9%88%D8%B7%D9%86\",\n",
      "    \"tweet_volume\": 10483\n",
      "   },\n",
      "   {\n",
      "    \"name\": \"#EuropeanSemester\",\n",
      "    \"url\": \"http://twitter.com/search?q=%23EuropeanSemester\",\n",
      "    \"promoted_content\": null,\n",
      "    \"query\": \"%23EuropeanSemester\",\n",
      "    \"tweet_volume\": null\n",
      "   },\n",
      "   {\n",
      "    \"name\": \"#HainsinFG\\u00fclen\",\n",
      "    \"url\": \"http://twitter.com/search?q=%23HainsinFG%C3%BClen\",\n",
      "    \"promoted_content\": null,\n",
      "    \"query\": \"%23HainsinFG%C3%BClen\",\n",
      "    \"tweet_volume\": null\n",
      "   },\n",
      "   {\n",
      "    \"name\": \"#MORCILENTOS\",\n",
      "    \"url\": \"http://twitter.com/search?q=%23MORCILENTOS\",\n",
      "    \"promoted_content\": null,\n",
      "    \"query\": \"%23MORCILENTOS\",\n",
      "    \"tweet_volume\": null\n",
      "   },\n",
      "   {\n",
      "    \"name\": \"#newsrw\",\n",
      "    \"url\": \"http://twitter.com/search?q=%23newsrw\",\n",
      "    \"promoted_content\": null,\n",
      "    \"query\": \"%23newsrw\",\n",
      "    \"tweet_volume\": null\n",
      "   },\n",
      "   {\n",
      "    \"name\": \"#RiveraM4\",\n",
      "    \"url\": \"http://twitter.com/search?q=%23RiveraM4\",\n",
      "    \"promoted_content\": null,\n",
      "    \"query\": \"%23RiveraM4\",\n",
      "    \"tweet_volume\": null\n",
      "   }\n",
      "  ],\n",
      "  \"as_of\": \"2017-11-22T13:03:29Z\",\n",
      "  \"created_at\": \"2017-11-22T12:57:04Z\",\n",
      "  \"locations\": [\n",
      "   {\n",
      "    \"name\": \"Worldwide\",\n",
      "    \"woeid\": 1\n",
      "   }\n",
      "  ]\n",
      " }\n",
      "]\n"
     ]
    }
   ],
   "source": [
    "import json\n",
    "\n",
    "print (json.dumps(world_trends, indent=1))\n",
    "\n"
   ]
  },
  {
   "cell_type": "markdown",
   "metadata": {},
   "source": [
    "## Example 4. Computing the intersection of two sets of trends"
   ]
  },
  {
   "cell_type": "code",
   "execution_count": 5,
   "metadata": {},
   "outputs": [
    {
     "name": "stdout",
     "output_type": "stream",
     "text": [
      "[\n",
      " {\n",
      "  \"trends\": [\n",
      "   {\n",
      "    \"name\": \"#WednesdayWisdom\",\n",
      "    \"url\": \"http://twitter.com/search?q=%23WednesdayWisdom\",\n",
      "    \"promoted_content\": null,\n",
      "    \"query\": \"%23WednesdayWisdom\",\n",
      "    \"tweet_volume\": 33938\n",
      "   },\n",
      "   {\n",
      "    \"name\": \"Happy Thanksgiving Eve\",\n",
      "    \"url\": \"http://twitter.com/search?q=%22Happy+Thanksgiving+Eve%22\",\n",
      "    \"promoted_content\": null,\n",
      "    \"query\": \"%22Happy+Thanksgiving+Eve%22\",\n",
      "    \"tweet_volume\": null\n",
      "   },\n",
      "   {\n",
      "    \"name\": \"Don King\",\n",
      "    \"url\": \"http://twitter.com/search?q=%22Don+King%22\",\n",
      "    \"promoted_content\": null,\n",
      "    \"query\": \"%22Don+King%22\",\n",
      "    \"tweet_volume\": 16435\n",
      "   },\n",
      "   {\n",
      "    \"name\": \"Ratko Mladic\",\n",
      "    \"url\": \"http://twitter.com/search?q=%22Ratko+Mladic%22\",\n",
      "    \"promoted_content\": null,\n",
      "    \"query\": \"%22Ratko+Mladic%22\",\n",
      "    \"tweet_volume\": 51815\n",
      "   },\n",
      "   {\n",
      "    \"name\": \"US Navy\",\n",
      "    \"url\": \"http://twitter.com/search?q=%22US+Navy%22\",\n",
      "    \"promoted_content\": null,\n",
      "    \"query\": \"%22US+Navy%22\",\n",
      "    \"tweet_volume\": 20075\n",
      "   },\n",
      "   {\n",
      "    \"name\": \"#NetNeutraility\",\n",
      "    \"url\": \"http://twitter.com/search?q=%23NetNeutraility\",\n",
      "    \"promoted_content\": null,\n",
      "    \"query\": \"%23NetNeutraility\",\n",
      "    \"tweet_volume\": 17306\n",
      "   },\n",
      "   {\n",
      "    \"name\": \"We're LIVE ON-AIR\",\n",
      "    \"url\": \"http://twitter.com/search?q=%22We%27re+LIVE+ON-AIR%22\",\n",
      "    \"promoted_content\": null,\n",
      "    \"query\": \"%22We%27re+LIVE+ON-AIR%22\",\n",
      "    \"tweet_volume\": null\n",
      "   },\n",
      "   {\n",
      "    \"name\": \"USS Ronald Reagan\",\n",
      "    \"url\": \"http://twitter.com/search?q=%22USS+Ronald+Reagan%22\",\n",
      "    \"promoted_content\": null,\n",
      "    \"query\": \"%22USS+Ronald+Reagan%22\",\n",
      "    \"tweet_volume\": null\n",
      "   },\n",
      "   {\n",
      "    \"name\": \"Dmitri Hvorostovsky\",\n",
      "    \"url\": \"http://twitter.com/search?q=%22Dmitri+Hvorostovsky%22\",\n",
      "    \"promoted_content\": null,\n",
      "    \"query\": \"%22Dmitri+Hvorostovsky%22\",\n",
      "    \"tweet_volume\": null\n",
      "   },\n",
      "   {\n",
      "    \"name\": \"#Budget2017\",\n",
      "    \"url\": \"http://twitter.com/search?q=%23Budget2017\",\n",
      "    \"promoted_content\": null,\n",
      "    \"query\": \"%23Budget2017\",\n",
      "    \"tweet_volume\": 51424\n",
      "   },\n",
      "   {\n",
      "    \"name\": \"The Women\",\n",
      "    \"url\": \"http://twitter.com/search?q=%22The+Women%22\",\n",
      "    \"promoted_content\": null,\n",
      "    \"query\": \"%22The+Women%22\",\n",
      "    \"tweet_volume\": 53873\n",
      "   },\n",
      "   {\n",
      "    \"name\": \"North End\",\n",
      "    \"url\": \"http://twitter.com/search?q=%22North+End%22\",\n",
      "    \"promoted_content\": null,\n",
      "    \"query\": \"%22North+End%22\",\n",
      "    \"tweet_volume\": null\n",
      "   },\n",
      "   {\n",
      "    \"name\": \"#WhenTheFishIsAway\",\n",
      "    \"url\": \"http://twitter.com/search?q=%23WhenTheFishIsAway\",\n",
      "    \"promoted_content\": null,\n",
      "    \"query\": \"%23WhenTheFishIsAway\",\n",
      "    \"tweet_volume\": null\n",
      "   },\n",
      "   {\n",
      "    \"name\": \"John F. Kennedy\",\n",
      "    \"url\": \"http://twitter.com/search?q=%22John+F.+Kennedy%22\",\n",
      "    \"promoted_content\": null,\n",
      "    \"query\": \"%22John+F.+Kennedy%22\",\n",
      "    \"tweet_volume\": null\n",
      "   },\n",
      "   {\n",
      "    \"name\": \"Record High\",\n",
      "    \"url\": \"http://twitter.com/search?q=%22Record+High%22\",\n",
      "    \"promoted_content\": null,\n",
      "    \"query\": \"%22Record+High%22\",\n",
      "    \"tweet_volume\": null\n",
      "   },\n",
      "   {\n",
      "    \"name\": \"#Turnpike\",\n",
      "    \"url\": \"http://twitter.com/search?q=%23Turnpike\",\n",
      "    \"promoted_content\": null,\n",
      "    \"query\": \"%23Turnpike\",\n",
      "    \"tweet_volume\": null\n",
      "   },\n",
      "   {\n",
      "    \"name\": \"University Blvd\",\n",
      "    \"url\": \"http://twitter.com/search?q=%22University+Blvd%22\",\n",
      "    \"promoted_content\": null,\n",
      "    \"query\": \"%22University+Blvd%22\",\n",
      "    \"tweet_volume\": null\n",
      "   },\n",
      "   {\n",
      "    \"name\": \"Lisa Murkowski\",\n",
      "    \"url\": \"http://twitter.com/search?q=%22Lisa+Murkowski%22\",\n",
      "    \"promoted_content\": null,\n",
      "    \"query\": \"%22Lisa+Murkowski%22\",\n",
      "    \"tweet_volume\": null\n",
      "   },\n",
      "   {\n",
      "    \"name\": \"Remembering David Cassidy\",\n",
      "    \"url\": \"http://twitter.com/search?q=%22Remembering+David+Cassidy%22\",\n",
      "    \"promoted_content\": null,\n",
      "    \"query\": \"%22Remembering+David+Cassidy%22\",\n",
      "    \"tweet_volume\": null\n",
      "   },\n",
      "   {\n",
      "    \"name\": \"Waterbury\",\n",
      "    \"url\": \"http://twitter.com/search?q=Waterbury\",\n",
      "    \"promoted_content\": null,\n",
      "    \"query\": \"Waterbury\",\n",
      "    \"tweet_volume\": null\n",
      "   },\n",
      "   {\n",
      "    \"name\": \"U.S Rep. John Conyers\",\n",
      "    \"url\": \"http://twitter.com/search?q=%22U.S+Rep.+John+Conyers%22\",\n",
      "    \"promoted_content\": null,\n",
      "    \"query\": \"%22U.S+Rep.+John+Conyers%22\",\n",
      "    \"tweet_volume\": null\n",
      "   },\n",
      "   {\n",
      "    \"name\": \"Immediately Calling\",\n",
      "    \"url\": \"http://twitter.com/search?q=%22Immediately+Calling%22\",\n",
      "    \"promoted_content\": null,\n",
      "    \"query\": \"%22Immediately+Calling%22\",\n",
      "    \"tweet_volume\": null\n",
      "   },\n",
      "   {\n",
      "    \"name\": \"Mnangagwa\",\n",
      "    \"url\": \"http://twitter.com/search?q=Mnangagwa\",\n",
      "    \"promoted_content\": null,\n",
      "    \"query\": \"Mnangagwa\",\n",
      "    \"tweet_volume\": 32505\n",
      "   },\n",
      "   {\n",
      "    \"name\": \"CAUGHT ON VIDEO\",\n",
      "    \"url\": \"http://twitter.com/search?q=%22CAUGHT+ON+VIDEO%22\",\n",
      "    \"promoted_content\": null,\n",
      "    \"query\": \"%22CAUGHT+ON+VIDEO%22\",\n",
      "    \"tweet_volume\": null\n",
      "   },\n",
      "   {\n",
      "    \"name\": \"I-40\",\n",
      "    \"url\": \"http://twitter.com/search?q=I-40\",\n",
      "    \"promoted_content\": null,\n",
      "    \"query\": \"I-40\",\n",
      "    \"tweet_volume\": 51175\n",
      "   },\n",
      "   {\n",
      "    \"name\": \"Michael Hutchence\",\n",
      "    \"url\": \"http://twitter.com/search?q=%22Michael+Hutchence%22\",\n",
      "    \"promoted_content\": null,\n",
      "    \"query\": \"%22Michael+Hutchence%22\",\n",
      "    \"tweet_volume\": null\n",
      "   },\n",
      "   {\n",
      "    \"name\": \"Charlie Rose\",\n",
      "    \"url\": \"http://twitter.com/search?q=%22Charlie+Rose%22\",\n",
      "    \"promoted_content\": null,\n",
      "    \"query\": \"%22Charlie+Rose%22\",\n",
      "    \"tweet_volume\": 175978\n",
      "   },\n",
      "   {\n",
      "    \"name\": \"Black Friday\",\n",
      "    \"url\": \"http://twitter.com/search?q=%22Black+Friday%22\",\n",
      "    \"promoted_content\": null,\n",
      "    \"query\": \"%22Black+Friday%22\",\n",
      "    \"tweet_volume\": 400790\n",
      "   },\n",
      "   {\n",
      "    \"name\": \"Animal Crossing\",\n",
      "    \"url\": \"http://twitter.com/search?q=%22Animal+Crossing%22\",\n",
      "    \"promoted_content\": null,\n",
      "    \"query\": \"%22Animal+Crossing%22\",\n",
      "    \"tweet_volume\": 144481\n",
      "   },\n",
      "   {\n",
      "    \"name\": \"#ICTY\",\n",
      "    \"url\": \"http://twitter.com/search?q=%23ICTY\",\n",
      "    \"promoted_content\": null,\n",
      "    \"query\": \"%23ICTY\",\n",
      "    \"tweet_volume\": null\n",
      "   },\n",
      "   {\n",
      "    \"name\": \"#TISL\",\n",
      "    \"url\": \"http://twitter.com/search?q=%23TISL\",\n",
      "    \"promoted_content\": null,\n",
      "    \"query\": \"%23TISL\",\n",
      "    \"tweet_volume\": null\n",
      "   },\n",
      "   {\n",
      "    \"name\": \"#clttraffic\",\n",
      "    \"url\": \"http://twitter.com/search?q=%23clttraffic\",\n",
      "    \"promoted_content\": null,\n",
      "    \"query\": \"%23clttraffic\",\n",
      "    \"tweet_volume\": null\n",
      "   },\n",
      "   {\n",
      "    \"name\": \"#iamup\",\n",
      "    \"url\": \"http://twitter.com/search?q=%23iamup\",\n",
      "    \"promoted_content\": null,\n",
      "    \"query\": \"%23iamup\",\n",
      "    \"tweet_volume\": null\n",
      "   },\n",
      "   {\n",
      "    \"name\": \"#GMRVA\",\n",
      "    \"url\": \"http://twitter.com/search?q=%23GMRVA\",\n",
      "    \"promoted_content\": null,\n",
      "    \"query\": \"%23GMRVA\",\n",
      "    \"tweet_volume\": null\n",
      "   },\n",
      "   {\n",
      "    \"name\": \"#HolidayTravel\",\n",
      "    \"url\": \"http://twitter.com/search?q=%23HolidayTravel\",\n",
      "    \"promoted_content\": null,\n",
      "    \"query\": \"%23HolidayTravel\",\n",
      "    \"tweet_volume\": null\n",
      "   },\n",
      "   {\n",
      "    \"name\": \"#MorningRushATL\",\n",
      "    \"url\": \"http://twitter.com/search?q=%23MorningRushATL\",\n",
      "    \"promoted_content\": null,\n",
      "    \"query\": \"%23MorningRushATL\",\n",
      "    \"tweet_volume\": null\n",
      "   },\n",
      "   {\n",
      "    \"name\": \"#U23Worlds\",\n",
      "    \"url\": \"http://twitter.com/search?q=%23U23Worlds\",\n",
      "    \"promoted_content\": null,\n",
      "    \"query\": \"%23U23Worlds\",\n",
      "    \"tweet_volume\": null\n",
      "   },\n",
      "   {\n",
      "    \"name\": \"#1linewed\",\n",
      "    \"url\": \"http://twitter.com/search?q=%231linewed\",\n",
      "    \"promoted_content\": null,\n",
      "    \"query\": \"%231linewed\",\n",
      "    \"tweet_volume\": null\n",
      "   },\n",
      "   {\n",
      "    \"name\": \"#WhoKilledTupac\",\n",
      "    \"url\": \"http://twitter.com/search?q=%23WhoKilledTupac\",\n",
      "    \"promoted_content\": null,\n",
      "    \"query\": \"%23WhoKilledTupac\",\n",
      "    \"tweet_volume\": null\n",
      "   },\n",
      "   {\n",
      "    \"name\": \"#Daybreak\",\n",
      "    \"url\": \"http://twitter.com/search?q=%23Daybreak\",\n",
      "    \"promoted_content\": null,\n",
      "    \"query\": \"%23Daybreak\",\n",
      "    \"tweet_volume\": null\n",
      "   },\n",
      "   {\n",
      "    \"name\": \"#KSLAM\",\n",
      "    \"url\": \"http://twitter.com/search?q=%23KSLAM\",\n",
      "    \"promoted_content\": null,\n",
      "    \"query\": \"%23KSLAM\",\n",
      "    \"tweet_volume\": null\n",
      "   },\n",
      "   {\n",
      "    \"name\": \"#amnewsers\",\n",
      "    \"url\": \"http://twitter.com/search?q=%23amnewsers\",\n",
      "    \"promoted_content\": null,\n",
      "    \"query\": \"%23amnewsers\",\n",
      "    \"tweet_volume\": null\n",
      "   },\n",
      "   {\n",
      "    \"name\": \"#RivalryBeef\",\n",
      "    \"url\": \"http://twitter.com/search?q=%23RivalryBeef\",\n",
      "    \"promoted_content\": null,\n",
      "    \"query\": \"%23RivalryBeef\",\n",
      "    \"tweet_volume\": 10668\n",
      "   },\n",
      "   {\n",
      "    \"name\": \"#DWTS\",\n",
      "    \"url\": \"http://twitter.com/search?q=%23DWTS\",\n",
      "    \"promoted_content\": null,\n",
      "    \"query\": \"%23DWTS\",\n",
      "    \"tweet_volume\": 34685\n",
      "   },\n",
      "   {\n",
      "    \"name\": \"#TuesdayThoughts\",\n",
      "    \"url\": \"http://twitter.com/search?q=%23TuesdayThoughts\",\n",
      "    \"promoted_content\": null,\n",
      "    \"query\": \"%23TuesdayThoughts\",\n",
      "    \"tweet_volume\": 70917\n",
      "   }\n",
      "  ],\n",
      "  \"as_of\": \"2017-11-22T13:03:29Z\",\n",
      "  \"created_at\": \"2017-11-22T13:02:09Z\",\n",
      "  \"locations\": [\n",
      "   {\n",
      "    \"name\": \"United States\",\n",
      "    \"woeid\": 23424977\n",
      "   }\n",
      "  ]\n",
      " }\n",
      "]\n"
     ]
    }
   ],
   "source": [
    "print (json.dumps(us_trends, indent=1))"
   ]
  },
  {
   "cell_type": "code",
   "execution_count": 6,
   "metadata": {},
   "outputs": [
    {
     "name": "stdout",
     "output_type": "stream",
     "text": [
      "{'Ratko Mladic', 'Don King', 'Happy Thanksgiving Eve', '#Budget2017', '#WednesdayWisdom'}\n"
     ]
    }
   ],
   "source": [
    "world_trends_set = set([trend['name'] \n",
    "                        for trend in world_trends[0]['trends']])\n",
    "\n",
    "us_trends_set = set([trend['name'] \n",
    "                     for trend in us_trends[0]['trends']]) \n",
    "\n",
    "common_trends = world_trends_set.intersection(us_trends_set)\n",
    "\n",
    "print (common_trends)"
   ]
  },
  {
   "cell_type": "markdown",
   "metadata": {},
   "source": [
    "## Example 5. Collecting search results"
   ]
  },
  {
   "cell_type": "code",
   "execution_count": 10,
   "metadata": {},
   "outputs": [
    {
     "name": "stdout",
     "output_type": "stream",
     "text": [
      "Length of statuses 100\n",
      "Length of statuses 200\n",
      "Length of statuses 300\n",
      "Length of statuses 400\n",
      "Length of statuses 492\n"
     ]
    },
    {
     "data": {
      "text/plain": [
       "'{\\n \"created_at\": \"Wed Nov 22 13:03:35 +0000 2017\",\\n \"id\": 933320051649859584,\\n \"id_str\": \"933320051649859584\",\\n \"text\": \"RT @RobinsonPArtist: \\'Morning Tweet\\' #WorldHelloDay #oilpainting #birds proper #Tweetoftheday #Norfolk #ChristmasIsComing #Happiness @gpcar\\\\u2026\",\\n \"truncated\": false,\\n \"entities\": {\\n  \"hashtags\": [\\n   {\\n    \"text\": \"WorldHelloDay\",\\n    \"indices\": [\\n     37,\\n     51\\n    ]\\n   },\\n   {\\n    \"text\": \"oilpainting\",\\n    \"indices\": [\\n     52,\\n     64\\n    ]\\n   },\\n   {\\n    \"text\": \"birds\",\\n    \"indices\": [\\n     65,\\n     71\\n    ]\\n   },\\n   {\\n    \"text\": \"Tweetoftheday\",\\n    \"indices\": [\\n     79,\\n     93\\n    ]\\n   },\\n   {\\n    \"text\": \"Norfolk\",\\n    \"indices\": [\\n     94,\\n     102\\n    ]\\n   },\\n   {\\n    \"text\": \"ChristmasIsComing\",\\n    \"indices\": [\\n     103,\\n     121\\n    ]\\n   },\\n   {\\n    \"text\": \"Happiness\",\\n    \"indices\": [\\n     122,\\n     132\\n    ]\\n   }\\n  ],\\n  \"symbols\": [],\\n  \"user_mentions\": [\\n   {\\n    \"screen_name\": \"RobinsonPArtist\",\\n    \"name\": \"Paul Robinson\",\\n    \"id\": 2890546557,\\n    \"id_str\": \"2890546557\",\\n    \"indices\": [\\n     3,\\n     19\\n    ]\\n   }\\n  ],\\n  \"urls\": []\\n },\\n \"metadata\": {\\n  \"iso_language_code\": \"en\",\\n  \"result_type\": \"recent\"\\n },\\n \"source\": \"<a href=\\\\\"http://twitter.com\\\\\" rel=\\\\\"nofollow\\\\\">Twitter Web Client</a>\",\\n \"in_reply_to_status_id\": null,\\n \"in_reply_to_status_id_str\": null,\\n \"in_reply_to_user_id\": null,\\n \"in_reply_to_user_id_str\": null,\\n \"in_reply_to_screen_name\": null,\\n \"user\": {\\n  \"id\": 2890546557,\\n  \"id_str\": \"2890546557\",\\n  \"name\": \"Paul Robinson\",\\n  \"screen_name\": \"RobinsonPArtist\",\\n  \"location\": \"Norfolk UK\",\\n  \"description\": \"Artist, Painter\",\\n  \"url\": \"http://t.co/9vkr1AcPeV\",\\n  \"entities\": {\\n   \"url\": {\\n    \"urls\": [\\n     {\\n      \"url\": \"http://t.co/9vkr1AcPeV\",\\n      \"expanded_url\": \"http://www.paulrobinsonpaintings.com\",\\n      \"display_url\": \"paulrobinsonpaintings.com\",\\n      \"indices\": [\\n       0,\\n       22\\n      ]\\n     }\\n    ]\\n   },\\n   \"description\": {\\n    \"urls\": []\\n   }\\n  },\\n  \"protected\": false,\\n  \"followers_count\": 685,\\n  \"friends_count\": 972,\\n  \"listed_count\": 36,\\n  \"created_at\": \"Mon Nov 24 10:59:04 +0000 2014\",\\n  \"favourites_count\": 5894,\\n  \"utc_offset\": 0,\\n  \"time_zone\": \"London\",\\n  \"geo_enabled\": true,\\n  \"verified\": false,\\n  \"statuses_count\": 1572,\\n  \"lang\": \"en-gb\",\\n  \"contributors_enabled\": false,\\n  \"is_translator\": false,\\n  \"is_translation_enabled\": false,\\n  \"profile_background_color\": \"C0DEED\",\\n  \"profile_background_image_url\": \"http://abs.twimg.com/images/themes/theme1/bg.png\",\\n  \"profile_background_image_url_https\": \"https://abs.twimg.com/images/themes/theme1/bg.png\",\\n  \"profile_background_tile\": false,\\n  \"profile_image_url\": \"http://pbs.twimg.com/profile_images/536839388160741376/B91m9GSz_normal.jpeg\",\\n  \"profile_image_url_https\": \"https://pbs.twimg.com/profile_images/536839388160741376/B91m9GSz_normal.jpeg\",\\n  \"profile_banner_url\": \"https://pbs.twimg.com/profile_banners/2890546557/1427368909\",\\n  \"profile_link_color\": \"1DA1F2\",\\n  \"profile_sidebar_border_color\": \"C0DEED\",\\n  \"profile_sidebar_fill_color\": \"DDEEF6\",\\n  \"profile_text_color\": \"333333\",\\n  \"profile_use_background_image\": true,\\n  \"has_extended_profile\": false,\\n  \"default_profile\": true,\\n  \"default_profile_image\": false,\\n  \"following\": false,\\n  \"follow_request_sent\": false,\\n  \"notifications\": false,\\n  \"translator_type\": \"none\"\\n },\\n \"geo\": null,\\n \"coordinates\": null,\\n \"place\": null,\\n \"contributors\": null,\\n \"retweeted_status\": {\\n  \"created_at\": \"Tue Nov 21 11:32:25 +0000 2017\",\\n  \"id\": 932934722367475712,\\n  \"id_str\": \"932934722367475712\",\\n  \"text\": \"\\'Morning Tweet\\' #WorldHelloDay #oilpainting #birds proper #Tweetoftheday #Norfolk #ChristmasIsComing #Happiness\\\\u2026 https://t.co/zu9qNClDnD\",\\n  \"truncated\": true,\\n  \"entities\": {\\n   \"hashtags\": [\\n    {\\n     \"text\": \"WorldHelloDay\",\\n     \"indices\": [\\n      16,\\n      30\\n     ]\\n    },\\n    {\\n     \"text\": \"oilpainting\",\\n     \"indices\": [\\n      31,\\n      43\\n     ]\\n    },\\n    {\\n     \"text\": \"birds\",\\n     \"indices\": [\\n      44,\\n      50\\n     ]\\n    },\\n    {\\n     \"text\": \"Tweetoftheday\",\\n     \"indices\": [\\n      58,\\n      72\\n     ]\\n    },\\n    {\\n     \"text\": \"Norfolk\",\\n     \"indices\": [\\n      73,\\n      81\\n     ]\\n    },\\n    {\\n     \"text\": \"ChristmasIsComing\",\\n     \"indices\": [\\n      82,\\n      100\\n     ]\\n    },\\n    {\\n     \"text\": \"Happiness\",\\n     \"indices\": [\\n      101,\\n      111\\n     ]\\n    }\\n   ],\\n   \"symbols\": [],\\n   \"user_mentions\": [],\\n   \"urls\": [\\n    {\\n     \"url\": \"https://t.co/zu9qNClDnD\",\\n     \"expanded_url\": \"https://twitter.com/i/web/status/932934722367475712\",\\n     \"display_url\": \"twitter.com/i/web/status/9\\\\u2026\",\\n     \"indices\": [\\n      113,\\n      136\\n     ]\\n    }\\n   ]\\n  },\\n  \"metadata\": {\\n   \"iso_language_code\": \"en\",\\n   \"result_type\": \"recent\"\\n  },\\n  \"source\": \"<a href=\\\\\"http://twitter.com\\\\\" rel=\\\\\"nofollow\\\\\">Twitter Web Client</a>\",\\n  \"in_reply_to_status_id\": null,\\n  \"in_reply_to_status_id_str\": null,\\n  \"in_reply_to_user_id\": null,\\n  \"in_reply_to_user_id_str\": null,\\n  \"in_reply_to_screen_name\": null,\\n  \"user\": {\\n   \"id\": 2890546557,\\n   \"id_str\": \"2890546557\",\\n   \"name\": \"Paul Robinson\",\\n   \"screen_name\": \"RobinsonPArtist\",\\n   \"location\": \"Norfolk UK\",\\n   \"description\": \"Artist, Painter\",\\n   \"url\": \"http://t.co/9vkr1AcPeV\",\\n   \"entities\": {\\n    \"url\": {\\n     \"urls\": [\\n      {\\n       \"url\": \"http://t.co/9vkr1AcPeV\",\\n       \"expanded_url\": \"http://www.paulrobinsonpaintings.com\",\\n       \"display_url\": \"paulrobinsonpaintings.com\",\\n       \"indices\": [\\n        0,\\n        22\\n       ]\\n      }\\n     ]\\n    },\\n    \"description\": {\\n     \"urls\": []\\n    }\\n   },\\n   \"protected\": false,\\n   \"followers_count\": 685,\\n   \"friends_count\": 972,\\n   \"listed_count\": 36,\\n   \"created_at\": \"Mon Nov 24 10:59:04 +0000 2014\",\\n   \"favourites_count\": 5894,\\n   \"utc_offset\": 0,\\n   \"time_zone\": \"London\",\\n   \"geo_enabled\": true,\\n   \"verified\": false,\\n   \"statuses_count\": 1572,\\n   \"lang\": \"en-gb\",\\n   \"contributors_enabled\": false,\\n   \"is_translator\": false,\\n   \"is_translation_enabled\": false,\\n   \"profile_background_color\": \"C0DEED\",\\n   \"profile_background_image_url\": \"http://abs.twimg.com/images/themes/theme1/bg.png\",\\n   \"profile_background_image_url_https\": \"https://abs.twimg.com/images/themes/theme1/bg.png\",\\n   \"profile_background_tile\": false,\\n   \"profile_image_url\": \"http://pbs.twimg.com/profile_images/536839388160741376/B91m9GSz_normal.jpeg\",\\n   \"profile_image_url_https\": \"https://pbs.twimg.com/profile_images/536839388160741376/B91m9GSz_normal.jpeg\",\\n   \"profile_banner_url\": \"https://pbs.twimg.com/profile_banners/2890546557/1427368909\",\\n   \"profile_link_color\": \"1DA1F2\",\\n   \"profile_sidebar_border_color\": \"C0DEED\",\\n   \"profile_sidebar_fill_color\": \"DDEEF6\",\\n   \"profile_text_color\": \"333333\",\\n   \"profile_use_background_image\": true,\\n   \"has_extended_profile\": false,\\n   \"default_profile\": true,\\n   \"default_profile_image\": false,\\n   \"following\": false,\\n   \"follow_request_sent\": false,\\n   \"notifications\": false,\\n   \"translator_type\": \"none\"\\n  },\\n  \"geo\": null,\\n  \"coordinates\": null,\\n  \"place\": null,\\n  \"contributors\": null,\\n  \"is_quote_status\": false,\\n  \"retweet_count\": 3,\\n  \"favorite_count\": 1,\\n  \"favorited\": false,\\n  \"retweeted\": false,\\n  \"possibly_sensitive\": false,\\n  \"lang\": \"en\"\\n },\\n \"is_quote_status\": false,\\n \"retweet_count\": 3,\\n \"favorite_count\": 0,\\n \"favorited\": false,\\n \"retweeted\": false,\\n \"lang\": \"en\"\\n}'"
      ]
     },
     "execution_count": 10,
     "metadata": {},
     "output_type": "execute_result"
    }
   ],
   "source": [
    "# Import unquote to prevent url encoding errors in next_results\n",
    "from urllib.parse import unquote\n",
    "\n",
    "# XXX: Set this variable to a trending topic, \n",
    "# or anything else for that matter. The example query below\n",
    "# was a trending topic when this content was being developed\n",
    "# and is used throughout the remainder of this chapter.\n",
    "\n",
    "q = '#WorldHelloDay' \n",
    "\n",
    "count = 100\n",
    "\n",
    "# See https://dev.twitter.com/docs/api/1.1/get/search/tweets\n",
    "\n",
    "search_results = twitter_api.search.tweets(q=q, count=count)\n",
    "\n",
    "statuses = search_results['statuses']\n",
    "\n",
    "\n",
    "# Iterate through 5 more batches of results by following the cursor\n",
    "\n",
    "for _ in range(5):\n",
    "    print (\"Length of statuses\", len(statuses))\n",
    "    try:\n",
    "        next_results = search_results['search_metadata']['next_results']\n",
    "    except (KeyError): # No more results when next_results doesn't exist\n",
    "        break\n",
    "        \n",
    "    # Create a dictionary from next_results, which has the following form:\n",
    "    # ?max_id=313519052523986943&q=NCAA&include_entities=1\n",
    "    kwargs = dict([ kv.split('=') for kv in unquote(next_results[1:]).split(\"&\") ])\n",
    "    \n",
    "    search_results = twitter_api.search.tweets(**kwargs)\n",
    "    statuses += search_results['statuses']\n",
    "\n",
    "# Show one sample search result by slicing the list...\n",
    "#print (json.dumps(statuses[0], indent=1))\n",
    "\n",
    "json.dumps(statuses[0], indent=1)"
   ]
  },
  {
   "cell_type": "markdown",
   "metadata": {},
   "source": [
    "Note: Should you desire to do so, you can load the same set of search results that are illustrated in the text of _Mining the Social Web_ by executing the code below that reads a snapshot of the data and stores it into the same statuses variable as was defined above. Alternatively, you can choose to skip execution of this cell in order to follow along with your own data."
   ]
  },
  {
   "cell_type": "code",
   "execution_count": 11,
   "metadata": {},
   "outputs": [
    {
     "ename": "IndexError",
     "evalue": "list index out of range",
     "output_type": "error",
     "traceback": [
      "\u001b[1;31m---------------------------------------------------------------------------\u001b[0m",
      "\u001b[1;31mIndexError\u001b[0m                                Traceback (most recent call last)",
      "\u001b[1;32m<ipython-input-11-253504b8612f>\u001b[0m in \u001b[0;36m<module>\u001b[1;34m()\u001b[0m\n\u001b[0;32m      6\u001b[0m t = [ status \n\u001b[0;32m      7\u001b[0m       \u001b[1;32mfor\u001b[0m \u001b[0mstatus\u001b[0m \u001b[1;32min\u001b[0m \u001b[0mstatuses\u001b[0m\u001b[1;33m\u001b[0m\u001b[0m\n\u001b[1;32m----> 8\u001b[1;33m           if status['id'] == 933021233784000514 ][0]\n\u001b[0m\u001b[0;32m      9\u001b[0m \u001b[1;33m\u001b[0m\u001b[0m\n\u001b[0;32m     10\u001b[0m \u001b[1;31m# Explore the variable t to get familiarized with the data structure...\u001b[0m\u001b[1;33m\u001b[0m\u001b[1;33m\u001b[0m\u001b[0m\n",
      "\u001b[1;31mIndexError\u001b[0m: list index out of range"
     ]
    }
   ],
   "source": [
    "#import json\n",
    "#statuses = json.loads(open('#WorldHelloDay.json').read())\n",
    "\n",
    "# The result of the list comprehension is a list with only one element that\n",
    "# can be accessed by its index and set to the variable t\n",
    "t = [ status \n",
    "      for status in statuses\n",
    "          if status['id'] == 933021233784000514 ][0]\n",
    "\n",
    "# Explore the variable t to get familiarized with the data structure...\n",
    "\n",
    "print (t['retweet_count'])\n",
    "print (t['retweeted_status'])\n",
    "\n",
    "# Can you find the most retweeted tweet in your search results? Try do do it!"
   ]
  },
  {
   "cell_type": "markdown",
   "metadata": {},
   "source": [
    "## Example 6. Extracting text, screen names, and hashtags from tweets"
   ]
  },
  {
   "cell_type": "code",
   "execution_count": 12,
   "metadata": {},
   "outputs": [
    {
     "name": "stdout",
     "output_type": "stream",
     "text": [
      "[\n",
      " \"RT @RobinsonPArtist: 'Morning Tweet' #WorldHelloDay #oilpainting #birds proper #Tweetoftheday #Norfolk #ChristmasIsComing #Happiness @gpcar\\u2026\",\n",
      " \"RT @metoffice: Today is #WorldHelloDay, a day that highlights the importance of communication. We'd like to say a big hello &amp; thank you to\\u2026\",\n",
      " \"RT @1Gordhan: #WorldHelloDay\\n\\u092a\\u0942\\u0930\\u094d\\u0923\\u092a\\u094d\\u0930\\u092e\\u093e\\u0924\\u094d\\u092e\\u093e \\u0915\\u0940 \\u091c\\u093e\\u0928\\u0915\\u093e\\u0930\\u0940 \\u0915\\u0947 \\u0932\\u093f\\u090f \\u092a\\u0942\\u0930\\u094d\\u0923\\u0917\\u0941\\u0930\\u0941 \\u0915\\u093e \\u092e\\u093f\\u0932\\u0928\\u093e \\u092c\\u0939\\u0941\\u0924 \\u092e\\u0941\\u0936\\u094d\\u0915\\u093f\\u0932 \\u0939\\u094b\\u0924\\u093e \\u0939\\u0948 , \\u0915\\u094b\\u0902\\u0928 \\u0939\\u0948 \\u0935\\u0930\\u094d\\u0924\\u092e\\u093e\\u0928 \\u092e\\u0947\\u0902 ,\\u091c\\u093e\\u0902\\u0928\\u093f\\u092f\\u0947 ,\\u0938\\u093e\\u0927\\u0928\\u093e\\u2026\",\n",
      " \"#WorldHelloDay da fuq is this shit now?\",\n",
      " \"RT @XiaomiIndia: Greet for Peace\\n#WorldHelloDay https://t.co/dihda2TtA4\"\n",
      "]\n",
      "[\n",
      " \"RobinsonPArtist\",\n",
      " \"metoffice\",\n",
      " \"1Gordhan\",\n",
      " \"XiaomiIndia\",\n",
      " \"bbccomedy\"\n",
      "]\n",
      "[\n",
      " \"WorldHelloDay\",\n",
      " \"oilpainting\",\n",
      " \"birds\",\n",
      " \"Tweetoftheday\",\n",
      " \"Norfolk\"\n",
      "]\n",
      "[\n",
      " \"RT\",\n",
      " \"@RobinsonPArtist:\",\n",
      " \"'Morning\",\n",
      " \"Tweet'\",\n",
      " \"#WorldHelloDay\"\n",
      "]\n"
     ]
    }
   ],
   "source": [
    "status_texts = [ status['text'] \n",
    "                 for status in statuses ]\n",
    "\n",
    "screen_names = [ user_mention['screen_name'] \n",
    "                 for status in statuses\n",
    "                     for user_mention in status['entities']['user_mentions'] ]\n",
    "\n",
    "hashtags = [ hashtag['text'] \n",
    "             for status in statuses\n",
    "                 for hashtag in status['entities']['hashtags'] ]\n",
    "\n",
    "# Compute a collection of all words from all tweets\n",
    "words = [ w \n",
    "          for t in status_texts \n",
    "              for w in t.split() ]\n",
    "\n",
    "# Explore the first 5 items for each...\n",
    "\n",
    "print (json.dumps(status_texts[0:5], indent=1))\n",
    "print (json.dumps(screen_names[0:5], indent=1) )\n",
    "print (json.dumps(hashtags[0:5], indent=1))\n",
    "print (json.dumps(words[0:5], indent=1))"
   ]
  },
  {
   "cell_type": "markdown",
   "metadata": {},
   "source": [
    "## Example 7. Creating a basic frequency distribution from the words in tweets"
   ]
  },
  {
   "cell_type": "code",
   "execution_count": 13,
   "metadata": {},
   "outputs": [
    {
     "name": "stdout",
     "output_type": "stream",
     "text": [
      "[('RT', 440), ('#WorldHelloDay', 336), ('to', 239), ('the', 197), ('and', 158), ('a', 130), ('say', 106), ('you', 100), ('hello', 92), ('is', 85)]\n",
      "[('ToeiAnimation', 31), ('F1', 16), ('TheGuidePuppy', 10), ('EndLonelinessUK', 10), ('DementiaFriends', 10), ('PoliceChiefs', 9), ('Servest_UK', 8), ('1Gordhan', 7), ('sanrio', 7), ('BDCH', 6)]\n",
      "[('WorldHelloDay', 466), ('worldhelloday', 16), ('F1', 16), ('Hello', 13), ('TuesdayThoughts', 11), ('TravelTuesday', 11), ('DementiaFriend', 10), ('HelloOfficer', 9), ('JamieDornan', 7), ('hello', 6)]\n"
     ]
    }
   ],
   "source": [
    "from collections import Counter\n",
    "\n",
    "for item in [words, screen_names, hashtags]:\n",
    "    c = Counter(item)\n",
    "    print (c.most_common()[:10]) # top 10\n"
   ]
  },
  {
   "cell_type": "markdown",
   "metadata": {},
   "source": [
    "## Example 8. Using prettytable to display tuples in a nice tabular format"
   ]
  },
  {
   "cell_type": "code",
   "execution_count": 14,
   "metadata": {},
   "outputs": [
    {
     "name": "stdout",
     "output_type": "stream",
     "text": [
      "+----------------+-------+\n",
      "| Word           | Count |\n",
      "+----------------+-------+\n",
      "| RT             |   440 |\n",
      "| #WorldHelloDay |   336 |\n",
      "| to             |   239 |\n",
      "| the            |   197 |\n",
      "| and            |   158 |\n",
      "| a              |   130 |\n",
      "| say            |   106 |\n",
      "| you            |   100 |\n",
      "| hello          |    92 |\n",
      "| is             |    85 |\n",
      "+----------------+-------+\n",
      "+-----------------+-------+\n",
      "| Screen Name     | Count |\n",
      "+-----------------+-------+\n",
      "| ToeiAnimation   |    31 |\n",
      "| F1              |    16 |\n",
      "| TheGuidePuppy   |    10 |\n",
      "| EndLonelinessUK |    10 |\n",
      "| DementiaFriends |    10 |\n",
      "| PoliceChiefs    |     9 |\n",
      "| Servest_UK      |     8 |\n",
      "| 1Gordhan        |     7 |\n",
      "| sanrio          |     7 |\n",
      "| BDCH            |     6 |\n",
      "+-----------------+-------+\n",
      "+-----------------+-------+\n",
      "| Hashtag         | Count |\n",
      "+-----------------+-------+\n",
      "| WorldHelloDay   |   466 |\n",
      "| worldhelloday   |    16 |\n",
      "| F1              |    16 |\n",
      "| Hello           |    13 |\n",
      "| TuesdayThoughts |    11 |\n",
      "| TravelTuesday   |    11 |\n",
      "| DementiaFriend  |    10 |\n",
      "| HelloOfficer    |     9 |\n",
      "| JamieDornan     |     7 |\n",
      "| hello           |     6 |\n",
      "+-----------------+-------+\n"
     ]
    }
   ],
   "source": [
    "from prettytable import PrettyTable\n",
    "\n",
    "for label, data in (('Word', words), \n",
    "                    ('Screen Name', screen_names), \n",
    "                    ('Hashtag', hashtags)):\n",
    "    pt = PrettyTable(field_names=[label, 'Count']) \n",
    "    c = Counter(data)\n",
    "    [ pt.add_row(kv) for kv in c.most_common()[:10] ]\n",
    "    pt.align[label], pt.align['Count'] = 'l', 'r' # Set column alignment\n",
    "    print (pt)"
   ]
  },
  {
   "cell_type": "markdown",
   "metadata": {},
   "source": [
    "## Example 9. Calculating lexical diversity for tweets"
   ]
  },
  {
   "cell_type": "code",
   "execution_count": 15,
   "metadata": {},
   "outputs": [
    {
     "name": "stdout",
     "output_type": "stream",
     "text": [
      "0.24729088031170096\n",
      "0.528695652173913\n",
      "0.22473246135552913\n",
      "16.693089430894307\n"
     ]
    }
   ],
   "source": [
    "# A function for computing lexical diversity\n",
    "def lexical_diversity(tokens):\n",
    "    return 1.0*len(set(tokens))/len(tokens) \n",
    "\n",
    "# A function for computing the average number of words per tweet\n",
    "def average_words(statuses):\n",
    "    total_words = sum([ len(s.split()) for s in statuses ]) \n",
    "    return 1.0*total_words/len(statuses)\n",
    "\n",
    "print (lexical_diversity(words))\n",
    "print (lexical_diversity(screen_names))\n",
    "print (lexical_diversity(hashtags))\n",
    "print (average_words(status_texts))"
   ]
  },
  {
   "cell_type": "markdown",
   "metadata": {},
   "source": [
    "## Example 10. Finding the most popular retweets"
   ]
  },
  {
   "cell_type": "code",
   "execution_count": 16,
   "metadata": {},
   "outputs": [
    {
     "name": "stdout",
     "output_type": "stream",
     "text": [
      "+-------+---------------+---------------------------------------------------+\n",
      "| Count | Screen Name   | Text                                              |\n",
      "+-------+---------------+---------------------------------------------------+\n",
      "| 746   | ToeiAnimation | RT @ToeiAnimation: \"Hey, it’s me, Goku!\"          |\n",
      "|       |               | Spread the love and help brighten someone's day!  |\n",
      "|       |               | Happy #WorldHelloDay! 👋👋👋 https://t.co/lmAPLpdSE8 |\n",
      "| 746   | ToeiAnimation | RT @ToeiAnimation: \"Hey, it’s me, Goku!\"          |\n",
      "|       |               | Spread the love and help brighten someone's day!  |\n",
      "|       |               | Happy #WorldHelloDay! 👋👋👋 https://t.co/lmAPLpdSE8 |\n",
      "| 746   | ToeiAnimation | RT @ToeiAnimation: \"Hey, it’s me, Goku!\"          |\n",
      "|       |               | Spread the love and help brighten someone's day!  |\n",
      "|       |               | Happy #WorldHelloDay! 👋👋👋 https://t.co/lmAPLpdSE8 |\n",
      "| 746   | ToeiAnimation | RT @ToeiAnimation: \"Hey, it’s me, Goku!\"          |\n",
      "|       |               | Spread the love and help brighten someone's day!  |\n",
      "|       |               | Happy #WorldHelloDay! 👋👋👋 https://t.co/lmAPLpdSE8 |\n",
      "| 746   | ToeiAnimation | RT @ToeiAnimation: \"Hey, it’s me, Goku!\"          |\n",
      "|       |               | Spread the love and help brighten someone's day!  |\n",
      "|       |               | Happy #WorldHelloDay! 👋👋👋 https://t.co/lmAPLpdSE8 |\n",
      "+-------+---------------+---------------------------------------------------+\n"
     ]
    }
   ],
   "source": [
    "retweets = [\n",
    "            # Store out a tuple of these three values ...\n",
    "            (status['retweet_count'], \n",
    "             status['retweeted_status']['user']['screen_name'],\n",
    "             status['text']) \n",
    "            \n",
    "            # ... for each status ...\n",
    "            for status in statuses \n",
    "            \n",
    "            # ... so long as the status meets this condition.\n",
    "                if 'retweeted_status' in status\n",
    "                #if status.has_key('retweeted_status')\n",
    "           ]\n",
    "\n",
    "# Slice off the first 5 from the sorted results and display each item in the tuple\n",
    "\n",
    "pt = PrettyTable(field_names=['Count', 'Screen Name', 'Text'])\n",
    "[ pt.add_row(row) for row in sorted(retweets, reverse=True)[:5] ]\n",
    "pt.max_width['Text'] = 50\n",
    "pt.align= 'l'\n",
    "print (pt)"
   ]
  },
  {
   "cell_type": "markdown",
   "metadata": {},
   "source": [
    "## Example 11. Looking up users who have retweeted a status"
   ]
  },
  {
   "cell_type": "code",
   "execution_count": 17,
   "metadata": {},
   "outputs": [
    {
     "name": "stdout",
     "output_type": "stream",
     "text": [
      "[]\n"
     ]
    }
   ],
   "source": [
    "# Get the original tweet id for a tweet from its retweeted_status node \n",
    "# and insert it here in place of the sample value that is provided\n",
    "# from the text of the book\n",
    "\n",
    "_retweets = twitter_api.statuses.retweets(id=933021233784000514)\n",
    "print ([r['user']['screen_name'] for r in _retweets])"
   ]
  },
  {
   "cell_type": "markdown",
   "metadata": {},
   "source": [
    "## Example 12. Plotting frequencies of words"
   ]
  },
  {
   "cell_type": "code",
   "execution_count": 21,
   "metadata": {},
   "outputs": [
    {
     "data": {
      "image/png": "[encoded data removed]",
      "text/plain": [
       "<matplotlib.figure.Figure at 0x17fca9eb668>"
      ]
     },
     "metadata": {},
     "output_type": "display_data"
    }
   ],
   "source": [
    "from matplotlib import pyplot as plt\n",
    "word_counts = sorted(Counter(words).values(), reverse=True)\n",
    "\n",
    "plt.loglog(word_counts)\n",
    "plt.ylabel(\"Freq\")\n",
    "plt.xlabel(\"Word Rank\")\n",
    "plt.show()"
   ]
  },
  {
   "cell_type": "markdown",
   "metadata": {},
   "source": [
    "## Example 13. Generating histograms of words, screen names, and hashtags"
   ]
  },
  {
   "cell_type": "code",
   "execution_count": 22,
   "metadata": {},
   "outputs": [
    {
     "data": {
      "image/png": "[encoded data removed]",
      "text/plain": [
       "<matplotlib.figure.Figure at 0x17fca94de10>"
      ]
     },
     "metadata": {},
     "output_type": "display_data"
    },
    {
     "data": {
      "text/plain": [
       "<matplotlib.figure.Figure at 0x17fcd150d68>"
      ]
     },
     "metadata": {},
     "output_type": "display_data"
    },
    {
     "data": {
      "image/png": "[encoded data removed]",
      "text/plain": [
       "<matplotlib.figure.Figure at 0x17fcc0c8240>"
      ]
     },
     "metadata": {},
     "output_type": "display_data"
    },
    {
     "data": {
      "text/plain": [
       "<matplotlib.figure.Figure at 0x17fcd191ac8>"
      ]
     },
     "metadata": {},
     "output_type": "display_data"
    },
    {
     "data": {
      "image/png": "[encoded data removed]",
      "text/plain": [
       "<matplotlib.figure.Figure at 0x17fcc137780>"
      ]
     },
     "metadata": {},
     "output_type": "display_data"
    },
    {
     "data": {
      "text/plain": [
       "<matplotlib.figure.Figure at 0x17fcd19da58>"
      ]
     },
     "metadata": {},
     "output_type": "display_data"
    }
   ],
   "source": [
    "for label, data in (('Words', words), \n",
    "                    ('Screen Names', screen_names), \n",
    "                    ('Hashtags', hashtags)):\n",
    "\n",
    "    # Build a frequency map for each set of data\n",
    "    # and plot the values\n",
    "    c = Counter(data)\n",
    "    plt.hist(c.values())\n",
    "    \n",
    "    # Add a title and y-label ...\n",
    "    plt.title(label)\n",
    "    plt.ylabel(\"Number of items in bin\")\n",
    "    plt.xlabel(\"Bins (number of times an item appeared)\")\n",
    "    \n",
    "    # ... and display as a new figure\n",
    "    plt.figure()\n",
    "    plt.show()"
   ]
  },
  {
   "cell_type": "markdown",
   "metadata": {},
   "source": [
    "## Example 14. Generating a histogram of retweet counts"
   ]
  },
  {
   "cell_type": "code",
   "execution_count": 24,
   "metadata": {},
   "outputs": [
    {
     "name": "stdout",
     "output_type": "stream",
     "text": [
      "[3, 26, 7, 102, 49, 32, 6, 11, 40, 41, 11, 3, 11, 746, 149, 3, 6, 14, 2, 10, 136, 217, 26, 139, 33, 149, 746, 21, 746, 746, 746, 22, 62, 2, 7, 38, 2, 23, 7, 1, 106, 7, 7, 13, 5, 267, 2, 149, 136, 45, 601, 26, 136, 2, 66, 2, 217, 309, 8, 746, 746, 309, 63, 200, 5, 21, 267, 17, 17, 4, 10, 14, 267, 746, 746, 106, 746, 49, 2, 63, 124, 7, 9, 3, 8, 7, 63, 310, 26, 746, 1, 10, 10, 12, 6, 310, 3, 2, 746, 2, 601, 106, 746, 38, 1, 106, 26, 8, 23, 746, 243, 202, 23, 601, 1, 37, 2, 310, 26, 8, 4, 2, 51, 2, 9, 158, 601, 11, 202, 2, 7, 746, 1, 746, 601, 243, 1, 41, 30, 601, 8, 13, 124, 2, 309, 1, 243, 14, 601, 217, 6, 746, 33, 139, 62, 9, 20, 1, 746, 1, 3, 1, 5, 746, 310, 149, 601, 9, 4, 90, 12, 106, 79, 309, 16, 746, 37, 19, 1, 8, 18, 3, 3, 267, 37, 158, 1, 26, 1, 17, 26, 8, 205, 79, 37, 17, 32, 243, 3, 6, 106, 6, 3, 2, 2, 9, 746, 2, 1, 1, 2, 200, 601, 8, 6, 47, 15, 4, 309, 309, 37, 1, 333, 7, 10, 217, 124, 33, 30, 32, 15, 3, 62, 10, 5, 4, 1, 20, 3, 205, 45, 23, 8, 9, 45, 601, 10, 1, 158, 33, 31, 30, 310, 601, 1, 21, 3, 124, 10, 49, 23, 2, 5, 5, 4, 40, 41, 124, 3, 217, 22, 312, 1, 1, 38, 18, 8, 26, 26, 33, 6, 12, 21, 7, 7, 2, 200, 37, 26, 3, 14, 54, 746, 4, 49, 6, 10, 106, 3, 26, 26, 6, 3, 746, 3, 26, 2, 2, 601, 22, 2, 26, 158, 3, 746, 746, 45, 21, 6, 3, 26, 2, 4, 3, 6, 3, 22, 3, 124, 124, 8, 17, 2, 136, 7, 7, 149, 205, 7, 8, 6, 310, 309, 46, 46, 309, 33, 15, 33, 149, 9, 10, 81, 746, 15, 33, 5, 746, 746, 2, 37, 205, 14, 8, 81, 309, 4, 139, 16, 2, 9, 7, 16, 16, 2, 63, 1, 746, 217, 16, 9, 2, 746, 3, 202, 37, 1, 15, 6, 14, 2, 106, 54, 4, 202, 63, 23, 2, 49, 746, 3, 49, 267, 124, 33, 33, 12, 79, 54, 9, 601, 31, 19, 6, 333, 5, 243, 6, 1, 8, 13, 217, 16, 2, 3, 124, 22, 124, 31, 309, 2, 79, 3, 601, 6, 601, 267, 601, 7]\n"
     ]
    },
    {
     "data": {
      "image/png": "[encoded data removed]",
      "text/plain": [
       "<matplotlib.figure.Figure at 0x17fcc1378d0>"
      ]
     },
     "metadata": {},
     "output_type": "display_data"
    }
   ],
   "source": [
    "# Using underscores while unpacking values in\n",
    "# a tuple is idiomatic for discarding them\n",
    "\n",
    "counts = [count for count, _, _ in retweets]\n",
    "\n",
    "plt.hist(counts)\n",
    "plt.title(\"Retweets\")\n",
    "plt.xlabel('Bins (number of times retweeted)')\n",
    "plt.ylabel('Number of tweets in bin')\n",
    "\n",
    "print (counts)\n",
    "plt.show()"
   ]
  },
  {
   "cell_type": "markdown",
   "metadata": {},
   "source": [
    "Note: This histogram gives you an idea of how many times tweets are retweeted with the x-axis defining partitions for tweets that have been retweeted some number of times and the y-axis telling you how many tweets fell into each bin. For example, a y-axis value of 5 for the \"15-20 bin\" on the x-axis means that there were 5 tweets that were retweeted between 15 and 20 times.\n",
    "\n",
    "Here's another variation that transforms the data using the (automatically imported from numpy) log function in order to improve the resolution of the plot."
   ]
  },
  {
   "cell_type": "code",
   "execution_count": 38,
   "metadata": {},
   "outputs": [
    {
     "data": {
      "image/png": "[encoded data removed]",
      "text/plain": [
       "<matplotlib.figure.Figure at 0x17fcd59f780>"
      ]
     },
     "metadata": {},
     "output_type": "display_data"
    },
    {
     "data": {
      "image/png": "[encoded data removed]",
      "text/plain": [
       "<matplotlib.figure.Figure at 0x17fcd5fd390>"
      ]
     },
     "metadata": {},
     "output_type": "display_data"
    }
   ],
   "source": [
    "# Using underscores while unpacking values in\n",
    "# a tuple is idiomatic for discarding them\n",
    "from math import log\n",
    "\n",
    "counts = [log(count) for count, _, _ in retweets]\n",
    "\n",
    "# Taking the log of the *data values* themselves can \n",
    "# often provide quick and valuable insight into the\n",
    "# underlying distribution as well. Try it back on\n",
    "# Example 13 and see if it helps.\n",
    "\n",
    "plt.hist(counts)\n",
    "\n",
    "plt.title(\"Retweets\")\n",
    "plt.xlabel('Log[Bins (number of times retweeted)]')\n",
    "plt.ylabel('Log[Number of tweets in bin]')\n",
    "plt.show()\n",
    "\n",
    "counts = [count for count, _, _ in retweets]\n",
    "plt.loglog(counts)\n",
    "plt.title(\"Retweets\")\n",
    "plt.xlabel('Log[Bins (number of times retweeted)]')\n",
    "plt.ylabel('Log[Number of tweets in bin]')\n",
    "plt.show()\n",
    "\n",
    "#print (log(counts))"
   ]
  },
  {
   "cell_type": "code",
   "execution_count": null,
   "metadata": {},
   "outputs": [],
   "source": []
  }
 ],
 "metadata": {
  "kernelspec": {
   "display_name": "Python 3",
   "language": "python",
   "name": "python3"
  },
  "language_info": {
   "codemirror_mode": {
    "name": "ipython",
    "version": 3
   },
   "file_extension": ".py",
   "mimetype": "text/x-python",
   "name": "python",
   "nbconvert_exporter": "python",
   "pygments_lexer": "ipython3",
   "version": "3.6.3"
  }
 },
 "nbformat": 4,
 "nbformat_minor": 1
}
