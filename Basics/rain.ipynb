{
 "cells": [
  {
   "cell_type": "code",
   "execution_count": 2,
   "metadata": {},
   "outputs": [],
   "source": [
    "%matplotlib inline"
   ]
  },
  {
   "cell_type": "markdown",
   "metadata": {},
   "source": [
    "\n",
    "# Rain simulation\n",
    "\n",
    "\n",
    "Simulates rain drops on a surface by animating the scale and opacity\n",
    "of 50 scatter points.\n",
    "\n",
    "Author: Nicolas P. Rougier\n",
    "\n"
   ]
  },
  {
   "cell_type": "code",
   "execution_count": 1,
   "metadata": {},
   "outputs": [
    {
     "data": {
      "image/png": "[encoded data removed]",
      "text/plain": [
       "<matplotlib.figure.Figure at 0x288f2940550>"
      ]
     },
     "metadata": {},
     "output_type": "display_data"
    }
   ],
   "source": [
    "import numpy as np\n",
    "import matplotlib.pyplot as plt\n",
    "from matplotlib.animation import FuncAnimation\n",
    "\n",
    "# Fixing random state for reproducibility\n",
    "np.random.seed(19680801)\n",
    "\n",
    "\n",
    "# Create new Figure and an Axes which fills it.\n",
    "fig = plt.figure(figsize=(7, 7))\n",
    "ax = fig.add_axes([0, 0, 1, 1], frameon=False)\n",
    "ax.set_xlim(0, 1), ax.set_xticks([])\n",
    "ax.set_ylim(0, 1), ax.set_yticks([])\n",
    "\n",
    "# Create rain data\n",
    "n_drops = 50\n",
    "rain_drops = np.zeros(n_drops, dtype=[('position', float, 2),\n",
    "                                      ('size',     float, 1),\n",
    "                                      ('growth',   float, 1),\n",
    "                                      ('color',    float, 4)])\n",
    "\n",
    "# Initialize the raindrops in random positions and with\n",
    "# random growth rates.\n",
    "rain_drops['position'] = np.random.uniform(0, 1, (n_drops, 2))\n",
    "rain_drops['growth'] = np.random.uniform(50, 200, n_drops)\n",
    "\n",
    "# Construct the scatter which we will update during animation\n",
    "# as the raindrops develop.\n",
    "scat = ax.scatter(rain_drops['position'][:, 0], rain_drops['position'][:, 1],\n",
    "                  s=rain_drops['size'], lw=0.5, edgecolors=rain_drops['color'],\n",
    "                  facecolors='none')\n",
    "\n",
    "\n",
    "def update(frame_number):\n",
    "    # Get an index which we can use to re-spawn the oldest raindrop.\n",
    "    current_index = frame_number % n_drops\n",
    "\n",
    "    # Make all colors more transparent as time progresses.\n",
    "    rain_drops['color'][:, 3] -= 1.0/len(rain_drops)\n",
    "    rain_drops['color'][:, 3] = np.clip(rain_drops['color'][:, 3], 0, 1)\n",
    "\n",
    "    # Make all circles bigger.\n",
    "    rain_drops['size'] += rain_drops['growth']\n",
    "\n",
    "    # Pick a new position for oldest rain drop, resetting its size,\n",
    "    # color and growth factor.\n",
    "    rain_drops['position'][current_index] = np.random.uniform(0, 1, 2)\n",
    "    rain_drops['size'][current_index] = 5\n",
    "    rain_drops['color'][current_index] = (0, 0, 0, 1)\n",
    "    rain_drops['growth'][current_index] = np.random.uniform(50, 200)\n",
    "\n",
    "    # Update the scatter collection, with the new colors, sizes and positions.\n",
    "    scat.set_edgecolors(rain_drops['color'])\n",
    "    scat.set_sizes(rain_drops['size'])\n",
    "    scat.set_offsets(rain_drops['position'])\n",
    "\n",
    "\n",
    "# Construct the animation, using the update function as the animation\n",
    "# director.\n",
    "animation = FuncAnimation(fig, update, interval=10)\n",
    "plt.show()"
   ]
  },
  {
   "cell_type": "code",
   "execution_count": null,
   "metadata": {},
   "outputs": [],
   "source": []
  }
 ],
 "metadata": {
  "kernelspec": {
   "display_name": "Python 3",
   "language": "python",
   "name": "python3"
  },
  "language_info": {
   "codemirror_mode": {
    "name": "ipython",
    "version": 3
   },
   "file_extension": ".py",
   "mimetype": "text/x-python",
   "name": "python",
   "nbconvert_exporter": "python",
   "pygments_lexer": "ipython3",
   "version": "3.6.3"
  }
 },
 "nbformat": 4,
 "nbformat_minor": 1
}
