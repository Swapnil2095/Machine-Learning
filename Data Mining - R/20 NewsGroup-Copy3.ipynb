{
 "cells": [
  {
   "cell_type": "code",
   "execution_count": 1,
   "metadata": {
    "collapsed": false
   },
   "outputs": [
    {
     "name": "stderr",
     "output_type": "stream",
     "text": [
      "Loading required package: NLP\n",
      "Loading required package: RColorBrewer\n"
     ]
    }
   ],
   "source": [
    "# Load\n",
    "library(\"tm\")\n",
    "library(\"SnowballC\")\n",
    "\n",
    "library(\"wordcloud\")\n",
    "library(\"RColorBrewer\")\n",
    "library(\"lsa\")\n",
    "library(\"lda\")"
   ]
  },
  {
   "cell_type": "code",
   "execution_count": 2,
   "metadata": {
    "collapsed": false
   },
   "outputs": [
    {
     "name": "stdout",
     "output_type": "stream",
     "text": [
      " chr [1:4] \"F:\\\\IITC\\\\ADM\\\\HW\\\\HW1\\\\20news-bydate\\\\20news-bydate-test\\\\comp.sys.ibm.pc.hardware\" ...\n"
     ]
    }
   ],
   "source": [
    "candidates <- c(\"F:\\\\IITC\\\\ADM\\\\HW\\\\HW1\\\\20news-bydate\\\\20news-bydate-test\\\\comp.sys.ibm.pc.hardware\",\"F:\\\\IITC\\\\ADM\\\\HW\\\\HW1\\\\20news-bydate\\\\20news-bydate-test\\\\comp.sys.mac.hardware\",\"F:\\\\IITC\\\\ADM\\\\HW\\\\HW1\\\\20news-bydate\\\\20news-bydate-test\\\\sci.electronics\", \"F:\\\\IITC\\\\ADM\\\\HW\\\\HW1\\\\20news-bydate\\\\20news-bydate-test\\\\comp.windows.x\")\n",
    "\n",
    "str(candidates)"
   ]
  },
  {
   "cell_type": "code",
   "execution_count": 3,
   "metadata": {
    "collapsed": false
   },
   "outputs": [],
   "source": [
    "news <- Corpus(DirSource(candidates, recursive=TRUE),readerControl = list(reader=readPlain))"
   ]
  },
  {
   "cell_type": "code",
   "execution_count": 4,
   "metadata": {
    "collapsed": false
   },
   "outputs": [
    {
     "data": {
      "text/plain": [
       "<<VCorpus>>\n",
       "Metadata:  corpus specific: 0, document level (indexed): 0\n",
       "Content:  documents: 1565"
      ]
     },
     "metadata": {},
     "output_type": "display_data"
    }
   ],
   "source": [
    "news"
   ]
  },
  {
   "cell_type": "code",
   "execution_count": 5,
   "metadata": {
    "collapsed": false
   },
   "outputs": [
    {
     "name": "stdout",
     "output_type": "stream",
     "text": [
      "List of 6\n",
      " $ i       : int [1:158539] 3467 3468 5316 10175 11599 12337 18734 18778 19203 19840 ...\n",
      " $ j       : int [1:158539] 1 1 1 1 1 1 1 1 1 1 ...\n",
      " $ v       : num [1:158539] 1 1 1 1 1 1 1 1 1 1 ...\n",
      " $ nrow    : int 43543\n",
      " $ ncol    : int 1565\n",
      " $ dimnames:List of 2\n",
      "  ..$ Terms: chr [1:43543] \"\\002ubject:\" \"\\020where\" \"''&1t8cpin\" \"'-/165#\" ...\n",
      "  ..$ Docs : chr [1:1565] \"60721\" \"60738\" \"60741\" \"60742\" ...\n",
      " - attr(*, \"class\")= chr [1:2] \"TermDocumentMatrix\" \"simple_triplet_matrix\"\n",
      " - attr(*, \"weighting\")= chr [1:2] \"term frequency\" \"tf\"\n"
     ]
    }
   ],
   "source": [
    "tdm <- TermDocumentMatrix(news, control=list(wordLengths=c(4,Inf))) #Term Document Matrix \n",
    "\n",
    "str(tdm)\n",
    "\n"
   ]
  },
  {
   "cell_type": "code",
   "execution_count": 6,
   "metadata": {
    "collapsed": false
   },
   "outputs": [
    {
     "name": "stdout",
     "output_type": "stream",
     "text": [
      " num [1:43543, 1:1565] 0 0 0 0 0 0 0 0 0 0 ...\n",
      " - attr(*, \"dimnames\")=List of 2\n",
      "  ..$ Terms: chr [1:43543] \"\\002ubject:\" \"\\020where\" \"''&1t8cpin\" \"'-/165#\" ...\n",
      "  ..$ Docs : chr [1:1565] \"60721\" \"60738\" \"60741\" \"60742\" ...\n"
     ]
    }
   ],
   "source": [
    "#Verify Frequent Terms \n",
    "m <- as.matrix(tdm)\n",
    "\n",
    "str(m)\n"
   ]
  },
  {
   "cell_type": "code",
   "execution_count": 7,
   "metadata": {
    "collapsed": false
   },
   "outputs": [
    {
     "name": "stdout",
     "output_type": "stream",
     "text": [
      " Named num [1:43543] 2798 2106 1950 1896 1648 ...\n",
      " - attr(*, \"names\")= chr [1:43543] \"that\" \"with\" \"have\" \"this\" ...\n"
     ]
    }
   ],
   "source": [
    "v <- sort(rowSums(m), decreasing=TRUE) \n",
    "\n",
    "str(v)\n"
   ]
  },
  {
   "cell_type": "code",
   "execution_count": 8,
   "metadata": {
    "collapsed": false
   },
   "outputs": [
    {
     "name": "stdout",
     "output_type": "stream",
     "text": [
      "'data.frame':\t43543 obs. of  2 variables:\n",
      " $ word: Factor w/ 43543 levels \"\\002ubject:\",..: 39247 42172 22775 39411 38182 21472 26131 31318 21466 42358 ...\n",
      " $ freq: num  2798 2106 1950 1896 1648 ...\n"
     ]
    }
   ],
   "source": [
    "d <- data.frame(word = names(v),freq=v) \n",
    "\n",
    "str(d)\n",
    "\n"
   ]
  },
  {
   "cell_type": "code",
   "execution_count": 9,
   "metadata": {
    "collapsed": false
   },
   "outputs": [
    {
     "data": {
      "text/html": [
       "<table>\n",
       "<thead><tr><th></th><th scope=col>word</th><th scope=col>freq</th></tr></thead>\n",
       "<tbody>\n",
       "\t<tr><th scope=row>that</th><td>that         </td><td>2798         </td></tr>\n",
       "\t<tr><th scope=row>with</th><td>with         </td><td>2106         </td></tr>\n",
       "\t<tr><th scope=row>have</th><td>have         </td><td>1950         </td></tr>\n",
       "\t<tr><th scope=row>this</th><td>this         </td><td>1896         </td></tr>\n",
       "\t<tr><th scope=row>subject:</th><td>subject:     </td><td>1648         </td></tr>\n",
       "\t<tr><th scope=row>from:</th><td>from:        </td><td>1594         </td></tr>\n",
       "\t<tr><th scope=row>lines:</th><td>lines:       </td><td>1567         </td></tr>\n",
       "\t<tr><th scope=row>organization:</th><td>organization:</td><td>1530         </td></tr>\n",
       "\t<tr><th scope=row>from</th><td>from         </td><td>1045         </td></tr>\n",
       "\t<tr><th scope=row>would</th><td>would        </td><td> 906         </td></tr>\n",
       "</tbody>\n",
       "</table>\n"
      ],
      "text/latex": [
       "\\begin{tabular}{r|ll}\n",
       "  & word & freq\\\\\n",
       "\\hline\n",
       "\tthat & that          & 2798         \\\\\n",
       "\twith & with          & 2106         \\\\\n",
       "\thave & have          & 1950         \\\\\n",
       "\tthis & this          & 1896         \\\\\n",
       "\tsubject: & subject:      & 1648         \\\\\n",
       "\tfrom: & from:         & 1594         \\\\\n",
       "\tlines: & lines:        & 1567         \\\\\n",
       "\torganization: & organization: & 1530         \\\\\n",
       "\tfrom & from          & 1045         \\\\\n",
       "\twould & would         &  906         \\\\\n",
       "\\end{tabular}\n"
      ],
      "text/markdown": [
       "\n",
       "| <!--/--> | word | freq | \n",
       "|---|---|---|---|---|---|---|---|---|---|\n",
       "| that | that          | 2798          | \n",
       "| with | with          | 2106          | \n",
       "| have | have          | 1950          | \n",
       "| this | this          | 1896          | \n",
       "| subject: | subject:      | 1648          | \n",
       "| from: | from:         | 1594          | \n",
       "| lines: | lines:        | 1567          | \n",
       "| organization: | organization: | 1530          | \n",
       "| from | from          | 1045          | \n",
       "| would | would         |  906          | \n",
       "\n",
       "\n"
      ],
      "text/plain": [
       "              word          freq\n",
       "that          that          2798\n",
       "with          with          2106\n",
       "have          have          1950\n",
       "this          this          1896\n",
       "subject:      subject:      1648\n",
       "from:         from:         1594\n",
       "lines:        lines:        1567\n",
       "organization: organization: 1530\n",
       "from          from          1045\n",
       "would         would          906"
      ]
     },
     "metadata": {},
     "output_type": "display_data"
    }
   ],
   "source": [
    "head(d, 10)"
   ]
  },
  {
   "cell_type": "code",
   "execution_count": 10,
   "metadata": {
    "collapsed": true
   },
   "outputs": [],
   "source": [
    " news <- tm_map(news, removeWords,\"Subject\") \n",
    " news <- tm_map(news, removeWords,\"Organization\") \n",
    " news <- tm_map(news, removeWords,\"writes\") \n",
    " news <- tm_map(news, removeWords,\"From\") \n",
    " news <- tm_map(news, removeWords,\"lines\") \n",
    " news <- tm_map(news, removeWords,\" NNTP-Posting-Host\") \n",
    " news <- tm_map(news, removeWords,\"article\")\n"
   ]
  },
  {
   "cell_type": "code",
   "execution_count": 11,
   "metadata": {
    "collapsed": true
   },
   "outputs": [],
   "source": [
    "news <- tm_map(news, tolower) ## Convert to Lower Case \n",
    "\n",
    "news <- tm_map(news, removeWords, stopwords(\"english\")) ## Remove Stopwords \n",
    "\n",
    "news <- tm_map(news, removePunctuation) ## Remove Punctuations \n",
    "\n",
    "news <- tm_map(news, stemDocument) ## Stemming \n",
    "\n",
    "news <- tm_map(news, removeNumbers) ## Remove Numbers \n",
    "\n",
    "news <- tm_map(news, stripWhitespace) ## Eliminate Extra White Spaces \n",
    "\n",
    "news <- tm_map(news , PlainTextDocument)\n"
   ]
  },
  {
   "cell_type": "code",
   "execution_count": 12,
   "metadata": {
    "collapsed": false
   },
   "outputs": [
    {
     "data": {
      "text/plain": [
       "<<DocumentTermMatrix (documents: 1565, terms: 23850)>>\n",
       "Non-/sparse entries: 109750/37215500\n",
       "Sparsity           : 100%\n",
       "Maximal term length: 106\n",
       "Weighting          : term frequency (tf)"
      ]
     },
     "metadata": {},
     "output_type": "display_data"
    },
    {
     "data": {
      "text/html": [
       "<ol class=list-inline>\n",
       "\t<li>1565</li>\n",
       "\t<li>23850</li>\n",
       "</ol>\n"
      ],
      "text/latex": [
       "\\begin{enumerate*}\n",
       "\\item 1565\n",
       "\\item 23850\n",
       "\\end{enumerate*}\n"
      ],
      "text/markdown": [
       "1. 1565\n",
       "2. 23850\n",
       "\n",
       "\n"
      ],
      "text/plain": [
       "[1]  1565 23850"
      ]
     },
     "metadata": {},
     "output_type": "display_data"
    }
   ],
   "source": [
    "dtm <- DocumentTermMatrix(news,control=list(wordLengths=c(4,Inf)))\n",
    "dtm\n",
    "dim(dtm)"
   ]
  },
  {
   "cell_type": "code",
   "execution_count": 13,
   "metadata": {
    "collapsed": false
   },
   "outputs": [
    {
     "data": {
      "text/plain": [
       "<<TermDocumentMatrix (terms: 23850, documents: 1565)>>\n",
       "Non-/sparse entries: 109750/37215500\n",
       "Sparsity           : 100%\n",
       "Maximal term length: 106\n",
       "Weighting          : term frequency (tf)"
      ]
     },
     "metadata": {},
     "output_type": "display_data"
    }
   ],
   "source": [
    "tdm <- TermDocumentMatrix(news, control=list(wordLengths=c(4,Inf))) #Term Document Matrix \n",
    "tdm\n",
    "#Verify Frequent Terms \n",
    "m <- as.matrix(tdm)\n",
    " \n",
    "v <- sort(rowSums(m), decreasing=TRUE) \n",
    "\n",
    "d <- data.frame(word = names(v),freq=v) \n",
    "\n",
    "\n",
    "\n",
    "\n"
   ]
  },
  {
   "cell_type": "code",
   "execution_count": 14,
   "metadata": {
    "collapsed": false
   },
   "outputs": [
    {
     "name": "stdout",
     "output_type": "stream",
     "text": [
      "'data.frame':\t23850 obs. of  2 variables:\n",
      " $ word: Factor w/ 23850 levels \"\\002ubject\",\"aaaaa\",..: 10891 22637 14299 10355 20237 10036 21529 10856 16195 532 ...\n",
      " $ freq: num  1568 848 715 651 648 ...\n"
     ]
    }
   ],
   "source": [
    "str(d)"
   ]
  },
  {
   "cell_type": "code",
   "execution_count": 15,
   "metadata": {
    "collapsed": false
   },
   "outputs": [
    {
     "data": {
      "text/html": [
       "<table>\n",
       "<thead><tr><th></th><th scope=col>word</th><th scope=col>freq</th></tr></thead>\n",
       "<tbody>\n",
       "\t<tr><th scope=row>lines</th><td>lines          </td><td>1568           </td></tr>\n",
       "\t<tr><th scope=row>will</th><td>will           </td><td> 848           </td></tr>\n",
       "\t<tr><th scope=row>nntppostinghost</th><td>nntppostinghost</td><td> 715           </td></tr>\n",
       "\t<tr><th scope=row>know</th><td>know           </td><td> 651           </td></tr>\n",
       "\t<tr><th scope=row>system</th><td>system         </td><td> 648           </td></tr>\n",
       "\t<tr><th scope=row>just</th><td>just           </td><td> 640           </td></tr>\n",
       "\t<tr><th scope=row>university</th><td>university     </td><td> 609           </td></tr>\n",
       "\t<tr><th scope=row>like</th><td>like           </td><td> 535           </td></tr>\n",
       "\t<tr><th scope=row>problem</th><td>problem        </td><td> 530           </td></tr>\n",
       "\t<tr><th scope=row>also</th><td>also           </td><td> 515           </td></tr>\n",
       "</tbody>\n",
       "</table>\n"
      ],
      "text/latex": [
       "\\begin{tabular}{r|ll}\n",
       "  & word & freq\\\\\n",
       "\\hline\n",
       "\tlines & lines           & 1568           \\\\\n",
       "\twill & will            &  848           \\\\\n",
       "\tnntppostinghost & nntppostinghost &  715           \\\\\n",
       "\tknow & know            &  651           \\\\\n",
       "\tsystem & system          &  648           \\\\\n",
       "\tjust & just            &  640           \\\\\n",
       "\tuniversity & university      &  609           \\\\\n",
       "\tlike & like            &  535           \\\\\n",
       "\tproblem & problem         &  530           \\\\\n",
       "\talso & also            &  515           \\\\\n",
       "\\end{tabular}\n"
      ],
      "text/markdown": [
       "\n",
       "| <!--/--> | word | freq | \n",
       "|---|---|---|---|---|---|---|---|---|---|\n",
       "| lines | lines           | 1568            | \n",
       "| will | will            |  848            | \n",
       "| nntppostinghost | nntppostinghost |  715            | \n",
       "| know | know            |  651            | \n",
       "| system | system          |  648            | \n",
       "| just | just            |  640            | \n",
       "| university | university      |  609            | \n",
       "| like | like            |  535            | \n",
       "| problem | problem         |  530            | \n",
       "| also | also            |  515            | \n",
       "\n",
       "\n"
      ],
      "text/plain": [
       "                word            freq\n",
       "lines           lines           1568\n",
       "will            will             848\n",
       "nntppostinghost nntppostinghost  715\n",
       "know            know             651\n",
       "system          system           648\n",
       "just            just             640\n",
       "university      university       609\n",
       "like            like             535\n",
       "problem         problem          530\n",
       "also            also             515"
      ]
     },
     "metadata": {},
     "output_type": "display_data"
    }
   ],
   "source": [
    "head(d, 10)"
   ]
  },
  {
   "cell_type": "code",
   "execution_count": 16,
   "metadata": {
    "collapsed": false
   },
   "outputs": [
    {
     "name": "stdout",
     "output_type": "stream",
     "text": [
      "List of 6\n",
      " $ i       : int [1:1557] 1 2 3 4 5 6 7 8 9 10 ...\n",
      " $ j       : int [1:1557] 1 1 1 1 1 1 1 1 1 1 ...\n",
      " $ v       : num [1:1557] 1 1 1 1 1 1 1 1 1 1 ...\n",
      " $ nrow    : int 1565\n",
      " $ ncol    : int 1\n",
      " $ dimnames:List of 2\n",
      "  ..$ Docs : chr [1:1565] \"character(0)\" \"character(0)\" \"character(0)\" \"character(0)\" ...\n",
      "  ..$ Terms: chr \"lines\"\n",
      " - attr(*, \"class\")= chr [1:2] \"DocumentTermMatrix\" \"simple_triplet_matrix\"\n",
      " - attr(*, \"weighting\")= chr [1:2] \"term frequency\" \"tf\"\n"
     ]
    },
    {
     "data": {
      "text/html": [
       "<ol class=list-inline>\n",
       "\t<li>1565</li>\n",
       "\t<li>1</li>\n",
       "</ol>\n"
      ],
      "text/latex": [
       "\\begin{enumerate*}\n",
       "\\item 1565\n",
       "\\item 1\n",
       "\\end{enumerate*}\n"
      ],
      "text/markdown": [
       "1. 1565\n",
       "2. 1\n",
       "\n",
       "\n"
      ],
      "text/plain": [
       "[1] 1565    1"
      ]
     },
     "metadata": {},
     "output_type": "display_data"
    }
   ],
   "source": [
    "dtms <- removeSparseTerms(dtm, 0.15) # Prepare the data \n",
    "\n",
    "str(dtms)\n",
    "dim(dtms)"
   ]
  },
  {
   "cell_type": "code",
   "execution_count": 17,
   "metadata": {
    "collapsed": false
   },
   "outputs": [
    {
     "name": "stdout",
     "output_type": "stream",
     "text": [
      " Named num [1:23850] 1 2 1 2 1 1 3 3 3 2 ...\n",
      " - attr(*, \"names\")= chr [1:23850] \"\\002ubject\" \"aaaaa\" \"aaaread\" \"aachen\" ...\n"
     ]
    }
   ],
   "source": [
    "freq <- colSums(as.matrix(dtm)) # Find word frequencies \n",
    "str(freq)\n"
   ]
  },
  {
   "cell_type": "code",
   "execution_count": 18,
   "metadata": {
    "collapsed": false
   },
   "outputs": [
    {
     "data": {
      "image/png": "[encoded data removed]",
      "text/plain": [
       "plot without title"
      ]
     },
     "metadata": {},
     "output_type": "display_data"
    }
   ],
   "source": [
    "dark2 <- brewer.pal(6, \"Dark2\") \n",
    "\n",
    "wordcloud(names(freq), freq, max.words=100, rot.per=0.2, colors=dark2)\n"
   ]
  },
  {
   "cell_type": "code",
   "execution_count": 19,
   "metadata": {
    "collapsed": false
   },
   "outputs": [],
   "source": [
    "#dtm_tfxidf2<- weightTfIdf(dtm)"
   ]
  },
  {
   "cell_type": "code",
   "execution_count": 20,
   "metadata": {
    "collapsed": false
   },
   "outputs": [],
   "source": [
    "#dtm_tfxidf2"
   ]
  },
  {
   "cell_type": "code",
   "execution_count": 21,
   "metadata": {
    "collapsed": true
   },
   "outputs": [],
   "source": [
    "#svd_out <- svd(scale(dtm))"
   ]
  },
  {
   "cell_type": "code",
   "execution_count": 22,
   "metadata": {
    "collapsed": false
   },
   "outputs": [],
   "source": [
    "#str(svd_out)"
   ]
  },
  {
   "cell_type": "code",
   "execution_count": 23,
   "metadata": {
    "collapsed": false
   },
   "outputs": [],
   "source": [
    "#str(svd_out)"
   ]
  },
  {
   "cell_type": "code",
   "execution_count": 24,
   "metadata": {
    "collapsed": false
   },
   "outputs": [],
   "source": [
    "#s <- svd(dtms,nu=5,nv=5,LINPACK = FALSE)\n"
   ]
  },
  {
   "cell_type": "code",
   "execution_count": 25,
   "metadata": {
    "collapsed": false
   },
   "outputs": [],
   "source": [
    "#str(s)"
   ]
  },
  {
   "cell_type": "code",
   "execution_count": 26,
   "metadata": {
    "collapsed": true
   },
   "outputs": [],
   "source": [
    "#s <- svd(dtm,nu=15,nv=15,LINPACK = FALSE)\n"
   ]
  },
  {
   "cell_type": "code",
   "execution_count": 27,
   "metadata": {
    "collapsed": false
   },
   "outputs": [],
   "source": [
    "s = svd(dtm)"
   ]
  },
  {
   "cell_type": "code",
   "execution_count": 28,
   "metadata": {
    "collapsed": false
   },
   "outputs": [
    {
     "data": {
      "text/html": [
       "<table>\n",
       "<tbody>\n",
       "\t<tr><td> 8.674196e-04</td><td>-7.275106e-04</td><td> 0.0032383938</td><td> 9.223089e-05</td><td> 3.653096e-04</td><td> 1.559819e-03</td><td> 0.0017182604</td><td>-5.177336e-05</td><td> 2.195558e-03</td><td>-9.851726e-05</td><td>...          </td><td> 1.781064e-04</td><td> 1.781064e-04</td><td> 0.0001792064</td><td> 4.141557e-03</td><td> 4.141557e-03</td><td> 0.0008965046</td><td>-3.493832e-04</td><td>-1.327780e-04</td><td> 4.141557e-03</td><td> 4.141557e-03</td></tr>\n",
       "\t<tr><td>-7.853256e-04</td><td> 6.330317e-03</td><td>-0.0076237416</td><td> 8.386753e-03</td><td>-1.330091e-03</td><td>-2.382251e-03</td><td>-0.0072512202</td><td> 3.205259e-06</td><td>-1.247371e-03</td><td>-9.249243e-03</td><td>...          </td><td> 7.107643e-04</td><td> 7.107643e-04</td><td> 0.0002566947</td><td> 2.864116e-03</td><td> 2.864116e-03</td><td>-0.0002327049</td><td> 6.776849e-03</td><td>-2.213495e-03</td><td> 2.864116e-03</td><td> 2.864116e-03</td></tr>\n",
       "\t<tr><td> 1.124965e-03</td><td>-2.825948e-03</td><td>-0.0008722850</td><td> 2.479439e-03</td><td> 4.698127e-04</td><td> 1.780582e-03</td><td> 0.0066894726</td><td>-3.911405e-03</td><td> 3.325237e-03</td><td> 2.526887e-03</td><td>...          </td><td>-4.530565e-04</td><td>-4.530565e-04</td><td> 0.0011122528</td><td>-2.276479e-03</td><td>-2.276479e-03</td><td> 0.0041102675</td><td>-4.846956e-04</td><td> 1.599219e-03</td><td>-2.276479e-03</td><td>-2.276479e-03</td></tr>\n",
       "\t<tr><td> 7.739660e-04</td><td>-6.839982e-03</td><td>-0.0004713790</td><td> 5.574833e-04</td><td> 3.828394e-04</td><td> 1.039108e-03</td><td> 0.0062376675</td><td> 4.679844e-04</td><td> 1.733305e-03</td><td> 3.032761e-03</td><td>...          </td><td>-6.056387e-05</td><td>-6.056387e-05</td><td>-0.0005785018</td><td>-2.385611e-03</td><td>-2.385611e-03</td><td>-0.0007812760</td><td> 8.433749e-04</td><td> 5.014883e-04</td><td>-2.385611e-03</td><td>-2.385611e-03</td></tr>\n",
       "\t<tr><td> 5.324444e-04</td><td> 7.111412e-03</td><td> 0.0077313500</td><td> 5.985662e-04</td><td> 1.695207e-04</td><td> 6.104356e-04</td><td>-0.0022887782</td><td> 1.324404e-03</td><td> 1.403943e-03</td><td> 2.043404e-03</td><td>...          </td><td> 1.068247e-03</td><td> 1.068247e-03</td><td> 0.0131306234</td><td> 3.332806e-03</td><td> 3.332806e-03</td><td> 0.0015666201</td><td> 2.840184e-03</td><td> 9.083184e-04</td><td> 3.332806e-03</td><td> 3.332806e-03</td></tr>\n",
       "\t<tr><td> 6.276521e-04</td><td>-2.550500e-03</td><td> 0.0010651570</td><td> 2.310014e-03</td><td>-2.011635e-04</td><td> 1.014879e-03</td><td> 0.0033468537</td><td>-3.876380e-03</td><td> 2.818105e-03</td><td>-5.888845e-04</td><td>...          </td><td>-1.058004e-03</td><td>-1.058004e-03</td><td> 0.0016263234</td><td>-8.780394e-06</td><td>-8.780394e-06</td><td>-0.0013264129</td><td> 4.545762e-04</td><td> 2.084677e-03</td><td>-8.780394e-06</td><td>-8.780394e-06</td></tr>\n",
       "\t<tr><td>-3.140367e-04</td><td>-1.307934e-02</td><td> 0.0027363523</td><td>-2.715025e-03</td><td>-1.209354e-03</td><td> 4.455798e-04</td><td>-0.0002292056</td><td>-2.424236e-05</td><td>-3.082200e-03</td><td>-5.473281e-03</td><td>...          </td><td> 1.597083e-03</td><td> 1.597083e-03</td><td> 0.0050256194</td><td> 1.521186e-03</td><td> 1.521186e-03</td><td>-0.0038115001</td><td> 4.079359e-03</td><td> 3.700495e-03</td><td> 1.521186e-03</td><td> 1.521186e-03</td></tr>\n",
       "\t<tr><td> 3.798629e-04</td><td> 1.367903e-03</td><td> 0.0018867099</td><td> 1.683151e-03</td><td> 8.140968e-05</td><td> 4.345176e-05</td><td> 0.0011063026</td><td>-2.235590e-03</td><td> 1.836083e-03</td><td> 4.419812e-04</td><td>...          </td><td> 1.728710e-03</td><td> 1.728710e-03</td><td> 0.0014731843</td><td> 1.611566e-03</td><td> 1.611566e-03</td><td>-0.0026725756</td><td> 9.944028e-04</td><td> 5.108764e-05</td><td> 1.611566e-03</td><td> 1.611566e-03</td></tr>\n",
       "\t<tr><td> 3.093565e-04</td><td> 2.096008e-03</td><td>-0.0001786762</td><td> 1.950278e-03</td><td> 1.278691e-04</td><td> 2.918069e-04</td><td>-0.0006305987</td><td> 3.226616e-03</td><td> 2.152945e-03</td><td>-6.525126e-06</td><td>...          </td><td>-5.013462e-05</td><td>-5.013462e-05</td><td>-0.0005803146</td><td>-4.340314e-04</td><td>-4.340314e-04</td><td> 0.0049061828</td><td> 5.111406e-05</td><td> 1.798483e-03</td><td>-4.340314e-04</td><td>-4.340314e-04</td></tr>\n",
       "\t<tr><td> 1.257248e-03</td><td> 5.999574e-03</td><td> 0.0039897643</td><td> 3.998354e-03</td><td> 1.134732e-03</td><td>-3.737026e-05</td><td> 0.0060815056</td><td> 3.661247e-03</td><td> 5.036143e-03</td><td> 2.745360e-03</td><td>...          </td><td>-9.861095e-04</td><td>-9.861095e-04</td><td>-0.0001924205</td><td>-3.404246e-03</td><td>-3.404246e-03</td><td> 0.0045526555</td><td>-5.810384e-04</td><td>-1.943838e-03</td><td>-3.404246e-03</td><td>-3.404246e-03</td></tr>\n",
       "\t<tr><td> 5.297120e-04</td><td> 2.465573e-03</td><td> 0.0022338563</td><td> 4.363622e-03</td><td> 1.921303e-03</td><td>-1.017620e-03</td><td> 0.0020079015</td><td> 2.153093e-02</td><td> 6.707430e-03</td><td> 4.616845e-03</td><td>...          </td><td>-3.584725e-03</td><td>-3.584725e-03</td><td>-0.0002355865</td><td>-3.755193e-03</td><td>-3.755193e-03</td><td>-0.0299376544</td><td> 7.948326e-03</td><td> 1.345496e-03</td><td>-3.755193e-03</td><td>-3.755193e-03</td></tr>\n",
       "\t<tr><td> 4.411190e-04</td><td> 8.765412e-03</td><td> 0.0007829924</td><td>-6.997582e-04</td><td>-4.221906e-04</td><td> 7.531477e-05</td><td> 0.0009319725</td><td>-2.847911e-03</td><td> 5.704861e-06</td><td>-8.319404e-04</td><td>...          </td><td>-5.120148e-04</td><td>-5.120148e-04</td><td>-0.0001540678</td><td> 1.270567e-03</td><td> 1.270567e-03</td><td>-0.0003588278</td><td> 4.145750e-06</td><td>-2.387756e-03</td><td> 1.270567e-03</td><td> 1.270567e-03</td></tr>\n",
       "\t<tr><td> 1.036811e-03</td><td> 9.456977e-03</td><td> 0.0036081126</td><td> 2.912420e-03</td><td> 3.528222e-04</td><td> 6.237417e-04</td><td>-0.0003554378</td><td> 6.569284e-03</td><td> 4.268222e-03</td><td> 1.838624e-03</td><td>...          </td><td>-3.943772e-04</td><td>-3.943772e-04</td><td>-0.0022564216</td><td>-3.237608e-04</td><td>-3.237608e-04</td><td> 0.0053858063</td><td> 8.102080e-04</td><td> 1.742408e-03</td><td>-3.237608e-04</td><td>-3.237608e-04</td></tr>\n",
       "\t<tr><td> 2.225599e-04</td><td> 4.218820e-04</td><td> 0.0003227179</td><td> 2.827163e-03</td><td> 6.060926e-05</td><td> 2.715544e-04</td><td>-0.0019096662</td><td> 5.594586e-03</td><td> 2.029644e-03</td><td>-1.142729e-03</td><td>...          </td><td>-8.090426e-05</td><td>-8.090426e-05</td><td> 0.0011687849</td><td> 9.135025e-04</td><td> 9.135025e-04</td><td> 0.0102591411</td><td>-6.061050e-04</td><td> 4.943483e-03</td><td> 9.135025e-04</td><td> 9.135025e-04</td></tr>\n",
       "\t<tr><td> 8.287307e-04</td><td>-1.117824e-02</td><td>-0.0013285741</td><td>-5.724956e-04</td><td> 1.885803e-03</td><td> 2.094473e-03</td><td>-0.0033396649</td><td>-7.385951e-04</td><td> 2.201622e-03</td><td> 2.954546e-03</td><td>...          </td><td> 1.181232e-03</td><td> 1.181232e-03</td><td>-0.0019889597</td><td>-2.499956e-04</td><td>-2.499956e-04</td><td> 0.0058308948</td><td> 1.844509e-03</td><td> 6.496074e-03</td><td>-2.499956e-04</td><td>-2.499956e-04</td></tr>\n",
       "\t<tr><td> 2.168248e-04</td><td> 8.327351e-04</td><td> 0.0037589201</td><td>-6.801343e-04</td><td>-3.648138e-04</td><td>-2.456120e-04</td><td>-0.0018118643</td><td> 1.116590e-02</td><td> 2.126606e-04</td><td>-7.533612e-04</td><td>...          </td><td>-1.127856e-04</td><td>-1.127856e-04</td><td>-0.0011226040</td><td>-1.344085e-03</td><td>-1.344085e-03</td><td> 0.0006932702</td><td>-5.708046e-04</td><td> 3.943760e-04</td><td>-1.344085e-03</td><td>-1.344085e-03</td></tr>\n",
       "\t<tr><td>-1.105185e-04</td><td>-9.424363e-03</td><td>-0.0023373766</td><td>-1.021417e-03</td><td>-1.546725e-03</td><td> 1.511251e-03</td><td> 0.0022407662</td><td>-6.006264e-03</td><td> 2.574213e-03</td><td> 2.140636e-03</td><td>...          </td><td>-1.117821e-03</td><td>-1.117821e-03</td><td> 0.0016919977</td><td>-2.772325e-03</td><td>-2.772325e-03</td><td>-0.0039965652</td><td> 2.982177e-03</td><td> 2.002288e-03</td><td>-2.772325e-03</td><td>-2.772325e-03</td></tr>\n",
       "\t<tr><td> 5.416788e-04</td><td>-6.504632e-03</td><td>-0.0052209215</td><td>-3.661222e-04</td><td> 9.753068e-04</td><td> 1.966116e-03</td><td>-0.0036246320</td><td> 8.119659e-03</td><td> 2.983863e-03</td><td> 3.519336e-03</td><td>...          </td><td> 6.937448e-04</td><td> 6.937448e-04</td><td>-0.0002894960</td><td>-4.123472e-03</td><td>-4.123472e-03</td><td> 0.0022518025</td><td> 1.548512e-03</td><td> 5.301084e-03</td><td>-4.123472e-03</td><td>-4.123472e-03</td></tr>\n",
       "\t<tr><td> 8.788183e-04</td><td>-1.732487e-03</td><td> 0.0028430559</td><td> 3.566748e-03</td><td> 8.568446e-04</td><td> 6.378935e-04</td><td>-0.0002250663</td><td>-2.249953e-03</td><td> 4.334104e-03</td><td> 2.017028e-03</td><td>...          </td><td> 9.769872e-05</td><td> 9.769872e-05</td><td>-0.0017226917</td><td> 5.667261e-04</td><td> 5.667261e-04</td><td> 0.0000222378</td><td> 1.722939e-03</td><td> 1.963407e-03</td><td> 5.667261e-04</td><td> 5.667261e-04</td></tr>\n",
       "\t<tr><td> 7.103320e-04</td><td>-3.232159e-03</td><td> 0.0052402646</td><td> 1.454813e-03</td><td> 2.854476e-04</td><td> 8.787134e-04</td><td> 0.0015716565</td><td>-3.616520e-03</td><td> 2.097579e-03</td><td>-5.038778e-04</td><td>...          </td><td>-8.231122e-04</td><td>-8.231122e-04</td><td> 0.0004825038</td><td>-7.277883e-04</td><td>-7.277883e-04</td><td> 0.0006454666</td><td> 5.543739e-04</td><td> 1.239551e-03</td><td>-7.277883e-04</td><td>-7.277883e-04</td></tr>\n",
       "\t<tr><td> 4.871062e-04</td><td>-3.257118e-04</td><td>-0.0018616373</td><td> 1.257869e-03</td><td> 4.993125e-04</td><td> 1.092318e-04</td><td>-0.0016578639</td><td> 2.856064e-03</td><td> 3.199469e-03</td><td>-2.098445e-04</td><td>...          </td><td> 7.763614e-04</td><td> 7.763614e-04</td><td>-0.0005502808</td><td>-7.611515e-04</td><td>-7.611515e-04</td><td> 0.0021442420</td><td>-5.348626e-04</td><td> 2.983413e-03</td><td>-7.611515e-04</td><td>-7.611515e-04</td></tr>\n",
       "\t<tr><td>-2.054444e-05</td><td> 1.604038e-02</td><td>-0.0050967964</td><td> 3.267218e-03</td><td> 9.248153e-04</td><td>-3.553112e-04</td><td> 0.0005480190</td><td> 6.479887e-03</td><td>-1.607877e-04</td><td> 2.153211e-03</td><td>...          </td><td>-5.216197e-04</td><td>-5.216197e-04</td><td>-0.0044847633</td><td> 3.394936e-04</td><td> 3.394936e-04</td><td> 0.0012082866</td><td> 7.739075e-04</td><td> 1.148747e-03</td><td> 3.394936e-04</td><td> 3.394936e-04</td></tr>\n",
       "\t<tr><td> 5.115302e-04</td><td> 6.302953e-03</td><td>-0.0002577916</td><td> 1.511209e-03</td><td> 3.079087e-04</td><td> 9.802687e-04</td><td>-0.0023267687</td><td> 5.916459e-03</td><td> 3.814902e-03</td><td> 2.049601e-03</td><td>...          </td><td>-4.311926e-04</td><td>-4.311926e-04</td><td>-0.0012580283</td><td>-7.151485e-04</td><td>-7.151485e-04</td><td> 0.0047410945</td><td> 2.311125e-04</td><td> 5.118289e-06</td><td>-7.151485e-04</td><td>-7.151485e-04</td></tr>\n",
       "\t<tr><td> 9.686926e-04</td><td>-8.265944e-06</td><td> 0.0065107417</td><td> 6.133437e-04</td><td> 1.616644e-04</td><td> 1.571557e-03</td><td> 0.0026474067</td><td>-3.264446e-05</td><td> 2.388042e-03</td><td>-1.464724e-03</td><td>...          </td><td> 2.311149e-04</td><td> 2.311149e-04</td><td>-0.0007307389</td><td> 9.914760e-04</td><td> 9.914760e-04</td><td> 0.0011884896</td><td>-1.807828e-04</td><td> 7.109357e-04</td><td> 9.914760e-04</td><td> 9.914760e-04</td></tr>\n",
       "\t<tr><td> 6.922492e-04</td><td> 4.818257e-03</td><td> 0.0003159393</td><td> 2.726634e-03</td><td> 5.902644e-04</td><td> 5.394641e-04</td><td> 0.0010020470</td><td> 1.303505e-03</td><td> 2.905185e-03</td><td> 9.702067e-04</td><td>...          </td><td> 3.905685e-04</td><td> 3.905685e-04</td><td>-0.0008386636</td><td> 8.565405e-04</td><td> 8.565405e-04</td><td> 0.0071692660</td><td>-1.261407e-05</td><td> 1.877085e-03</td><td> 8.565405e-04</td><td> 8.565405e-04</td></tr>\n",
       "\t<tr><td> 3.802638e-04</td><td> 3.160858e-03</td><td>-0.0013504046</td><td> 1.099849e-03</td><td> 7.643806e-04</td><td> 1.336383e-04</td><td> 0.0008195681</td><td> 8.027880e-04</td><td> 2.834130e-03</td><td> 1.406928e-03</td><td>...          </td><td> 6.778486e-04</td><td> 6.778486e-04</td><td>-0.0018402525</td><td> 2.175596e-03</td><td> 2.175596e-03</td><td> 0.0168886440</td><td> 2.636481e-04</td><td>-9.660606e-04</td><td> 2.175596e-03</td><td> 2.175596e-03</td></tr>\n",
       "\t<tr><td> 1.018358e-03</td><td>-1.503407e-03</td><td> 0.0029116764</td><td> 2.354936e-03</td><td> 5.991056e-04</td><td> 1.354808e-03</td><td> 0.0008250951</td><td> 3.476914e-04</td><td> 4.510118e-03</td><td> 1.315692e-03</td><td>...          </td><td> 1.097888e-04</td><td> 1.097888e-04</td><td>-0.0014796229</td><td> 3.319715e-04</td><td> 3.319715e-04</td><td> 0.0014892945</td><td> 3.145609e-04</td><td> 1.544260e-03</td><td> 3.319715e-04</td><td> 3.319715e-04</td></tr>\n",
       "\t<tr><td> 2.519481e-04</td><td> 7.688502e-05</td><td>-0.0010720508</td><td> 1.813462e-04</td><td>-2.133280e-04</td><td> 1.513367e-03</td><td>-0.0020081145</td><td>-3.558716e-03</td><td> 3.781676e-03</td><td> 4.760689e-03</td><td>...          </td><td> 1.116311e-03</td><td> 1.116311e-03</td><td> 0.0032046664</td><td>-1.928559e-03</td><td>-1.928559e-03</td><td>-0.0016910673</td><td> 4.358325e-03</td><td>-1.790885e-03</td><td>-1.928559e-03</td><td>-1.928559e-03</td></tr>\n",
       "\t<tr><td> 3.668852e-04</td><td> 1.869630e-02</td><td>-0.0019265081</td><td> 4.317358e-03</td><td> 2.051320e-03</td><td>-2.158311e-04</td><td> 0.0010969714</td><td> 1.162912e-02</td><td> 1.820439e-03</td><td> 4.388911e-03</td><td>...          </td><td>-5.815908e-04</td><td>-5.815908e-04</td><td>-0.0001827865</td><td>-2.299785e-03</td><td>-2.299785e-03</td><td> 0.0021796288</td><td> 7.860746e-04</td><td> 4.539126e-03</td><td>-2.299785e-03</td><td>-2.299785e-03</td></tr>\n",
       "\t<tr><td>-1.082864e-04</td><td>-1.213643e-02</td><td>-0.0050740915</td><td> 2.060325e-03</td><td>-7.739454e-04</td><td> 7.292996e-04</td><td> 0.0054356625</td><td>-4.642928e-03</td><td> 4.504043e-04</td><td> 1.995682e-03</td><td>...          </td><td> 2.059545e-04</td><td> 2.059545e-04</td><td>-0.0034377956</td><td>-5.720134e-05</td><td>-5.720134e-05</td><td>-0.0049654553</td><td> 2.181037e-03</td><td>-9.093361e-05</td><td>-5.720134e-05</td><td>-5.720134e-05</td></tr>\n",
       "\t<tr><td>...</td><td>...</td><td>...</td><td>...</td><td>...</td><td>...</td><td>...</td><td>...</td><td>...</td><td>...</td><td>   </td><td>...</td><td>...</td><td>...</td><td>...</td><td>...</td><td>...</td><td>...</td><td>...</td><td>...</td><td>...</td></tr>\n",
       "\t<tr><td> 5.633169e-04</td><td> 0.0057388800</td><td>-0.0046101739</td><td> 0.0012532755</td><td> 1.985905e-03</td><td>-3.134441e-04</td><td> 0.0058635503</td><td> 0.0194706347</td><td> 2.715921e-03</td><td> 3.504385e-03</td><td>...          </td><td>-1.305918e-03</td><td>-1.305918e-03</td><td> 9.201054e-04</td><td> 6.898304e-04</td><td> 6.898304e-04</td><td>-0.0037580512</td><td> 1.869574e-03</td><td> 5.070805e-04</td><td> 6.898304e-04</td><td> 6.898304e-04</td></tr>\n",
       "\t<tr><td> 7.805244e-05</td><td> 0.0027151725</td><td> 0.0015790896</td><td> 0.0028454311</td><td> 6.551374e-05</td><td>-5.482616e-04</td><td> 0.0031278553</td><td> 0.0037153625</td><td> 1.700760e-03</td><td>-9.712749e-04</td><td>...          </td><td>-8.331687e-04</td><td>-8.331687e-04</td><td> 1.932823e-05</td><td> 4.575641e-04</td><td> 4.575641e-04</td><td>-0.0009499378</td><td>-5.586668e-04</td><td> 1.019020e-03</td><td> 4.575641e-04</td><td> 4.575641e-04</td></tr>\n",
       "\t<tr><td> 3.474696e-04</td><td> 0.0012054202</td><td> 0.0007123476</td><td> 0.0030771500</td><td> 3.121014e-04</td><td> 1.468036e-04</td><td> 0.0013788825</td><td> 0.0063576112</td><td> 2.556864e-03</td><td>-1.238237e-04</td><td>...          </td><td> 1.130272e-04</td><td> 1.130272e-04</td><td>-1.740950e-04</td><td>-4.657474e-04</td><td>-4.657474e-04</td><td> 0.0032406599</td><td>-8.111721e-04</td><td> 4.101646e-03</td><td>-4.657474e-04</td><td>-4.657474e-04</td></tr>\n",
       "\t<tr><td> 9.868603e-04</td><td> 0.0110195657</td><td>-0.0002184857</td><td> 0.0037702082</td><td> 1.695351e-03</td><td> 1.021719e-03</td><td>-0.0003478669</td><td> 0.0183127583</td><td> 4.812933e-03</td><td> 3.111272e-03</td><td>...          </td><td>-1.043708e-03</td><td>-1.043708e-03</td><td>-3.804887e-03</td><td>-3.630739e-03</td><td>-3.630739e-03</td><td> 0.0029696937</td><td> 9.876728e-04</td><td> 5.331159e-03</td><td>-3.630739e-03</td><td>-3.630739e-03</td></tr>\n",
       "\t<tr><td> 1.228538e-03</td><td> 0.0016578639</td><td> 0.0036938695</td><td> 0.0048457221</td><td> 1.445738e-03</td><td>-2.049578e-05</td><td> 0.0023289397</td><td> 0.0054682365</td><td> 6.603883e-03</td><td> 3.644760e-03</td><td>...          </td><td>-5.881818e-04</td><td>-5.881818e-04</td><td>-4.814984e-04</td><td> 7.527214e-03</td><td> 7.527214e-03</td><td>-0.0056763277</td><td>-3.628678e-04</td><td> 3.889836e-03</td><td> 7.527214e-03</td><td> 7.527214e-03</td></tr>\n",
       "\t<tr><td> 1.157448e-03</td><td> 0.0127871686</td><td>-0.0038688649</td><td> 0.0051763169</td><td> 9.021108e-04</td><td> 1.660335e-03</td><td> 0.0037574261</td><td> 0.0014840526</td><td> 3.913835e-03</td><td> 1.739311e-04</td><td>...          </td><td> 4.428555e-04</td><td> 4.428555e-04</td><td> 1.633170e-03</td><td>-8.559413e-04</td><td>-8.559413e-04</td><td> 0.0099305155</td><td>-5.469084e-04</td><td> 2.329640e-03</td><td>-8.559413e-04</td><td>-8.559413e-04</td></tr>\n",
       "\t<tr><td> 8.888723e-04</td><td> 0.0040083966</td><td> 0.0002159190</td><td> 0.0023756356</td><td> 8.507601e-04</td><td> 1.450039e-03</td><td> 0.0013686092</td><td> 0.0056430527</td><td> 3.157206e-03</td><td> 8.136254e-04</td><td>...          </td><td> 1.339791e-03</td><td> 1.339791e-03</td><td>-1.263750e-03</td><td> 9.538466e-04</td><td> 9.538466e-04</td><td> 0.0038701769</td><td> 4.617519e-04</td><td> 7.792902e-04</td><td> 9.538466e-04</td><td> 9.538466e-04</td></tr>\n",
       "\t<tr><td> 7.988607e-04</td><td> 0.0006925443</td><td>-0.0005245871</td><td> 0.0007115684</td><td> 9.075503e-04</td><td> 2.543585e-03</td><td> 0.0057273449</td><td> 0.0000398237</td><td> 2.499258e-03</td><td>-2.255940e-04</td><td>...          </td><td> 6.469670e-04</td><td> 6.469670e-04</td><td>-4.988507e-04</td><td> 2.342927e-03</td><td> 2.342927e-03</td><td>-0.0046526930</td><td>-1.123085e-03</td><td>-2.349302e-05</td><td> 2.342927e-03</td><td> 2.342927e-03</td></tr>\n",
       "\t<tr><td> 9.009735e-04</td><td> 0.0049352503</td><td> 0.0041377772</td><td> 0.0020443480</td><td> 1.062354e-03</td><td> 2.392013e-04</td><td>-0.0011591641</td><td> 0.0054594852</td><td> 3.970996e-03</td><td> 2.246020e-03</td><td>...          </td><td>-1.789111e-05</td><td>-1.789111e-05</td><td> 1.722089e-03</td><td>-8.316016e-04</td><td>-8.316016e-04</td><td> 0.0017611530</td><td>-3.985360e-04</td><td> 6.290823e-04</td><td>-8.316016e-04</td><td>-8.316016e-04</td></tr>\n",
       "\t<tr><td> 7.034552e-04</td><td>-0.0036149793</td><td> 0.0012639449</td><td> 0.0025479851</td><td> 1.500696e-04</td><td> 6.535488e-04</td><td> 0.0033305905</td><td> 0.0020075089</td><td> 2.669061e-03</td><td>-1.224816e-03</td><td>...          </td><td>-3.395274e-05</td><td>-3.395274e-05</td><td>-1.528594e-03</td><td>-1.264354e-03</td><td>-1.264354e-03</td><td> 0.0017759878</td><td>-1.054566e-03</td><td> 1.897879e-03</td><td>-1.264354e-03</td><td>-1.264354e-03</td></tr>\n",
       "\t<tr><td> 7.853513e-05</td><td>-0.0052495836</td><td>-0.0051750612</td><td> 0.0003643798</td><td> 2.503917e-03</td><td> 7.392924e-04</td><td> 0.0089073025</td><td> 0.0106993739</td><td>-2.436934e-04</td><td>-3.451509e-05</td><td>...          </td><td> 1.387175e-04</td><td> 1.387175e-04</td><td> 1.340484e-03</td><td>-3.025500e-04</td><td>-3.025500e-04</td><td>-0.0022323511</td><td> 2.376062e-03</td><td>-1.075154e-04</td><td>-3.025500e-04</td><td>-3.025500e-04</td></tr>\n",
       "\t<tr><td> 2.468382e-04</td><td> 0.0313757819</td><td>-0.0159097400</td><td> 0.0080465697</td><td> 2.387671e-03</td><td>-1.746037e-03</td><td> 0.0096327586</td><td>-0.0017414232</td><td>-4.178139e-03</td><td> 9.007089e-04</td><td>...          </td><td>-1.832294e-04</td><td>-1.832294e-04</td><td> 2.267850e-03</td><td> 3.433832e-03</td><td> 3.433832e-03</td><td> 0.0317256820</td><td>-3.495466e-03</td><td> 6.021421e-03</td><td> 3.433832e-03</td><td> 3.433832e-03</td></tr>\n",
       "\t<tr><td> 4.301425e-04</td><td> 0.0098660810</td><td>-0.0069077851</td><td> 0.0050500941</td><td> 6.446105e-04</td><td> 9.905881e-04</td><td> 0.0092811522</td><td>-0.0062424675</td><td>-3.657678e-04</td><td>-1.176956e-03</td><td>...          </td><td> 4.150898e-04</td><td> 4.150898e-04</td><td> 2.080166e-04</td><td> 2.093139e-03</td><td> 2.093139e-03</td><td> 0.0103522937</td><td>-1.082186e-03</td><td> 4.319313e-03</td><td> 2.093139e-03</td><td> 2.093139e-03</td></tr>\n",
       "\t<tr><td> 4.237322e-04</td><td> 0.0063442750</td><td>-0.0008093900</td><td> 0.0024062078</td><td> 8.533081e-04</td><td> 3.518199e-04</td><td> 0.0012179032</td><td> 0.0081170481</td><td> 2.667899e-03</td><td> 3.261148e-03</td><td>...          </td><td> 5.320300e-05</td><td> 5.320300e-05</td><td> 5.520576e-04</td><td> 7.438068e-05</td><td> 7.438068e-05</td><td> 0.0062062380</td><td> 3.955926e-04</td><td> 1.473830e-03</td><td> 7.438068e-05</td><td> 7.438068e-05</td></tr>\n",
       "\t<tr><td> 5.485623e-04</td><td> 0.0175370996</td><td>-0.0034295826</td><td> 0.0039687349</td><td> 1.418111e-03</td><td> 1.938472e-03</td><td> 0.0019667122</td><td> 0.0020434812</td><td> 2.365569e-03</td><td> 3.305867e-04</td><td>...          </td><td>-2.756707e-04</td><td>-2.756707e-04</td><td>-1.604152e-03</td><td>-1.830281e-03</td><td>-1.830281e-03</td><td> 0.0046200859</td><td>-5.406296e-04</td><td>-1.650887e-03</td><td>-1.830281e-03</td><td>-1.830281e-03</td></tr>\n",
       "\t<tr><td> 1.207404e-03</td><td> 0.0074164582</td><td> 0.0016609839</td><td> 0.0041592871</td><td> 1.037066e-03</td><td> 1.367936e-03</td><td> 0.0037384334</td><td> 0.0082930738</td><td> 6.573859e-03</td><td> 2.109158e-05</td><td>...          </td><td>-1.972428e-03</td><td>-1.972428e-03</td><td> 4.706842e-04</td><td>-2.115556e-03</td><td>-2.115556e-03</td><td>-0.0026914197</td><td>-5.570784e-04</td><td> 4.524070e-03</td><td>-2.115556e-03</td><td>-2.115556e-03</td></tr>\n",
       "\t<tr><td> 9.360142e-04</td><td>-0.0021495060</td><td> 0.0041499813</td><td>-0.0007484592</td><td> 1.429020e-03</td><td> 3.296058e-03</td><td>-0.0032175248</td><td>-0.0063945888</td><td> 4.548527e-04</td><td>-1.291875e-03</td><td>...          </td><td>-1.348980e-03</td><td>-1.348980e-03</td><td> 1.757106e-03</td><td>-2.710986e-03</td><td>-2.710986e-03</td><td>-0.0142258121</td><td>-2.328307e-03</td><td> 9.368089e-03</td><td>-2.710986e-03</td><td>-2.710986e-03</td></tr>\n",
       "\t<tr><td> 3.825058e-04</td><td>-0.0145559319</td><td>-0.0003978473</td><td> 0.0006249585</td><td>-6.179857e-04</td><td>-2.936308e-04</td><td> 0.0061420453</td><td> 0.0009593279</td><td>-1.681354e-05</td><td>-2.507729e-04</td><td>...          </td><td>-7.723676e-04</td><td>-7.723676e-04</td><td>-1.901961e-03</td><td>-4.855100e-03</td><td>-4.855100e-03</td><td> 0.0013140369</td><td> 8.071438e-04</td><td> 3.934174e-03</td><td>-4.855100e-03</td><td>-4.855100e-03</td></tr>\n",
       "\t<tr><td> 5.516849e-04</td><td> 0.0145438611</td><td>-0.0055965639</td><td> 0.0034599503</td><td> 1.091136e-03</td><td> 1.775572e-03</td><td> 0.0018418155</td><td>-0.0048500122</td><td>-5.906148e-04</td><td>-1.541208e-03</td><td>...          </td><td> 1.275723e-04</td><td> 1.275723e-04</td><td>-8.660534e-04</td><td> 1.478803e-03</td><td> 1.478803e-03</td><td> 0.0397724032</td><td> 2.043852e-04</td><td> 4.663277e-04</td><td> 1.478803e-03</td><td> 1.478803e-03</td></tr>\n",
       "\t<tr><td>-3.040019e-04</td><td>-0.0015542151</td><td>-0.0012348124</td><td> 0.0008106209</td><td> 3.105229e-04</td><td>-5.180385e-04</td><td> 0.0011318464</td><td>-0.0016874625</td><td>-6.496727e-04</td><td> 2.228567e-03</td><td>...          </td><td>-6.220672e-05</td><td>-6.220672e-05</td><td>-5.676062e-04</td><td>-6.515047e-04</td><td>-6.515047e-04</td><td> 0.0037267439</td><td>-3.854780e-04</td><td> 2.881563e-03</td><td>-6.515047e-04</td><td>-6.515047e-04</td></tr>\n",
       "\t<tr><td>-2.049687e-04</td><td> 0.0114332899</td><td>-0.0055446072</td><td>-0.0016919978</td><td>-1.022759e-03</td><td> 2.116916e-03</td><td> 0.0016475994</td><td> 0.0096874405</td><td> 2.268006e-03</td><td> 1.181403e-03</td><td>...          </td><td>-2.845497e-04</td><td>-2.845497e-04</td><td>-2.983633e-05</td><td>-1.101491e-03</td><td>-1.101491e-03</td><td>-0.0152729565</td><td> 2.514630e-04</td><td> 1.026916e-03</td><td>-1.101491e-03</td><td>-1.101491e-03</td></tr>\n",
       "\t<tr><td> 5.450614e-04</td><td>-0.0002703277</td><td>-0.0015029405</td><td> 0.0010592843</td><td> 7.421954e-04</td><td> 1.653157e-03</td><td> 0.0031677239</td><td> 0.0038295617</td><td> 2.627683e-03</td><td>-3.219964e-04</td><td>...          </td><td> 2.574449e-04</td><td> 2.574449e-04</td><td>-1.453223e-04</td><td>-1.434645e-03</td><td>-1.434645e-03</td><td> 0.0004948338</td><td>-4.731399e-04</td><td> 5.733988e-04</td><td>-1.434645e-03</td><td>-1.434645e-03</td></tr>\n",
       "\t<tr><td> 3.952214e-04</td><td>-0.0039979150</td><td>-0.0027911752</td><td>-0.0003173316</td><td>-5.700033e-05</td><td> 1.078490e-03</td><td> 0.0039044509</td><td> 0.0124013511</td><td>-2.198756e-05</td><td>-1.402523e-04</td><td>...          </td><td> 3.626340e-04</td><td> 3.626340e-04</td><td> 1.281217e-03</td><td>-2.929078e-03</td><td>-2.929078e-03</td><td>-0.0002638728</td><td> 1.651929e-04</td><td> 3.395866e-03</td><td>-2.929078e-03</td><td>-2.929078e-03</td></tr>\n",
       "\t<tr><td> 7.344236e-04</td><td> 0.0164083378</td><td>-0.0029519026</td><td> 0.0042869459</td><td> 1.819145e-03</td><td> 1.627268e-03</td><td> 0.0037984719</td><td>-0.0014400589</td><td> 2.631532e-03</td><td>-6.841636e-04</td><td>...          </td><td>-3.249093e-04</td><td>-3.249093e-04</td><td>-1.565225e-03</td><td>-2.043565e-03</td><td>-2.043565e-03</td><td> 0.0027886126</td><td>-7.534462e-04</td><td>-1.390783e-03</td><td>-2.043565e-03</td><td>-2.043565e-03</td></tr>\n",
       "\t<tr><td> 3.631850e-04</td><td>-0.0014887684</td><td> 0.0003049545</td><td> 0.0008326444</td><td> 1.225113e-03</td><td> 4.682833e-04</td><td> 0.0013822929</td><td> 0.0038178382</td><td> 1.028833e-03</td><td>-4.746544e-04</td><td>...          </td><td>-2.505312e-04</td><td>-2.505312e-04</td><td>-1.036820e-03</td><td>-1.760990e-04</td><td>-1.760990e-04</td><td> 0.0026777858</td><td> 4.319340e-05</td><td> 3.322548e-04</td><td>-1.760990e-04</td><td>-1.760990e-04</td></tr>\n",
       "\t<tr><td>-2.261453e-05</td><td> 0.0089930587</td><td>-0.0027126828</td><td> 0.0052950559</td><td> 6.021215e-04</td><td>-1.421662e-03</td><td>-0.0008479451</td><td> 0.0069923999</td><td> 1.929693e-03</td><td> 3.188307e-03</td><td>...          </td><td>-3.582103e-04</td><td>-3.582103e-04</td><td>-5.269537e-03</td><td> 1.019481e-02</td><td> 1.019481e-02</td><td> 0.0104350860</td><td>-2.789638e-04</td><td> 5.292466e-03</td><td> 1.019481e-02</td><td> 1.019481e-02</td></tr>\n",
       "\t<tr><td>-6.905699e-05</td><td> 0.0020824936</td><td>-0.0005081949</td><td>-0.0010133647</td><td> 4.658172e-03</td><td>-4.278313e-04</td><td> 0.0010402748</td><td> 0.0010902773</td><td>-2.606747e-03</td><td> 2.965662e-04</td><td>...          </td><td> 3.448056e-04</td><td> 3.448056e-04</td><td> 2.188837e-03</td><td> 2.918624e-04</td><td> 2.918624e-04</td><td>-0.0025084308</td><td> 9.354253e-04</td><td>-2.477783e-03</td><td> 2.918624e-04</td><td> 2.918624e-04</td></tr>\n",
       "\t<tr><td> 2.517317e-04</td><td> 0.0020835453</td><td> 0.0007925239</td><td>-0.0023570653</td><td> 3.657244e-03</td><td>-6.116222e-04</td><td>-0.0095132487</td><td> 0.0027756712</td><td> 2.759537e-03</td><td> 2.150127e-02</td><td>...          </td><td>-4.257932e-04</td><td>-4.257932e-04</td><td> 5.827784e-03</td><td>-3.238630e-03</td><td>-3.238630e-03</td><td>-0.0030358499</td><td> 4.153861e-03</td><td> 3.367500e-04</td><td>-3.238630e-03</td><td>-3.238630e-03</td></tr>\n",
       "\t<tr><td> 1.391727e-03</td><td> 0.0066407832</td><td> 0.0073438843</td><td> 0.0031860328</td><td> 1.272044e-03</td><td> 8.620533e-04</td><td> 0.0016397569</td><td> 0.0072794157</td><td> 4.458729e-03</td><td> 1.274774e-03</td><td>...          </td><td> 4.806806e-04</td><td> 4.806806e-04</td><td>-1.902102e-03</td><td>-2.202693e-03</td><td>-2.202693e-03</td><td> 0.0026562515</td><td>-2.610135e-05</td><td> 5.763393e-05</td><td>-2.202693e-03</td><td>-2.202693e-03</td></tr>\n",
       "\t<tr><td> 9.597818e-04</td><td>-0.0024326763</td><td> 0.0049857991</td><td>-0.0010234082</td><td> 1.615477e-03</td><td> 3.436698e-03</td><td>-0.0056463358</td><td>-0.0057270644</td><td>-4.210470e-04</td><td>-9.524961e-04</td><td>...          </td><td>-1.935641e-03</td><td>-1.935641e-03</td><td> 1.150913e-03</td><td>-4.337225e-03</td><td>-4.337225e-03</td><td>-0.0138282799</td><td>-2.704745e-03</td><td> 1.483929e-02</td><td>-4.337225e-03</td><td>-4.337225e-03</td></tr>\n",
       "</tbody>\n",
       "</table>\n"
      ],
      "text/markdown": [
       "\n",
       "|  8.674196e-04 | -7.275106e-04 |  0.0032383938 |  9.223089e-05 |  3.653096e-04 |  1.559819e-03 |  0.0017182604 | -5.177336e-05 |  2.195558e-03 | -9.851726e-05 | ...           |  1.781064e-04 |  1.781064e-04 |  0.0001792064 |  4.141557e-03 |  4.141557e-03 |  0.0008965046 | -3.493832e-04 | -1.327780e-04 |  4.141557e-03 |  4.141557e-03 | \n",
       "| -7.853256e-04 |  6.330317e-03 | -0.0076237416 |  8.386753e-03 | -1.330091e-03 | -2.382251e-03 | -0.0072512202 |  3.205259e-06 | -1.247371e-03 | -9.249243e-03 | ...           |  7.107643e-04 |  7.107643e-04 |  0.0002566947 |  2.864116e-03 |  2.864116e-03 | -0.0002327049 |  6.776849e-03 | -2.213495e-03 |  2.864116e-03 |  2.864116e-03 | \n",
       "|  1.124965e-03 | -2.825948e-03 | -0.0008722850 |  2.479439e-03 |  4.698127e-04 |  1.780582e-03 |  0.0066894726 | -3.911405e-03 |  3.325237e-03 |  2.526887e-03 | ...           | -4.530565e-04 | -4.530565e-04 |  0.0011122528 | -2.276479e-03 | -2.276479e-03 |  0.0041102675 | -4.846956e-04 |  1.599219e-03 | -2.276479e-03 | -2.276479e-03 | \n",
       "|  7.739660e-04 | -6.839982e-03 | -0.0004713790 |  5.574833e-04 |  3.828394e-04 |  1.039108e-03 |  0.0062376675 |  4.679844e-04 |  1.733305e-03 |  3.032761e-03 | ...           | -6.056387e-05 | -6.056387e-05 | -0.0005785018 | -2.385611e-03 | -2.385611e-03 | -0.0007812760 |  8.433749e-04 |  5.014883e-04 | -2.385611e-03 | -2.385611e-03 | \n",
       "|  5.324444e-04 |  7.111412e-03 |  0.0077313500 |  5.985662e-04 |  1.695207e-04 |  6.104356e-04 | -0.0022887782 |  1.324404e-03 |  1.403943e-03 |  2.043404e-03 | ...           |  1.068247e-03 |  1.068247e-03 |  0.0131306234 |  3.332806e-03 |  3.332806e-03 |  0.0015666201 |  2.840184e-03 |  9.083184e-04 |  3.332806e-03 |  3.332806e-03 | \n",
       "|  6.276521e-04 | -2.550500e-03 |  0.0010651570 |  2.310014e-03 | -2.011635e-04 |  1.014879e-03 |  0.0033468537 | -3.876380e-03 |  2.818105e-03 | -5.888845e-04 | ...           | -1.058004e-03 | -1.058004e-03 |  0.0016263234 | -8.780394e-06 | -8.780394e-06 | -0.0013264129 |  4.545762e-04 |  2.084677e-03 | -8.780394e-06 | -8.780394e-06 | \n",
       "| -3.140367e-04 | -1.307934e-02 |  0.0027363523 | -2.715025e-03 | -1.209354e-03 |  4.455798e-04 | -0.0002292056 | -2.424236e-05 | -3.082200e-03 | -5.473281e-03 | ...           |  1.597083e-03 |  1.597083e-03 |  0.0050256194 |  1.521186e-03 |  1.521186e-03 | -0.0038115001 |  4.079359e-03 |  3.700495e-03 |  1.521186e-03 |  1.521186e-03 | \n",
       "|  3.798629e-04 |  1.367903e-03 |  0.0018867099 |  1.683151e-03 |  8.140968e-05 |  4.345176e-05 |  0.0011063026 | -2.235590e-03 |  1.836083e-03 |  4.419812e-04 | ...           |  1.728710e-03 |  1.728710e-03 |  0.0014731843 |  1.611566e-03 |  1.611566e-03 | -0.0026725756 |  9.944028e-04 |  5.108764e-05 |  1.611566e-03 |  1.611566e-03 | \n",
       "|  3.093565e-04 |  2.096008e-03 | -0.0001786762 |  1.950278e-03 |  1.278691e-04 |  2.918069e-04 | -0.0006305987 |  3.226616e-03 |  2.152945e-03 | -6.525126e-06 | ...           | -5.013462e-05 | -5.013462e-05 | -0.0005803146 | -4.340314e-04 | -4.340314e-04 |  0.0049061828 |  5.111406e-05 |  1.798483e-03 | -4.340314e-04 | -4.340314e-04 | \n",
       "|  1.257248e-03 |  5.999574e-03 |  0.0039897643 |  3.998354e-03 |  1.134732e-03 | -3.737026e-05 |  0.0060815056 |  3.661247e-03 |  5.036143e-03 |  2.745360e-03 | ...           | -9.861095e-04 | -9.861095e-04 | -0.0001924205 | -3.404246e-03 | -3.404246e-03 |  0.0045526555 | -5.810384e-04 | -1.943838e-03 | -3.404246e-03 | -3.404246e-03 | \n",
       "|  5.297120e-04 |  2.465573e-03 |  0.0022338563 |  4.363622e-03 |  1.921303e-03 | -1.017620e-03 |  0.0020079015 |  2.153093e-02 |  6.707430e-03 |  4.616845e-03 | ...           | -3.584725e-03 | -3.584725e-03 | -0.0002355865 | -3.755193e-03 | -3.755193e-03 | -0.0299376544 |  7.948326e-03 |  1.345496e-03 | -3.755193e-03 | -3.755193e-03 | \n",
       "|  4.411190e-04 |  8.765412e-03 |  0.0007829924 | -6.997582e-04 | -4.221906e-04 |  7.531477e-05 |  0.0009319725 | -2.847911e-03 |  5.704861e-06 | -8.319404e-04 | ...           | -5.120148e-04 | -5.120148e-04 | -0.0001540678 |  1.270567e-03 |  1.270567e-03 | -0.0003588278 |  4.145750e-06 | -2.387756e-03 |  1.270567e-03 |  1.270567e-03 | \n",
       "|  1.036811e-03 |  9.456977e-03 |  0.0036081126 |  2.912420e-03 |  3.528222e-04 |  6.237417e-04 | -0.0003554378 |  6.569284e-03 |  4.268222e-03 |  1.838624e-03 | ...           | -3.943772e-04 | -3.943772e-04 | -0.0022564216 | -3.237608e-04 | -3.237608e-04 |  0.0053858063 |  8.102080e-04 |  1.742408e-03 | -3.237608e-04 | -3.237608e-04 | \n",
       "|  2.225599e-04 |  4.218820e-04 |  0.0003227179 |  2.827163e-03 |  6.060926e-05 |  2.715544e-04 | -0.0019096662 |  5.594586e-03 |  2.029644e-03 | -1.142729e-03 | ...           | -8.090426e-05 | -8.090426e-05 |  0.0011687849 |  9.135025e-04 |  9.135025e-04 |  0.0102591411 | -6.061050e-04 |  4.943483e-03 |  9.135025e-04 |  9.135025e-04 | \n",
       "|  8.287307e-04 | -1.117824e-02 | -0.0013285741 | -5.724956e-04 |  1.885803e-03 |  2.094473e-03 | -0.0033396649 | -7.385951e-04 |  2.201622e-03 |  2.954546e-03 | ...           |  1.181232e-03 |  1.181232e-03 | -0.0019889597 | -2.499956e-04 | -2.499956e-04 |  0.0058308948 |  1.844509e-03 |  6.496074e-03 | -2.499956e-04 | -2.499956e-04 | \n",
       "|  2.168248e-04 |  8.327351e-04 |  0.0037589201 | -6.801343e-04 | -3.648138e-04 | -2.456120e-04 | -0.0018118643 |  1.116590e-02 |  2.126606e-04 | -7.533612e-04 | ...           | -1.127856e-04 | -1.127856e-04 | -0.0011226040 | -1.344085e-03 | -1.344085e-03 |  0.0006932702 | -5.708046e-04 |  3.943760e-04 | -1.344085e-03 | -1.344085e-03 | \n",
       "| -1.105185e-04 | -9.424363e-03 | -0.0023373766 | -1.021417e-03 | -1.546725e-03 |  1.511251e-03 |  0.0022407662 | -6.006264e-03 |  2.574213e-03 |  2.140636e-03 | ...           | -1.117821e-03 | -1.117821e-03 |  0.0016919977 | -2.772325e-03 | -2.772325e-03 | -0.0039965652 |  2.982177e-03 |  2.002288e-03 | -2.772325e-03 | -2.772325e-03 | \n",
       "|  5.416788e-04 | -6.504632e-03 | -0.0052209215 | -3.661222e-04 |  9.753068e-04 |  1.966116e-03 | -0.0036246320 |  8.119659e-03 |  2.983863e-03 |  3.519336e-03 | ...           |  6.937448e-04 |  6.937448e-04 | -0.0002894960 | -4.123472e-03 | -4.123472e-03 |  0.0022518025 |  1.548512e-03 |  5.301084e-03 | -4.123472e-03 | -4.123472e-03 | \n",
       "|  8.788183e-04 | -1.732487e-03 |  0.0028430559 |  3.566748e-03 |  8.568446e-04 |  6.378935e-04 | -0.0002250663 | -2.249953e-03 |  4.334104e-03 |  2.017028e-03 | ...           |  9.769872e-05 |  9.769872e-05 | -0.0017226917 |  5.667261e-04 |  5.667261e-04 |  0.0000222378 |  1.722939e-03 |  1.963407e-03 |  5.667261e-04 |  5.667261e-04 | \n",
       "|  7.103320e-04 | -3.232159e-03 |  0.0052402646 |  1.454813e-03 |  2.854476e-04 |  8.787134e-04 |  0.0015716565 | -3.616520e-03 |  2.097579e-03 | -5.038778e-04 | ...           | -8.231122e-04 | -8.231122e-04 |  0.0004825038 | -7.277883e-04 | -7.277883e-04 |  0.0006454666 |  5.543739e-04 |  1.239551e-03 | -7.277883e-04 | -7.277883e-04 | \n",
       "|  4.871062e-04 | -3.257118e-04 | -0.0018616373 |  1.257869e-03 |  4.993125e-04 |  1.092318e-04 | -0.0016578639 |  2.856064e-03 |  3.199469e-03 | -2.098445e-04 | ...           |  7.763614e-04 |  7.763614e-04 | -0.0005502808 | -7.611515e-04 | -7.611515e-04 |  0.0021442420 | -5.348626e-04 |  2.983413e-03 | -7.611515e-04 | -7.611515e-04 | \n",
       "| -2.054444e-05 |  1.604038e-02 | -0.0050967964 |  3.267218e-03 |  9.248153e-04 | -3.553112e-04 |  0.0005480190 |  6.479887e-03 | -1.607877e-04 |  2.153211e-03 | ...           | -5.216197e-04 | -5.216197e-04 | -0.0044847633 |  3.394936e-04 |  3.394936e-04 |  0.0012082866 |  7.739075e-04 |  1.148747e-03 |  3.394936e-04 |  3.394936e-04 | \n",
       "|  5.115302e-04 |  6.302953e-03 | -0.0002577916 |  1.511209e-03 |  3.079087e-04 |  9.802687e-04 | -0.0023267687 |  5.916459e-03 |  3.814902e-03 |  2.049601e-03 | ...           | -4.311926e-04 | -4.311926e-04 | -0.0012580283 | -7.151485e-04 | -7.151485e-04 |  0.0047410945 |  2.311125e-04 |  5.118289e-06 | -7.151485e-04 | -7.151485e-04 | \n",
       "|  9.686926e-04 | -8.265944e-06 |  0.0065107417 |  6.133437e-04 |  1.616644e-04 |  1.571557e-03 |  0.0026474067 | -3.264446e-05 |  2.388042e-03 | -1.464724e-03 | ...           |  2.311149e-04 |  2.311149e-04 | -0.0007307389 |  9.914760e-04 |  9.914760e-04 |  0.0011884896 | -1.807828e-04 |  7.109357e-04 |  9.914760e-04 |  9.914760e-04 | \n",
       "|  6.922492e-04 |  4.818257e-03 |  0.0003159393 |  2.726634e-03 |  5.902644e-04 |  5.394641e-04 |  0.0010020470 |  1.303505e-03 |  2.905185e-03 |  9.702067e-04 | ...           |  3.905685e-04 |  3.905685e-04 | -0.0008386636 |  8.565405e-04 |  8.565405e-04 |  0.0071692660 | -1.261407e-05 |  1.877085e-03 |  8.565405e-04 |  8.565405e-04 | \n",
       "|  3.802638e-04 |  3.160858e-03 | -0.0013504046 |  1.099849e-03 |  7.643806e-04 |  1.336383e-04 |  0.0008195681 |  8.027880e-04 |  2.834130e-03 |  1.406928e-03 | ...           |  6.778486e-04 |  6.778486e-04 | -0.0018402525 |  2.175596e-03 |  2.175596e-03 |  0.0168886440 |  2.636481e-04 | -9.660606e-04 |  2.175596e-03 |  2.175596e-03 | \n",
       "|  1.018358e-03 | -1.503407e-03 |  0.0029116764 |  2.354936e-03 |  5.991056e-04 |  1.354808e-03 |  0.0008250951 |  3.476914e-04 |  4.510118e-03 |  1.315692e-03 | ...           |  1.097888e-04 |  1.097888e-04 | -0.0014796229 |  3.319715e-04 |  3.319715e-04 |  0.0014892945 |  3.145609e-04 |  1.544260e-03 |  3.319715e-04 |  3.319715e-04 | \n",
       "|  2.519481e-04 |  7.688502e-05 | -0.0010720508 |  1.813462e-04 | -2.133280e-04 |  1.513367e-03 | -0.0020081145 | -3.558716e-03 |  3.781676e-03 |  4.760689e-03 | ...           |  1.116311e-03 |  1.116311e-03 |  0.0032046664 | -1.928559e-03 | -1.928559e-03 | -0.0016910673 |  4.358325e-03 | -1.790885e-03 | -1.928559e-03 | -1.928559e-03 | \n",
       "|  3.668852e-04 |  1.869630e-02 | -0.0019265081 |  4.317358e-03 |  2.051320e-03 | -2.158311e-04 |  0.0010969714 |  1.162912e-02 |  1.820439e-03 |  4.388911e-03 | ...           | -5.815908e-04 | -5.815908e-04 | -0.0001827865 | -2.299785e-03 | -2.299785e-03 |  0.0021796288 |  7.860746e-04 |  4.539126e-03 | -2.299785e-03 | -2.299785e-03 | \n",
       "| -1.082864e-04 | -1.213643e-02 | -0.0050740915 |  2.060325e-03 | -7.739454e-04 |  7.292996e-04 |  0.0054356625 | -4.642928e-03 |  4.504043e-04 |  1.995682e-03 | ...           |  2.059545e-04 |  2.059545e-04 | -0.0034377956 | -5.720134e-05 | -5.720134e-05 | -0.0049654553 |  2.181037e-03 | -9.093361e-05 | -5.720134e-05 | -5.720134e-05 | \n",
       "| ... | ... | ... | ... | ... | ... | ... | ... | ... | ... |     | ... | ... | ... | ... | ... | ... | ... | ... | ... | ... | \n",
       "|  5.633169e-04 |  0.0057388800 | -0.0046101739 |  0.0012532755 |  1.985905e-03 | -3.134441e-04 |  0.0058635503 |  0.0194706347 |  2.715921e-03 |  3.504385e-03 | ...           | -1.305918e-03 | -1.305918e-03 |  9.201054e-04 |  6.898304e-04 |  6.898304e-04 | -0.0037580512 |  1.869574e-03 |  5.070805e-04 |  6.898304e-04 |  6.898304e-04 | \n",
       "|  7.805244e-05 |  0.0027151725 |  0.0015790896 |  0.0028454311 |  6.551374e-05 | -5.482616e-04 |  0.0031278553 |  0.0037153625 |  1.700760e-03 | -9.712749e-04 | ...           | -8.331687e-04 | -8.331687e-04 |  1.932823e-05 |  4.575641e-04 |  4.575641e-04 | -0.0009499378 | -5.586668e-04 |  1.019020e-03 |  4.575641e-04 |  4.575641e-04 | \n",
       "|  3.474696e-04 |  0.0012054202 |  0.0007123476 |  0.0030771500 |  3.121014e-04 |  1.468036e-04 |  0.0013788825 |  0.0063576112 |  2.556864e-03 | -1.238237e-04 | ...           |  1.130272e-04 |  1.130272e-04 | -1.740950e-04 | -4.657474e-04 | -4.657474e-04 |  0.0032406599 | -8.111721e-04 |  4.101646e-03 | -4.657474e-04 | -4.657474e-04 | \n",
       "|  9.868603e-04 |  0.0110195657 | -0.0002184857 |  0.0037702082 |  1.695351e-03 |  1.021719e-03 | -0.0003478669 |  0.0183127583 |  4.812933e-03 |  3.111272e-03 | ...           | -1.043708e-03 | -1.043708e-03 | -3.804887e-03 | -3.630739e-03 | -3.630739e-03 |  0.0029696937 |  9.876728e-04 |  5.331159e-03 | -3.630739e-03 | -3.630739e-03 | \n",
       "|  1.228538e-03 |  0.0016578639 |  0.0036938695 |  0.0048457221 |  1.445738e-03 | -2.049578e-05 |  0.0023289397 |  0.0054682365 |  6.603883e-03 |  3.644760e-03 | ...           | -5.881818e-04 | -5.881818e-04 | -4.814984e-04 |  7.527214e-03 |  7.527214e-03 | -0.0056763277 | -3.628678e-04 |  3.889836e-03 |  7.527214e-03 |  7.527214e-03 | \n",
       "|  1.157448e-03 |  0.0127871686 | -0.0038688649 |  0.0051763169 |  9.021108e-04 |  1.660335e-03 |  0.0037574261 |  0.0014840526 |  3.913835e-03 |  1.739311e-04 | ...           |  4.428555e-04 |  4.428555e-04 |  1.633170e-03 | -8.559413e-04 | -8.559413e-04 |  0.0099305155 | -5.469084e-04 |  2.329640e-03 | -8.559413e-04 | -8.559413e-04 | \n",
       "|  8.888723e-04 |  0.0040083966 |  0.0002159190 |  0.0023756356 |  8.507601e-04 |  1.450039e-03 |  0.0013686092 |  0.0056430527 |  3.157206e-03 |  8.136254e-04 | ...           |  1.339791e-03 |  1.339791e-03 | -1.263750e-03 |  9.538466e-04 |  9.538466e-04 |  0.0038701769 |  4.617519e-04 |  7.792902e-04 |  9.538466e-04 |  9.538466e-04 | \n",
       "|  7.988607e-04 |  0.0006925443 | -0.0005245871 |  0.0007115684 |  9.075503e-04 |  2.543585e-03 |  0.0057273449 |  0.0000398237 |  2.499258e-03 | -2.255940e-04 | ...           |  6.469670e-04 |  6.469670e-04 | -4.988507e-04 |  2.342927e-03 |  2.342927e-03 | -0.0046526930 | -1.123085e-03 | -2.349302e-05 |  2.342927e-03 |  2.342927e-03 | \n",
       "|  9.009735e-04 |  0.0049352503 |  0.0041377772 |  0.0020443480 |  1.062354e-03 |  2.392013e-04 | -0.0011591641 |  0.0054594852 |  3.970996e-03 |  2.246020e-03 | ...           | -1.789111e-05 | -1.789111e-05 |  1.722089e-03 | -8.316016e-04 | -8.316016e-04 |  0.0017611530 | -3.985360e-04 |  6.290823e-04 | -8.316016e-04 | -8.316016e-04 | \n",
       "|  7.034552e-04 | -0.0036149793 |  0.0012639449 |  0.0025479851 |  1.500696e-04 |  6.535488e-04 |  0.0033305905 |  0.0020075089 |  2.669061e-03 | -1.224816e-03 | ...           | -3.395274e-05 | -3.395274e-05 | -1.528594e-03 | -1.264354e-03 | -1.264354e-03 |  0.0017759878 | -1.054566e-03 |  1.897879e-03 | -1.264354e-03 | -1.264354e-03 | \n",
       "|  7.853513e-05 | -0.0052495836 | -0.0051750612 |  0.0003643798 |  2.503917e-03 |  7.392924e-04 |  0.0089073025 |  0.0106993739 | -2.436934e-04 | -3.451509e-05 | ...           |  1.387175e-04 |  1.387175e-04 |  1.340484e-03 | -3.025500e-04 | -3.025500e-04 | -0.0022323511 |  2.376062e-03 | -1.075154e-04 | -3.025500e-04 | -3.025500e-04 | \n",
       "|  2.468382e-04 |  0.0313757819 | -0.0159097400 |  0.0080465697 |  2.387671e-03 | -1.746037e-03 |  0.0096327586 | -0.0017414232 | -4.178139e-03 |  9.007089e-04 | ...           | -1.832294e-04 | -1.832294e-04 |  2.267850e-03 |  3.433832e-03 |  3.433832e-03 |  0.0317256820 | -3.495466e-03 |  6.021421e-03 |  3.433832e-03 |  3.433832e-03 | \n",
       "|  4.301425e-04 |  0.0098660810 | -0.0069077851 |  0.0050500941 |  6.446105e-04 |  9.905881e-04 |  0.0092811522 | -0.0062424675 | -3.657678e-04 | -1.176956e-03 | ...           |  4.150898e-04 |  4.150898e-04 |  2.080166e-04 |  2.093139e-03 |  2.093139e-03 |  0.0103522937 | -1.082186e-03 |  4.319313e-03 |  2.093139e-03 |  2.093139e-03 | \n",
       "|  4.237322e-04 |  0.0063442750 | -0.0008093900 |  0.0024062078 |  8.533081e-04 |  3.518199e-04 |  0.0012179032 |  0.0081170481 |  2.667899e-03 |  3.261148e-03 | ...           |  5.320300e-05 |  5.320300e-05 |  5.520576e-04 |  7.438068e-05 |  7.438068e-05 |  0.0062062380 |  3.955926e-04 |  1.473830e-03 |  7.438068e-05 |  7.438068e-05 | \n",
       "|  5.485623e-04 |  0.0175370996 | -0.0034295826 |  0.0039687349 |  1.418111e-03 |  1.938472e-03 |  0.0019667122 |  0.0020434812 |  2.365569e-03 |  3.305867e-04 | ...           | -2.756707e-04 | -2.756707e-04 | -1.604152e-03 | -1.830281e-03 | -1.830281e-03 |  0.0046200859 | -5.406296e-04 | -1.650887e-03 | -1.830281e-03 | -1.830281e-03 | \n",
       "|  1.207404e-03 |  0.0074164582 |  0.0016609839 |  0.0041592871 |  1.037066e-03 |  1.367936e-03 |  0.0037384334 |  0.0082930738 |  6.573859e-03 |  2.109158e-05 | ...           | -1.972428e-03 | -1.972428e-03 |  4.706842e-04 | -2.115556e-03 | -2.115556e-03 | -0.0026914197 | -5.570784e-04 |  4.524070e-03 | -2.115556e-03 | -2.115556e-03 | \n",
       "|  9.360142e-04 | -0.0021495060 |  0.0041499813 | -0.0007484592 |  1.429020e-03 |  3.296058e-03 | -0.0032175248 | -0.0063945888 |  4.548527e-04 | -1.291875e-03 | ...           | -1.348980e-03 | -1.348980e-03 |  1.757106e-03 | -2.710986e-03 | -2.710986e-03 | -0.0142258121 | -2.328307e-03 |  9.368089e-03 | -2.710986e-03 | -2.710986e-03 | \n",
       "|  3.825058e-04 | -0.0145559319 | -0.0003978473 |  0.0006249585 | -6.179857e-04 | -2.936308e-04 |  0.0061420453 |  0.0009593279 | -1.681354e-05 | -2.507729e-04 | ...           | -7.723676e-04 | -7.723676e-04 | -1.901961e-03 | -4.855100e-03 | -4.855100e-03 |  0.0013140369 |  8.071438e-04 |  3.934174e-03 | -4.855100e-03 | -4.855100e-03 | \n",
       "|  5.516849e-04 |  0.0145438611 | -0.0055965639 |  0.0034599503 |  1.091136e-03 |  1.775572e-03 |  0.0018418155 | -0.0048500122 | -5.906148e-04 | -1.541208e-03 | ...           |  1.275723e-04 |  1.275723e-04 | -8.660534e-04 |  1.478803e-03 |  1.478803e-03 |  0.0397724032 |  2.043852e-04 |  4.663277e-04 |  1.478803e-03 |  1.478803e-03 | \n",
       "| -3.040019e-04 | -0.0015542151 | -0.0012348124 |  0.0008106209 |  3.105229e-04 | -5.180385e-04 |  0.0011318464 | -0.0016874625 | -6.496727e-04 |  2.228567e-03 | ...           | -6.220672e-05 | -6.220672e-05 | -5.676062e-04 | -6.515047e-04 | -6.515047e-04 |  0.0037267439 | -3.854780e-04 |  2.881563e-03 | -6.515047e-04 | -6.515047e-04 | \n",
       "| -2.049687e-04 |  0.0114332899 | -0.0055446072 | -0.0016919978 | -1.022759e-03 |  2.116916e-03 |  0.0016475994 |  0.0096874405 |  2.268006e-03 |  1.181403e-03 | ...           | -2.845497e-04 | -2.845497e-04 | -2.983633e-05 | -1.101491e-03 | -1.101491e-03 | -0.0152729565 |  2.514630e-04 |  1.026916e-03 | -1.101491e-03 | -1.101491e-03 | \n",
       "|  5.450614e-04 | -0.0002703277 | -0.0015029405 |  0.0010592843 |  7.421954e-04 |  1.653157e-03 |  0.0031677239 |  0.0038295617 |  2.627683e-03 | -3.219964e-04 | ...           |  2.574449e-04 |  2.574449e-04 | -1.453223e-04 | -1.434645e-03 | -1.434645e-03 |  0.0004948338 | -4.731399e-04 |  5.733988e-04 | -1.434645e-03 | -1.434645e-03 | \n",
       "|  3.952214e-04 | -0.0039979150 | -0.0027911752 | -0.0003173316 | -5.700033e-05 |  1.078490e-03 |  0.0039044509 |  0.0124013511 | -2.198756e-05 | -1.402523e-04 | ...           |  3.626340e-04 |  3.626340e-04 |  1.281217e-03 | -2.929078e-03 | -2.929078e-03 | -0.0002638728 |  1.651929e-04 |  3.395866e-03 | -2.929078e-03 | -2.929078e-03 | \n",
       "|  7.344236e-04 |  0.0164083378 | -0.0029519026 |  0.0042869459 |  1.819145e-03 |  1.627268e-03 |  0.0037984719 | -0.0014400589 |  2.631532e-03 | -6.841636e-04 | ...           | -3.249093e-04 | -3.249093e-04 | -1.565225e-03 | -2.043565e-03 | -2.043565e-03 |  0.0027886126 | -7.534462e-04 | -1.390783e-03 | -2.043565e-03 | -2.043565e-03 | \n",
       "|  3.631850e-04 | -0.0014887684 |  0.0003049545 |  0.0008326444 |  1.225113e-03 |  4.682833e-04 |  0.0013822929 |  0.0038178382 |  1.028833e-03 | -4.746544e-04 | ...           | -2.505312e-04 | -2.505312e-04 | -1.036820e-03 | -1.760990e-04 | -1.760990e-04 |  0.0026777858 |  4.319340e-05 |  3.322548e-04 | -1.760990e-04 | -1.760990e-04 | \n",
       "| -2.261453e-05 |  0.0089930587 | -0.0027126828 |  0.0052950559 |  6.021215e-04 | -1.421662e-03 | -0.0008479451 |  0.0069923999 |  1.929693e-03 |  3.188307e-03 | ...           | -3.582103e-04 | -3.582103e-04 | -5.269537e-03 |  1.019481e-02 |  1.019481e-02 |  0.0104350860 | -2.789638e-04 |  5.292466e-03 |  1.019481e-02 |  1.019481e-02 | \n",
       "| -6.905699e-05 |  0.0020824936 | -0.0005081949 | -0.0010133647 |  4.658172e-03 | -4.278313e-04 |  0.0010402748 |  0.0010902773 | -2.606747e-03 |  2.965662e-04 | ...           |  3.448056e-04 |  3.448056e-04 |  2.188837e-03 |  2.918624e-04 |  2.918624e-04 | -0.0025084308 |  9.354253e-04 | -2.477783e-03 |  2.918624e-04 |  2.918624e-04 | \n",
       "|  2.517317e-04 |  0.0020835453 |  0.0007925239 | -0.0023570653 |  3.657244e-03 | -6.116222e-04 | -0.0095132487 |  0.0027756712 |  2.759537e-03 |  2.150127e-02 | ...           | -4.257932e-04 | -4.257932e-04 |  5.827784e-03 | -3.238630e-03 | -3.238630e-03 | -0.0030358499 |  4.153861e-03 |  3.367500e-04 | -3.238630e-03 | -3.238630e-03 | \n",
       "|  1.391727e-03 |  0.0066407832 |  0.0073438843 |  0.0031860328 |  1.272044e-03 |  8.620533e-04 |  0.0016397569 |  0.0072794157 |  4.458729e-03 |  1.274774e-03 | ...           |  4.806806e-04 |  4.806806e-04 | -1.902102e-03 | -2.202693e-03 | -2.202693e-03 |  0.0026562515 | -2.610135e-05 |  5.763393e-05 | -2.202693e-03 | -2.202693e-03 | \n",
       "|  9.597818e-04 | -0.0024326763 |  0.0049857991 | -0.0010234082 |  1.615477e-03 |  3.436698e-03 | -0.0056463358 | -0.0057270644 | -4.210470e-04 | -9.524961e-04 | ...           | -1.935641e-03 | -1.935641e-03 |  1.150913e-03 | -4.337225e-03 | -4.337225e-03 | -0.0138282799 | -2.704745e-03 |  1.483929e-02 | -4.337225e-03 | -4.337225e-03 | \n",
       "\n",
       "\n"
      ],
      "text/plain": [
       "      [,1]          [,2]          [,3]          [,4]          [,5]         \n",
       " [1,]  8.674196e-04 -7.275106e-04  0.0032383938  9.223089e-05  3.653096e-04\n",
       " [2,] -7.853256e-04  6.330317e-03 -0.0076237416  8.386753e-03 -1.330091e-03\n",
       " [3,]  1.124965e-03 -2.825948e-03 -0.0008722850  2.479439e-03  4.698127e-04\n",
       " [4,]  7.739660e-04 -6.839982e-03 -0.0004713790  5.574833e-04  3.828394e-04\n",
       " [5,]  5.324444e-04  7.111412e-03  0.0077313500  5.985662e-04  1.695207e-04\n",
       " [6,]  6.276521e-04 -2.550500e-03  0.0010651570  2.310014e-03 -2.011635e-04\n",
       " [7,] -3.140367e-04 -1.307934e-02  0.0027363523 -2.715025e-03 -1.209354e-03\n",
       " [8,]  3.798629e-04  1.367903e-03  0.0018867099  1.683151e-03  8.140968e-05\n",
       " [9,]  3.093565e-04  2.096008e-03 -0.0001786762  1.950278e-03  1.278691e-04\n",
       "[10,]  1.257248e-03  5.999574e-03  0.0039897643  3.998354e-03  1.134732e-03\n",
       "[11,]  5.297120e-04  2.465573e-03  0.0022338563  4.363622e-03  1.921303e-03\n",
       "[12,]  4.411190e-04  8.765412e-03  0.0007829924 -6.997582e-04 -4.221906e-04\n",
       "[13,]  1.036811e-03  9.456977e-03  0.0036081126  2.912420e-03  3.528222e-04\n",
       "[14,]  2.225599e-04  4.218820e-04  0.0003227179  2.827163e-03  6.060926e-05\n",
       "[15,]  8.287307e-04 -1.117824e-02 -0.0013285741 -5.724956e-04  1.885803e-03\n",
       "[16,]  2.168248e-04  8.327351e-04  0.0037589201 -6.801343e-04 -3.648138e-04\n",
       "[17,] -1.105185e-04 -9.424363e-03 -0.0023373766 -1.021417e-03 -1.546725e-03\n",
       "[18,]  5.416788e-04 -6.504632e-03 -0.0052209215 -3.661222e-04  9.753068e-04\n",
       "[19,]  8.788183e-04 -1.732487e-03  0.0028430559  3.566748e-03  8.568446e-04\n",
       "[20,]  7.103320e-04 -3.232159e-03  0.0052402646  1.454813e-03  2.854476e-04\n",
       "[21,]  4.871062e-04 -3.257118e-04 -0.0018616373  1.257869e-03  4.993125e-04\n",
       "[22,] -2.054444e-05  1.604038e-02 -0.0050967964  3.267218e-03  9.248153e-04\n",
       "[23,]  5.115302e-04  6.302953e-03 -0.0002577916  1.511209e-03  3.079087e-04\n",
       "[24,]  9.686926e-04 -8.265944e-06  0.0065107417  6.133437e-04  1.616644e-04\n",
       "[25,]  6.922492e-04  4.818257e-03  0.0003159393  2.726634e-03  5.902644e-04\n",
       "[26,]  3.802638e-04  3.160858e-03 -0.0013504046  1.099849e-03  7.643806e-04\n",
       "[27,]  1.018358e-03 -1.503407e-03  0.0029116764  2.354936e-03  5.991056e-04\n",
       "[28,]  2.519481e-04  7.688502e-05 -0.0010720508  1.813462e-04 -2.133280e-04\n",
       "[29,]  3.668852e-04  1.869630e-02 -0.0019265081  4.317358e-03  2.051320e-03\n",
       "[30,] -1.082864e-04 -1.213643e-02 -0.0050740915  2.060325e-03 -7.739454e-04\n",
       "[31,] ...           ...           ...           ...           ...          \n",
       "[32,]  5.633169e-04  0.0057388800 -0.0046101739  0.0012532755  1.985905e-03\n",
       "[33,]  7.805244e-05  0.0027151725  0.0015790896  0.0028454311  6.551374e-05\n",
       "[34,]  3.474696e-04  0.0012054202  0.0007123476  0.0030771500  3.121014e-04\n",
       "[35,]  9.868603e-04  0.0110195657 -0.0002184857  0.0037702082  1.695351e-03\n",
       "[36,]  1.228538e-03  0.0016578639  0.0036938695  0.0048457221  1.445738e-03\n",
       "[37,]  1.157448e-03  0.0127871686 -0.0038688649  0.0051763169  9.021108e-04\n",
       "[38,]  8.888723e-04  0.0040083966  0.0002159190  0.0023756356  8.507601e-04\n",
       "[39,]  7.988607e-04  0.0006925443 -0.0005245871  0.0007115684  9.075503e-04\n",
       "[40,]  9.009735e-04  0.0049352503  0.0041377772  0.0020443480  1.062354e-03\n",
       "[41,]  7.034552e-04 -0.0036149793  0.0012639449  0.0025479851  1.500696e-04\n",
       "[42,]  7.853513e-05 -0.0052495836 -0.0051750612  0.0003643798  2.503917e-03\n",
       "[43,]  2.468382e-04  0.0313757819 -0.0159097400  0.0080465697  2.387671e-03\n",
       "[44,]  4.301425e-04  0.0098660810 -0.0069077851  0.0050500941  6.446105e-04\n",
       "[45,]  4.237322e-04  0.0063442750 -0.0008093900  0.0024062078  8.533081e-04\n",
       "[46,]  5.485623e-04  0.0175370996 -0.0034295826  0.0039687349  1.418111e-03\n",
       "[47,]  1.207404e-03  0.0074164582  0.0016609839  0.0041592871  1.037066e-03\n",
       "[48,]  9.360142e-04 -0.0021495060  0.0041499813 -0.0007484592  1.429020e-03\n",
       "[49,]  3.825058e-04 -0.0145559319 -0.0003978473  0.0006249585 -6.179857e-04\n",
       "[50,]  5.516849e-04  0.0145438611 -0.0055965639  0.0034599503  1.091136e-03\n",
       "[51,] -3.040019e-04 -0.0015542151 -0.0012348124  0.0008106209  3.105229e-04\n",
       "[52,] -2.049687e-04  0.0114332899 -0.0055446072 -0.0016919978 -1.022759e-03\n",
       "[53,]  5.450614e-04 -0.0002703277 -0.0015029405  0.0010592843  7.421954e-04\n",
       "[54,]  3.952214e-04 -0.0039979150 -0.0027911752 -0.0003173316 -5.700033e-05\n",
       "[55,]  7.344236e-04  0.0164083378 -0.0029519026  0.0042869459  1.819145e-03\n",
       "[56,]  3.631850e-04 -0.0014887684  0.0003049545  0.0008326444  1.225113e-03\n",
       "[57,] -2.261453e-05  0.0089930587 -0.0027126828  0.0052950559  6.021215e-04\n",
       "[58,] -6.905699e-05  0.0020824936 -0.0005081949 -0.0010133647  4.658172e-03\n",
       "[59,]  2.517317e-04  0.0020835453  0.0007925239 -0.0023570653  3.657244e-03\n",
       "[60,]  1.391727e-03  0.0066407832  0.0073438843  0.0031860328  1.272044e-03\n",
       "[61,]  9.597818e-04 -0.0024326763  0.0049857991 -0.0010234082  1.615477e-03\n",
       "      [,6]          [,7]          [,8]          [,9]          [,10]        \n",
       " [1,]  1.559819e-03  0.0017182604 -5.177336e-05  2.195558e-03 -9.851726e-05\n",
       " [2,] -2.382251e-03 -0.0072512202  3.205259e-06 -1.247371e-03 -9.249243e-03\n",
       " [3,]  1.780582e-03  0.0066894726 -3.911405e-03  3.325237e-03  2.526887e-03\n",
       " [4,]  1.039108e-03  0.0062376675  4.679844e-04  1.733305e-03  3.032761e-03\n",
       " [5,]  6.104356e-04 -0.0022887782  1.324404e-03  1.403943e-03  2.043404e-03\n",
       " [6,]  1.014879e-03  0.0033468537 -3.876380e-03  2.818105e-03 -5.888845e-04\n",
       " [7,]  4.455798e-04 -0.0002292056 -2.424236e-05 -3.082200e-03 -5.473281e-03\n",
       " [8,]  4.345176e-05  0.0011063026 -2.235590e-03  1.836083e-03  4.419812e-04\n",
       " [9,]  2.918069e-04 -0.0006305987  3.226616e-03  2.152945e-03 -6.525126e-06\n",
       "[10,] -3.737026e-05  0.0060815056  3.661247e-03  5.036143e-03  2.745360e-03\n",
       "[11,] -1.017620e-03  0.0020079015  2.153093e-02  6.707430e-03  4.616845e-03\n",
       "[12,]  7.531477e-05  0.0009319725 -2.847911e-03  5.704861e-06 -8.319404e-04\n",
       "[13,]  6.237417e-04 -0.0003554378  6.569284e-03  4.268222e-03  1.838624e-03\n",
       "[14,]  2.715544e-04 -0.0019096662  5.594586e-03  2.029644e-03 -1.142729e-03\n",
       "[15,]  2.094473e-03 -0.0033396649 -7.385951e-04  2.201622e-03  2.954546e-03\n",
       "[16,] -2.456120e-04 -0.0018118643  1.116590e-02  2.126606e-04 -7.533612e-04\n",
       "[17,]  1.511251e-03  0.0022407662 -6.006264e-03  2.574213e-03  2.140636e-03\n",
       "[18,]  1.966116e-03 -0.0036246320  8.119659e-03  2.983863e-03  3.519336e-03\n",
       "[19,]  6.378935e-04 -0.0002250663 -2.249953e-03  4.334104e-03  2.017028e-03\n",
       "[20,]  8.787134e-04  0.0015716565 -3.616520e-03  2.097579e-03 -5.038778e-04\n",
       "[21,]  1.092318e-04 -0.0016578639  2.856064e-03  3.199469e-03 -2.098445e-04\n",
       "[22,] -3.553112e-04  0.0005480190  6.479887e-03 -1.607877e-04  2.153211e-03\n",
       "[23,]  9.802687e-04 -0.0023267687  5.916459e-03  3.814902e-03  2.049601e-03\n",
       "[24,]  1.571557e-03  0.0026474067 -3.264446e-05  2.388042e-03 -1.464724e-03\n",
       "[25,]  5.394641e-04  0.0010020470  1.303505e-03  2.905185e-03  9.702067e-04\n",
       "[26,]  1.336383e-04  0.0008195681  8.027880e-04  2.834130e-03  1.406928e-03\n",
       "[27,]  1.354808e-03  0.0008250951  3.476914e-04  4.510118e-03  1.315692e-03\n",
       "[28,]  1.513367e-03 -0.0020081145 -3.558716e-03  3.781676e-03  4.760689e-03\n",
       "[29,] -2.158311e-04  0.0010969714  1.162912e-02  1.820439e-03  4.388911e-03\n",
       "[30,]  7.292996e-04  0.0054356625 -4.642928e-03  4.504043e-04  1.995682e-03\n",
       "[31,] ...           ...           ...           ...           ...          \n",
       "[32,] -3.134441e-04  0.0058635503  0.0194706347  2.715921e-03  3.504385e-03\n",
       "[33,] -5.482616e-04  0.0031278553  0.0037153625  1.700760e-03 -9.712749e-04\n",
       "[34,]  1.468036e-04  0.0013788825  0.0063576112  2.556864e-03 -1.238237e-04\n",
       "[35,]  1.021719e-03 -0.0003478669  0.0183127583  4.812933e-03  3.111272e-03\n",
       "[36,] -2.049578e-05  0.0023289397  0.0054682365  6.603883e-03  3.644760e-03\n",
       "[37,]  1.660335e-03  0.0037574261  0.0014840526  3.913835e-03  1.739311e-04\n",
       "[38,]  1.450039e-03  0.0013686092  0.0056430527  3.157206e-03  8.136254e-04\n",
       "[39,]  2.543585e-03  0.0057273449  0.0000398237  2.499258e-03 -2.255940e-04\n",
       "[40,]  2.392013e-04 -0.0011591641  0.0054594852  3.970996e-03  2.246020e-03\n",
       "[41,]  6.535488e-04  0.0033305905  0.0020075089  2.669061e-03 -1.224816e-03\n",
       "[42,]  7.392924e-04  0.0089073025  0.0106993739 -2.436934e-04 -3.451509e-05\n",
       "[43,] -1.746037e-03  0.0096327586 -0.0017414232 -4.178139e-03  9.007089e-04\n",
       "[44,]  9.905881e-04  0.0092811522 -0.0062424675 -3.657678e-04 -1.176956e-03\n",
       "[45,]  3.518199e-04  0.0012179032  0.0081170481  2.667899e-03  3.261148e-03\n",
       "[46,]  1.938472e-03  0.0019667122  0.0020434812  2.365569e-03  3.305867e-04\n",
       "[47,]  1.367936e-03  0.0037384334  0.0082930738  6.573859e-03  2.109158e-05\n",
       "[48,]  3.296058e-03 -0.0032175248 -0.0063945888  4.548527e-04 -1.291875e-03\n",
       "[49,] -2.936308e-04  0.0061420453  0.0009593279 -1.681354e-05 -2.507729e-04\n",
       "[50,]  1.775572e-03  0.0018418155 -0.0048500122 -5.906148e-04 -1.541208e-03\n",
       "[51,] -5.180385e-04  0.0011318464 -0.0016874625 -6.496727e-04  2.228567e-03\n",
       "[52,]  2.116916e-03  0.0016475994  0.0096874405  2.268006e-03  1.181403e-03\n",
       "[53,]  1.653157e-03  0.0031677239  0.0038295617  2.627683e-03 -3.219964e-04\n",
       "[54,]  1.078490e-03  0.0039044509  0.0124013511 -2.198756e-05 -1.402523e-04\n",
       "[55,]  1.627268e-03  0.0037984719 -0.0014400589  2.631532e-03 -6.841636e-04\n",
       "[56,]  4.682833e-04  0.0013822929  0.0038178382  1.028833e-03 -4.746544e-04\n",
       "[57,] -1.421662e-03 -0.0008479451  0.0069923999  1.929693e-03  3.188307e-03\n",
       "[58,] -4.278313e-04  0.0010402748  0.0010902773 -2.606747e-03  2.965662e-04\n",
       "[59,] -6.116222e-04 -0.0095132487  0.0027756712  2.759537e-03  2.150127e-02\n",
       "[60,]  8.620533e-04  0.0016397569  0.0072794157  4.458729e-03  1.274774e-03\n",
       "[61,]  3.436698e-03 -0.0056463358 -0.0057270644 -4.210470e-04 -9.524961e-04\n",
       "      [,11] [,12]         [,13]         [,14]         [,15]        \n",
       " [1,] ...    1.781064e-04  1.781064e-04  0.0001792064  4.141557e-03\n",
       " [2,] ...    7.107643e-04  7.107643e-04  0.0002566947  2.864116e-03\n",
       " [3,] ...   -4.530565e-04 -4.530565e-04  0.0011122528 -2.276479e-03\n",
       " [4,] ...   -6.056387e-05 -6.056387e-05 -0.0005785018 -2.385611e-03\n",
       " [5,] ...    1.068247e-03  1.068247e-03  0.0131306234  3.332806e-03\n",
       " [6,] ...   -1.058004e-03 -1.058004e-03  0.0016263234 -8.780394e-06\n",
       " [7,] ...    1.597083e-03  1.597083e-03  0.0050256194  1.521186e-03\n",
       " [8,] ...    1.728710e-03  1.728710e-03  0.0014731843  1.611566e-03\n",
       " [9,] ...   -5.013462e-05 -5.013462e-05 -0.0005803146 -4.340314e-04\n",
       "[10,] ...   -9.861095e-04 -9.861095e-04 -0.0001924205 -3.404246e-03\n",
       "[11,] ...   -3.584725e-03 -3.584725e-03 -0.0002355865 -3.755193e-03\n",
       "[12,] ...   -5.120148e-04 -5.120148e-04 -0.0001540678  1.270567e-03\n",
       "[13,] ...   -3.943772e-04 -3.943772e-04 -0.0022564216 -3.237608e-04\n",
       "[14,] ...   -8.090426e-05 -8.090426e-05  0.0011687849  9.135025e-04\n",
       "[15,] ...    1.181232e-03  1.181232e-03 -0.0019889597 -2.499956e-04\n",
       "[16,] ...   -1.127856e-04 -1.127856e-04 -0.0011226040 -1.344085e-03\n",
       "[17,] ...   -1.117821e-03 -1.117821e-03  0.0016919977 -2.772325e-03\n",
       "[18,] ...    6.937448e-04  6.937448e-04 -0.0002894960 -4.123472e-03\n",
       "[19,] ...    9.769872e-05  9.769872e-05 -0.0017226917  5.667261e-04\n",
       "[20,] ...   -8.231122e-04 -8.231122e-04  0.0004825038 -7.277883e-04\n",
       "[21,] ...    7.763614e-04  7.763614e-04 -0.0005502808 -7.611515e-04\n",
       "[22,] ...   -5.216197e-04 -5.216197e-04 -0.0044847633  3.394936e-04\n",
       "[23,] ...   -4.311926e-04 -4.311926e-04 -0.0012580283 -7.151485e-04\n",
       "[24,] ...    2.311149e-04  2.311149e-04 -0.0007307389  9.914760e-04\n",
       "[25,] ...    3.905685e-04  3.905685e-04 -0.0008386636  8.565405e-04\n",
       "[26,] ...    6.778486e-04  6.778486e-04 -0.0018402525  2.175596e-03\n",
       "[27,] ...    1.097888e-04  1.097888e-04 -0.0014796229  3.319715e-04\n",
       "[28,] ...    1.116311e-03  1.116311e-03  0.0032046664 -1.928559e-03\n",
       "[29,] ...   -5.815908e-04 -5.815908e-04 -0.0001827865 -2.299785e-03\n",
       "[30,] ...    2.059545e-04  2.059545e-04 -0.0034377956 -5.720134e-05\n",
       "[31,]       ...           ...           ...           ...          \n",
       "[32,] ...   -1.305918e-03 -1.305918e-03  9.201054e-04  6.898304e-04\n",
       "[33,] ...   -8.331687e-04 -8.331687e-04  1.932823e-05  4.575641e-04\n",
       "[34,] ...    1.130272e-04  1.130272e-04 -1.740950e-04 -4.657474e-04\n",
       "[35,] ...   -1.043708e-03 -1.043708e-03 -3.804887e-03 -3.630739e-03\n",
       "[36,] ...   -5.881818e-04 -5.881818e-04 -4.814984e-04  7.527214e-03\n",
       "[37,] ...    4.428555e-04  4.428555e-04  1.633170e-03 -8.559413e-04\n",
       "[38,] ...    1.339791e-03  1.339791e-03 -1.263750e-03  9.538466e-04\n",
       "[39,] ...    6.469670e-04  6.469670e-04 -4.988507e-04  2.342927e-03\n",
       "[40,] ...   -1.789111e-05 -1.789111e-05  1.722089e-03 -8.316016e-04\n",
       "[41,] ...   -3.395274e-05 -3.395274e-05 -1.528594e-03 -1.264354e-03\n",
       "[42,] ...    1.387175e-04  1.387175e-04  1.340484e-03 -3.025500e-04\n",
       "[43,] ...   -1.832294e-04 -1.832294e-04  2.267850e-03  3.433832e-03\n",
       "[44,] ...    4.150898e-04  4.150898e-04  2.080166e-04  2.093139e-03\n",
       "[45,] ...    5.320300e-05  5.320300e-05  5.520576e-04  7.438068e-05\n",
       "[46,] ...   -2.756707e-04 -2.756707e-04 -1.604152e-03 -1.830281e-03\n",
       "[47,] ...   -1.972428e-03 -1.972428e-03  4.706842e-04 -2.115556e-03\n",
       "[48,] ...   -1.348980e-03 -1.348980e-03  1.757106e-03 -2.710986e-03\n",
       "[49,] ...   -7.723676e-04 -7.723676e-04 -1.901961e-03 -4.855100e-03\n",
       "[50,] ...    1.275723e-04  1.275723e-04 -8.660534e-04  1.478803e-03\n",
       "[51,] ...   -6.220672e-05 -6.220672e-05 -5.676062e-04 -6.515047e-04\n",
       "[52,] ...   -2.845497e-04 -2.845497e-04 -2.983633e-05 -1.101491e-03\n",
       "[53,] ...    2.574449e-04  2.574449e-04 -1.453223e-04 -1.434645e-03\n",
       "[54,] ...    3.626340e-04  3.626340e-04  1.281217e-03 -2.929078e-03\n",
       "[55,] ...   -3.249093e-04 -3.249093e-04 -1.565225e-03 -2.043565e-03\n",
       "[56,] ...   -2.505312e-04 -2.505312e-04 -1.036820e-03 -1.760990e-04\n",
       "[57,] ...   -3.582103e-04 -3.582103e-04 -5.269537e-03  1.019481e-02\n",
       "[58,] ...    3.448056e-04  3.448056e-04  2.188837e-03  2.918624e-04\n",
       "[59,] ...   -4.257932e-04 -4.257932e-04  5.827784e-03 -3.238630e-03\n",
       "[60,] ...    4.806806e-04  4.806806e-04 -1.902102e-03 -2.202693e-03\n",
       "[61,] ...   -1.935641e-03 -1.935641e-03  1.150913e-03 -4.337225e-03\n",
       "      [,16]         [,17]         [,18]         [,19]         [,20]        \n",
       " [1,]  4.141557e-03  0.0008965046 -3.493832e-04 -1.327780e-04  4.141557e-03\n",
       " [2,]  2.864116e-03 -0.0002327049  6.776849e-03 -2.213495e-03  2.864116e-03\n",
       " [3,] -2.276479e-03  0.0041102675 -4.846956e-04  1.599219e-03 -2.276479e-03\n",
       " [4,] -2.385611e-03 -0.0007812760  8.433749e-04  5.014883e-04 -2.385611e-03\n",
       " [5,]  3.332806e-03  0.0015666201  2.840184e-03  9.083184e-04  3.332806e-03\n",
       " [6,] -8.780394e-06 -0.0013264129  4.545762e-04  2.084677e-03 -8.780394e-06\n",
       " [7,]  1.521186e-03 -0.0038115001  4.079359e-03  3.700495e-03  1.521186e-03\n",
       " [8,]  1.611566e-03 -0.0026725756  9.944028e-04  5.108764e-05  1.611566e-03\n",
       " [9,] -4.340314e-04  0.0049061828  5.111406e-05  1.798483e-03 -4.340314e-04\n",
       "[10,] -3.404246e-03  0.0045526555 -5.810384e-04 -1.943838e-03 -3.404246e-03\n",
       "[11,] -3.755193e-03 -0.0299376544  7.948326e-03  1.345496e-03 -3.755193e-03\n",
       "[12,]  1.270567e-03 -0.0003588278  4.145750e-06 -2.387756e-03  1.270567e-03\n",
       "[13,] -3.237608e-04  0.0053858063  8.102080e-04  1.742408e-03 -3.237608e-04\n",
       "[14,]  9.135025e-04  0.0102591411 -6.061050e-04  4.943483e-03  9.135025e-04\n",
       "[15,] -2.499956e-04  0.0058308948  1.844509e-03  6.496074e-03 -2.499956e-04\n",
       "[16,] -1.344085e-03  0.0006932702 -5.708046e-04  3.943760e-04 -1.344085e-03\n",
       "[17,] -2.772325e-03 -0.0039965652  2.982177e-03  2.002288e-03 -2.772325e-03\n",
       "[18,] -4.123472e-03  0.0022518025  1.548512e-03  5.301084e-03 -4.123472e-03\n",
       "[19,]  5.667261e-04  0.0000222378  1.722939e-03  1.963407e-03  5.667261e-04\n",
       "[20,] -7.277883e-04  0.0006454666  5.543739e-04  1.239551e-03 -7.277883e-04\n",
       "[21,] -7.611515e-04  0.0021442420 -5.348626e-04  2.983413e-03 -7.611515e-04\n",
       "[22,]  3.394936e-04  0.0012082866  7.739075e-04  1.148747e-03  3.394936e-04\n",
       "[23,] -7.151485e-04  0.0047410945  2.311125e-04  5.118289e-06 -7.151485e-04\n",
       "[24,]  9.914760e-04  0.0011884896 -1.807828e-04  7.109357e-04  9.914760e-04\n",
       "[25,]  8.565405e-04  0.0071692660 -1.261407e-05  1.877085e-03  8.565405e-04\n",
       "[26,]  2.175596e-03  0.0168886440  2.636481e-04 -9.660606e-04  2.175596e-03\n",
       "[27,]  3.319715e-04  0.0014892945  3.145609e-04  1.544260e-03  3.319715e-04\n",
       "[28,] -1.928559e-03 -0.0016910673  4.358325e-03 -1.790885e-03 -1.928559e-03\n",
       "[29,] -2.299785e-03  0.0021796288  7.860746e-04  4.539126e-03 -2.299785e-03\n",
       "[30,] -5.720134e-05 -0.0049654553  2.181037e-03 -9.093361e-05 -5.720134e-05\n",
       "[31,] ...           ...           ...           ...           ...          \n",
       "[32,]  6.898304e-04 -0.0037580512  1.869574e-03  5.070805e-04  6.898304e-04\n",
       "[33,]  4.575641e-04 -0.0009499378 -5.586668e-04  1.019020e-03  4.575641e-04\n",
       "[34,] -4.657474e-04  0.0032406599 -8.111721e-04  4.101646e-03 -4.657474e-04\n",
       "[35,] -3.630739e-03  0.0029696937  9.876728e-04  5.331159e-03 -3.630739e-03\n",
       "[36,]  7.527214e-03 -0.0056763277 -3.628678e-04  3.889836e-03  7.527214e-03\n",
       "[37,] -8.559413e-04  0.0099305155 -5.469084e-04  2.329640e-03 -8.559413e-04\n",
       "[38,]  9.538466e-04  0.0038701769  4.617519e-04  7.792902e-04  9.538466e-04\n",
       "[39,]  2.342927e-03 -0.0046526930 -1.123085e-03 -2.349302e-05  2.342927e-03\n",
       "[40,] -8.316016e-04  0.0017611530 -3.985360e-04  6.290823e-04 -8.316016e-04\n",
       "[41,] -1.264354e-03  0.0017759878 -1.054566e-03  1.897879e-03 -1.264354e-03\n",
       "[42,] -3.025500e-04 -0.0022323511  2.376062e-03 -1.075154e-04 -3.025500e-04\n",
       "[43,]  3.433832e-03  0.0317256820 -3.495466e-03  6.021421e-03  3.433832e-03\n",
       "[44,]  2.093139e-03  0.0103522937 -1.082186e-03  4.319313e-03  2.093139e-03\n",
       "[45,]  7.438068e-05  0.0062062380  3.955926e-04  1.473830e-03  7.438068e-05\n",
       "[46,] -1.830281e-03  0.0046200859 -5.406296e-04 -1.650887e-03 -1.830281e-03\n",
       "[47,] -2.115556e-03 -0.0026914197 -5.570784e-04  4.524070e-03 -2.115556e-03\n",
       "[48,] -2.710986e-03 -0.0142258121 -2.328307e-03  9.368089e-03 -2.710986e-03\n",
       "[49,] -4.855100e-03  0.0013140369  8.071438e-04  3.934174e-03 -4.855100e-03\n",
       "[50,]  1.478803e-03  0.0397724032  2.043852e-04  4.663277e-04  1.478803e-03\n",
       "[51,] -6.515047e-04  0.0037267439 -3.854780e-04  2.881563e-03 -6.515047e-04\n",
       "[52,] -1.101491e-03 -0.0152729565  2.514630e-04  1.026916e-03 -1.101491e-03\n",
       "[53,] -1.434645e-03  0.0004948338 -4.731399e-04  5.733988e-04 -1.434645e-03\n",
       "[54,] -2.929078e-03 -0.0002638728  1.651929e-04  3.395866e-03 -2.929078e-03\n",
       "[55,] -2.043565e-03  0.0027886126 -7.534462e-04 -1.390783e-03 -2.043565e-03\n",
       "[56,] -1.760990e-04  0.0026777858  4.319340e-05  3.322548e-04 -1.760990e-04\n",
       "[57,]  1.019481e-02  0.0104350860 -2.789638e-04  5.292466e-03  1.019481e-02\n",
       "[58,]  2.918624e-04 -0.0025084308  9.354253e-04 -2.477783e-03  2.918624e-04\n",
       "[59,] -3.238630e-03 -0.0030358499  4.153861e-03  3.367500e-04 -3.238630e-03\n",
       "[60,] -2.202693e-03  0.0026562515 -2.610135e-05  5.763393e-05 -2.202693e-03\n",
       "[61,] -4.337225e-03 -0.0138282799 -2.704745e-03  1.483929e-02 -4.337225e-03\n",
       "      [,21]        \n",
       " [1,]  4.141557e-03\n",
       " [2,]  2.864116e-03\n",
       " [3,] -2.276479e-03\n",
       " [4,] -2.385611e-03\n",
       " [5,]  3.332806e-03\n",
       " [6,] -8.780394e-06\n",
       " [7,]  1.521186e-03\n",
       " [8,]  1.611566e-03\n",
       " [9,] -4.340314e-04\n",
       "[10,] -3.404246e-03\n",
       "[11,] -3.755193e-03\n",
       "[12,]  1.270567e-03\n",
       "[13,] -3.237608e-04\n",
       "[14,]  9.135025e-04\n",
       "[15,] -2.499956e-04\n",
       "[16,] -1.344085e-03\n",
       "[17,] -2.772325e-03\n",
       "[18,] -4.123472e-03\n",
       "[19,]  5.667261e-04\n",
       "[20,] -7.277883e-04\n",
       "[21,] -7.611515e-04\n",
       "[22,]  3.394936e-04\n",
       "[23,] -7.151485e-04\n",
       "[24,]  9.914760e-04\n",
       "[25,]  8.565405e-04\n",
       "[26,]  2.175596e-03\n",
       "[27,]  3.319715e-04\n",
       "[28,] -1.928559e-03\n",
       "[29,] -2.299785e-03\n",
       "[30,] -5.720134e-05\n",
       "[31,] ...          \n",
       "[32,]  6.898304e-04\n",
       "[33,]  4.575641e-04\n",
       "[34,] -4.657474e-04\n",
       "[35,] -3.630739e-03\n",
       "[36,]  7.527214e-03\n",
       "[37,] -8.559413e-04\n",
       "[38,]  9.538466e-04\n",
       "[39,]  2.342927e-03\n",
       "[40,] -8.316016e-04\n",
       "[41,] -1.264354e-03\n",
       "[42,] -3.025500e-04\n",
       "[43,]  3.433832e-03\n",
       "[44,]  2.093139e-03\n",
       "[45,]  7.438068e-05\n",
       "[46,] -1.830281e-03\n",
       "[47,] -2.115556e-03\n",
       "[48,] -2.710986e-03\n",
       "[49,] -4.855100e-03\n",
       "[50,]  1.478803e-03\n",
       "[51,] -6.515047e-04\n",
       "[52,] -1.101491e-03\n",
       "[53,] -1.434645e-03\n",
       "[54,] -2.929078e-03\n",
       "[55,] -2.043565e-03\n",
       "[56,] -1.760990e-04\n",
       "[57,]  1.019481e-02\n",
       "[58,]  2.918624e-04\n",
       "[59,] -3.238630e-03\n",
       "[60,] -2.202693e-03\n",
       "[61,] -4.337225e-03"
      ]
     },
     "metadata": {},
     "output_type": "display_data"
    }
   ],
   "source": [
    "ds <- diag(s$d[1:50])  # let's now use the first three values\n",
    "us <- as.matrix(s$u[,1:50])\n",
    "vs <- as.matrix(s$v[,1:50])\n",
    "m.approx2 <- us %*% ds %*% t(vs)\n",
    "m.approx2   # m.approx2 will never be a worst approximation than m.approx1\n",
    "\n"
   ]
  },
  {
   "cell_type": "code",
   "execution_count": 29,
   "metadata": {
    "collapsed": false
   },
   "outputs": [
    {
     "data": {
      "text/html": [
       "146788.223223307"
      ],
      "text/latex": [
       "146788.223223307"
      ],
      "text/markdown": [
       "146788.223223307"
      ],
      "text/plain": [
       "[1] 146788.2"
      ]
     },
     "metadata": {},
     "output_type": "display_data"
    }
   ],
   "source": [
    "# we could compute the sum of squared errors\n",
    "approx.error <- function(m1,m2) {\n",
    "  sum((m1-m2)^2)\n",
    "}\n",
    "approx.error(dtm,m.approx2)"
   ]
  },
  {
   "cell_type": "code",
   "execution_count": 30,
   "metadata": {
    "collapsed": false
   },
   "outputs": [
    {
     "data": {
      "text/html": [
       "<table>\n",
       "<tbody>\n",
       "\t<tr><td> 1.614663e-03</td><td>-0.0064360160</td><td> 0.004516091 </td><td> 3.084076e-03</td><td> 1.498243e-03</td><td> 0.0051792576</td><td> 0.0016278606</td><td>-0.0026458282</td><td>-0.0009616807</td><td>-3.472796e-04</td><td>...          </td><td> 1.153022e-04</td><td> 1.153022e-04</td><td>-7.705301e-04</td><td> 0.0024106017</td><td> 0.0024106017</td><td>-1.108446e-02</td><td>-6.070464e-03</td><td>-0.0007747259</td><td> 0.0024106017</td><td> 0.0024106017</td></tr>\n",
       "\t<tr><td>-4.306473e-03</td><td>-0.0108212858</td><td>-0.062097642 </td><td>-7.362929e-03</td><td>-8.878269e-03</td><td>-0.0020605335</td><td> 0.0072449746</td><td> 0.0116365301</td><td>-0.0116218043</td><td>-3.046942e-02</td><td>...          </td><td>-2.038531e-03</td><td>-2.038531e-03</td><td>-2.924561e-03</td><td>-0.0029675927</td><td>-0.0029675927</td><td> 7.462699e-03</td><td> 2.348999e-02</td><td> 0.0019286137</td><td>-0.0029675927</td><td>-0.0029675927</td></tr>\n",
       "\t<tr><td> 1.158042e-03</td><td>-0.0021899256</td><td>-0.001288992 </td><td> 1.975648e-03</td><td> 2.472237e-03</td><td> 0.0026735453</td><td> 0.0102017865</td><td>-0.0042643537</td><td> 0.0030438068</td><td> 1.490451e-03</td><td>...          </td><td>-4.712345e-04</td><td>-4.712345e-04</td><td> 7.450329e-04</td><td>-0.0006508840</td><td>-0.0006508840</td><td> 2.361350e-03</td><td>-2.265587e-04</td><td> 0.0008687036</td><td>-0.0006508840</td><td>-0.0006508840</td></tr>\n",
       "\t<tr><td> 7.572003e-04</td><td>-0.0038618801</td><td>-0.010681137 </td><td>-7.384360e-04</td><td> 1.661700e-03</td><td> 0.0005608197</td><td> 0.0050159734</td><td>-0.0083115355</td><td> 0.0016124679</td><td>-6.745784e-04</td><td>...          </td><td>-4.114047e-04</td><td>-4.114047e-04</td><td> 8.822991e-04</td><td>-0.0017461508</td><td>-0.0017461508</td><td> 5.718335e-03</td><td>-1.193475e-03</td><td> 0.0004540490</td><td>-0.0017461508</td><td>-0.0017461508</td></tr>\n",
       "\t<tr><td> 2.165330e-04</td><td> 0.0259714161</td><td> 0.003648311 </td><td>-6.259294e-04</td><td>-3.618052e-03</td><td> 0.0023530517</td><td>-0.0127794198</td><td> 0.0067894640</td><td>-0.0053004513</td><td>-1.258731e-02</td><td>...          </td><td>-6.348230e-04</td><td>-6.348230e-04</td><td> 9.763357e-03</td><td>-0.0013044160</td><td>-0.0013044160</td><td>-6.241441e-05</td><td>-2.783437e-03</td><td> 0.0065884383</td><td>-0.0013044160</td><td>-0.0013044160</td></tr>\n",
       "\t<tr><td> 1.001803e-03</td><td> 0.0014602181</td><td> 0.010075080 </td><td> 3.535380e-04</td><td> 8.199937e-04</td><td> 0.0016017889</td><td> 0.0048242550</td><td>-0.0067961088</td><td>-0.0007751090</td><td>-3.124956e-05</td><td>...          </td><td>-8.282192e-04</td><td>-8.282192e-04</td><td>-5.973541e-05</td><td>-0.0012045699</td><td>-0.0012045699</td><td>-1.291305e-03</td><td> 2.804654e-03</td><td> 0.0030333032</td><td>-0.0012045699</td><td>-0.0012045699</td></tr>\n",
       "\t<tr><td> 6.215440e-04</td><td> 0.0027119042</td><td>-0.021151826 </td><td>-3.427848e-04</td><td>-4.821570e-03</td><td> 0.0040926505</td><td>-0.0127503312</td><td>-0.0182720564</td><td>-0.0097113165</td><td>-2.037022e-02</td><td>...          </td><td>-7.505797e-04</td><td>-7.505797e-04</td><td> 1.144826e-03</td><td>-0.0013898237</td><td>-0.0013898237</td><td>-2.077210e-02</td><td>-9.450266e-03</td><td> 0.0169007652</td><td>-0.0013898237</td><td>-0.0013898237</td></tr>\n",
       "\t<tr><td> 7.659163e-04</td><td> 0.0023606165</td><td> 0.001733951 </td><td> 1.023169e-03</td><td> 6.062897e-04</td><td>-0.0005603446</td><td>-0.0024075107</td><td>-0.0015638351</td><td>-0.0000764839</td><td>-2.416753e-03</td><td>...          </td><td> 1.313781e-03</td><td> 1.313781e-03</td><td> 1.714440e-03</td><td> 0.0006295203</td><td> 0.0006295203</td><td> 5.839176e-03</td><td>-6.971552e-04</td><td> 0.0004741272</td><td> 0.0006295203</td><td> 0.0006295203</td></tr>\n",
       "\t<tr><td> 1.380015e-04</td><td>-0.0034751033</td><td>-0.006282708 </td><td> 1.569003e-03</td><td> 4.058840e-04</td><td> 0.0005538587</td><td>-0.0006546161</td><td> 0.0073173309</td><td>-0.0012399414</td><td>-5.021430e-03</td><td>...          </td><td>-2.924642e-04</td><td>-2.924642e-04</td><td>-6.841894e-04</td><td>-0.0012377250</td><td>-0.0012377250</td><td>-3.116834e-03</td><td> 3.437636e-04</td><td> 0.0020697413</td><td>-0.0012377250</td><td>-0.0012377250</td></tr>\n",
       "\t<tr><td> 1.685525e-03</td><td>-0.0090635523</td><td> 0.005244457 </td><td> 5.389539e-03</td><td> 5.271573e-04</td><td> 0.0009241339</td><td> 0.0046335901</td><td> 0.0068657313</td><td> 0.0056250236</td><td> 4.675791e-03</td><td>...          </td><td>-6.151820e-04</td><td>-6.151820e-04</td><td>-1.271573e-04</td><td>-0.0018225182</td><td>-0.0018225182</td><td> 7.286274e-03</td><td> 1.913292e-03</td><td>-0.0045523643</td><td>-0.0018225182</td><td>-0.0018225182</td></tr>\n",
       "\t<tr><td>-1.483949e-03</td><td>-0.0053473398</td><td>-0.018267707 </td><td>-1.068212e-03</td><td>-5.809423e-03</td><td>-0.0076511739</td><td>-0.0097578849</td><td> 0.0354573948</td><td> 0.0299365337</td><td>-1.679365e-02</td><td>...          </td><td> 1.294439e-03</td><td> 1.294439e-03</td><td> 3.699973e-03</td><td> 0.0005487397</td><td> 0.0005487397</td><td>-1.133586e-01</td><td>-1.011909e-02</td><td>-0.0022586853</td><td> 0.0005487397</td><td> 0.0005487397</td></tr>\n",
       "\t<tr><td> 5.630363e-04</td><td>-0.0020709929</td><td> 0.002717317 </td><td>-2.834557e-05</td><td> 3.205600e-04</td><td> 0.0006376098</td><td>-0.0024796484</td><td>-0.0039306073</td><td> 0.0024659337</td><td>-2.153532e-03</td><td>...          </td><td>-4.543672e-04</td><td>-4.543672e-04</td><td>-4.948423e-04</td><td> 0.0009528273</td><td> 0.0009528273</td><td> 2.913738e-03</td><td>-2.233128e-03</td><td>-0.0009476183</td><td> 0.0009528273</td><td> 0.0009528273</td></tr>\n",
       "\t<tr><td> 7.551589e-04</td><td> 0.0120349142</td><td> 0.002578237 </td><td> 3.602870e-03</td><td>-3.220535e-04</td><td> 0.0020988139</td><td>-0.0014834024</td><td> 0.0152099648</td><td> 0.0068558768</td><td>-4.441445e-04</td><td>...          </td><td> 1.934467e-04</td><td> 1.934467e-04</td><td>-1.802370e-03</td><td> 0.0002581566</td><td> 0.0002581566</td><td> 7.538946e-03</td><td>-2.372864e-03</td><td> 0.0055670638</td><td> 0.0002581566</td><td> 0.0002581566</td></tr>\n",
       "\t<tr><td>-3.872407e-04</td><td> 0.0045865269</td><td>-0.010558987 </td><td>-1.775480e-04</td><td> 3.029106e-04</td><td> 0.0011471230</td><td>-0.0060534251</td><td>-0.0006710308</td><td>-0.0031134546</td><td>-7.810465e-03</td><td>...          </td><td>-1.213302e-03</td><td>-1.213302e-03</td><td> 2.146349e-04</td><td>-0.0025705063</td><td>-0.0025705063</td><td> 9.390524e-04</td><td>-1.538142e-03</td><td> 0.0035768976</td><td>-0.0025705063</td><td>-0.0025705063</td></tr>\n",
       "\t<tr><td> 7.061260e-05</td><td>-0.0026588831</td><td>-0.009497068 </td><td>-4.156104e-04</td><td> 1.699298e-03</td><td> 0.0009294810</td><td>-0.0116521516</td><td>-0.0096037439</td><td> 0.0008785897</td><td>-2.185447e-03</td><td>...          </td><td> 6.728688e-04</td><td> 6.728688e-04</td><td>-1.692942e-03</td><td> 0.0011868716</td><td> 0.0011868716</td><td>-1.037898e-02</td><td> 6.706683e-04</td><td> 0.0006268686</td><td> 0.0011868716</td><td> 0.0011868716</td></tr>\n",
       "\t<tr><td> 9.427233e-04</td><td>-0.0023701874</td><td> 0.005391480 </td><td> 1.485957e-03</td><td>-8.794665e-04</td><td>-0.0003886414</td><td>-0.0026469391</td><td> 0.0137576708</td><td> 0.0018486127</td><td> 5.924142e-04</td><td>...          </td><td> 3.099479e-05</td><td> 3.099479e-05</td><td>-5.082636e-04</td><td>-0.0014204657</td><td>-0.0014204657</td><td>-7.753525e-04</td><td>-2.751423e-05</td><td>-0.0009465480</td><td>-0.0014204657</td><td>-0.0014204657</td></tr>\n",
       "\t<tr><td>-6.965118e-04</td><td> 0.0268576801</td><td>-0.002648728 </td><td>-4.577411e-03</td><td>-2.444119e-03</td><td> 0.0005106907</td><td>-0.0020166048</td><td>-0.0107210146</td><td> 0.0057932595</td><td> 6.190411e-03</td><td>...          </td><td>-2.768910e-04</td><td>-2.768910e-04</td><td> 9.125515e-04</td><td>-0.0007428318</td><td>-0.0007428318</td><td>-2.865850e-02</td><td> 5.552842e-03</td><td>-0.0022807575</td><td>-0.0007428318</td><td>-0.0007428318</td></tr>\n",
       "\t<tr><td> 3.428038e-04</td><td>-0.0047096574</td><td>-0.017227720 </td><td> 8.384509e-04</td><td> 2.265573e-03</td><td> 0.0004626908</td><td>-0.0108524229</td><td> 0.0073621987</td><td> 0.0137576384</td><td> 1.230016e-03</td><td>...          </td><td>-3.757371e-04</td><td>-3.757371e-04</td><td>-4.786131e-04</td><td>-0.0020646126</td><td>-0.0020646126</td><td>-2.347139e-02</td><td> 6.341914e-03</td><td> 0.0002722425</td><td>-0.0020646126</td><td>-0.0020646126</td></tr>\n",
       "\t<tr><td> 6.312820e-04</td><td> 0.0009075899</td><td>-0.004602781 </td><td> 2.549648e-03</td><td>-6.396989e-05</td><td> 0.0008990392</td><td>-0.0015718877</td><td> 0.0018618614</td><td> 0.0015254443</td><td>-1.715490e-04</td><td>...          </td><td>-3.444651e-05</td><td>-3.444651e-05</td><td>-2.392236e-03</td><td> 0.0005710223</td><td> 0.0005710223</td><td> 3.504840e-03</td><td> 6.795552e-03</td><td>-0.0006090211</td><td> 0.0005710223</td><td> 0.0005710223</td></tr>\n",
       "\t<tr><td> 6.615674e-04</td><td> 0.0050681429</td><td> 0.025765382 </td><td>-3.245304e-04</td><td> 1.185926e-03</td><td> 0.0018908374</td><td> 0.0013950879</td><td>-0.0179766898</td><td> 0.0047335783</td><td> 7.286825e-03</td><td>...          </td><td>-5.103366e-04</td><td>-5.103366e-04</td><td>-2.304642e-03</td><td>-0.0015956700</td><td>-0.0015956700</td><td> 9.241742e-03</td><td>-3.119371e-03</td><td> 0.0059784629</td><td>-0.0015956700</td><td>-0.0015956700</td></tr>\n",
       "\t<tr><td> 5.177413e-04</td><td> 0.0042081208</td><td>-0.002118940 </td><td> 1.236093e-03</td><td> 1.576831e-03</td><td> 0.0002422223</td><td>-0.0008690400</td><td>-0.0036926644</td><td> 0.0082215017</td><td> 2.585917e-03</td><td>...          </td><td> 4.024688e-04</td><td> 4.024688e-04</td><td>-1.629650e-03</td><td>-0.0004360143</td><td>-0.0004360143</td><td> 4.816421e-03</td><td>-5.605289e-04</td><td> 0.0066642714</td><td>-0.0004360143</td><td>-0.0004360143</td></tr>\n",
       "\t<tr><td>-7.586661e-05</td><td> 0.0199826840</td><td>-0.011845858 </td><td> 4.172719e-03</td><td>-6.813929e-05</td><td> 0.0011749170</td><td> 0.0027550381</td><td>-0.0264445788</td><td> 0.0006270406</td><td> 4.938908e-03</td><td>...          </td><td> 4.497934e-04</td><td> 4.497934e-04</td><td>-6.518579e-04</td><td>-0.0008651581</td><td>-0.0008651581</td><td> 2.697056e-03</td><td> 1.890014e-04</td><td> 0.0113963458</td><td>-0.0008651581</td><td>-0.0008651581</td></tr>\n",
       "\t<tr><td> 1.343532e-03</td><td>-0.0064609029</td><td>-0.004787694 </td><td> 5.816253e-03</td><td> 2.082880e-03</td><td> 0.0023322368</td><td>-0.0009801934</td><td> 0.0359523455</td><td> 0.0058096222</td><td>-1.345289e-03</td><td>...          </td><td>-4.313962e-04</td><td>-4.313962e-04</td><td>-6.847015e-04</td><td> 0.0003485168</td><td> 0.0003485168</td><td>-5.813102e-03</td><td> 2.190462e-03</td><td> 0.0023647683</td><td> 0.0003485168</td><td> 0.0003485168</td></tr>\n",
       "\t<tr><td> 1.643357e-03</td><td> 0.0072033390</td><td> 0.008685127 </td><td> 2.112048e-03</td><td>-8.000648e-04</td><td> 0.0021985534</td><td> 0.0032558110</td><td> 0.0009484802</td><td> 0.0014583793</td><td>-4.077234e-03</td><td>...          </td><td> 3.595787e-04</td><td> 3.595787e-04</td><td>-1.488149e-03</td><td> 0.0008679050</td><td> 0.0008679050</td><td>-1.585883e-02</td><td>-4.071612e-03</td><td> 0.0028051409</td><td> 0.0008679050</td><td> 0.0008679050</td></tr>\n",
       "\t<tr><td> 8.185738e-04</td><td> 0.0041421113</td><td>-0.001318295 </td><td> 3.431740e-03</td><td> 3.034928e-04</td><td>-0.0003561988</td><td>-0.0026298413</td><td>-0.0003429256</td><td> 0.0046975079</td><td>-6.250060e-04</td><td>...          </td><td>-1.887949e-05</td><td>-1.887949e-05</td><td>-6.956701e-04</td><td> 0.0003874383</td><td> 0.0003874383</td><td> 7.684756e-03</td><td>-4.421510e-03</td><td> 0.0012271345</td><td> 0.0003874383</td><td> 0.0003874383</td></tr>\n",
       "\t<tr><td> 9.404338e-04</td><td>-0.0003654308</td><td> 0.004609598 </td><td> 1.939689e-03</td><td> 2.825112e-03</td><td> 0.0003660585</td><td> 0.0003312286</td><td>-0.0045073419</td><td> 0.0056588392</td><td>-3.598729e-04</td><td>...          </td><td> 3.087948e-04</td><td> 3.087948e-04</td><td>-1.570360e-03</td><td> 0.0010200624</td><td> 0.0010200624</td><td> 2.452466e-02</td><td>-3.811684e-03</td><td>-0.0012852629</td><td> 0.0010200624</td><td> 0.0010200624</td></tr>\n",
       "\t<tr><td> 9.301513e-04</td><td> 0.0049415131</td><td>-0.003252424 </td><td> 3.030053e-03</td><td> 1.533773e-03</td><td> 0.0015306619</td><td> 0.0005392091</td><td>-0.0057549833</td><td> 0.0072363977</td><td> 6.831196e-04</td><td>...          </td><td>-1.988763e-04</td><td>-1.988763e-04</td><td>-2.023663e-03</td><td> 0.0007578300</td><td> 0.0007578300</td><td> 6.800464e-03</td><td>-5.045633e-05</td><td> 0.0051335832</td><td> 0.0007578300</td><td> 0.0007578300</td></tr>\n",
       "\t<tr><td> 1.698642e-04</td><td>-0.0099889350</td><td>-0.019500704 </td><td>-7.729058e-03</td><td>-5.384234e-03</td><td> 0.0005477020</td><td> 0.0087377795</td><td>-0.0017076897</td><td> 0.0070754461</td><td> 1.130337e-02</td><td>...          </td><td> 1.259072e-04</td><td> 1.259072e-04</td><td> 1.558294e-03</td><td>-0.0011790805</td><td>-0.0011790805</td><td> 9.965553e-03</td><td> 2.649441e-02</td><td>-0.0045057327</td><td>-0.0011790805</td><td>-0.0011790805</td></tr>\n",
       "\t<tr><td>-3.860079e-04</td><td> 0.0359248161</td><td>-0.003519276 </td><td> 5.768377e-03</td><td> 3.946749e-03</td><td> 0.0001598034</td><td> 0.0123140479</td><td>-0.0330367281</td><td> 0.0016754075</td><td> 1.255165e-02</td><td>...          </td><td> 9.249664e-04</td><td> 9.249664e-04</td><td> 2.410778e-03</td><td>-0.0027228808</td><td>-0.0027228808</td><td> 9.012230e-03</td><td> 2.389926e-03</td><td> 0.0114465211</td><td>-0.0027228808</td><td>-0.0027228808</td></tr>\n",
       "\t<tr><td> 6.384837e-04</td><td> 0.0053994676</td><td>-0.016046396 </td><td> 2.257746e-03</td><td>-2.498930e-03</td><td> 0.0018831902</td><td> 0.0062826667</td><td> 0.0042562094</td><td>-0.0061280383</td><td>-2.446980e-03</td><td>...          </td><td>-3.842060e-04</td><td>-3.842060e-04</td><td>-2.597288e-03</td><td>-0.0003740710</td><td>-0.0003740710</td><td> 8.293792e-03</td><td> 5.220472e-03</td><td>-0.0018122275</td><td>-0.0003740710</td><td>-0.0003740710</td></tr>\n",
       "\t<tr><td>...</td><td>...</td><td>...</td><td>...</td><td>...</td><td>...</td><td>...</td><td>...</td><td>...</td><td>...</td><td>   </td><td>...</td><td>...</td><td>...</td><td>...</td><td>...</td><td>...</td><td>...</td><td>...</td><td>...</td><td>...</td></tr>\n",
       "\t<tr><td>-1.765544e-03</td><td> 0.0116185301</td><td>-0.047190318 </td><td> 0.0021289192</td><td> 3.857301e-03</td><td>-3.844244e-03</td><td> 0.0282088866</td><td> 0.0591491445</td><td> 0.0058001397</td><td>-0.0027309599</td><td>...          </td><td>-0.0015459420</td><td>-0.0015459420</td><td> 1.854217e-03</td><td> 1.670557e-03</td><td> 1.670557e-03</td><td> 0.0066392117</td><td>-0.0002948531</td><td> 0.0038167830</td><td> 1.670557e-03</td><td> 1.670557e-03</td></tr>\n",
       "\t<tr><td>-1.376064e-03</td><td> 0.0010419636</td><td>-0.021909407 </td><td> 0.0024480472</td><td>-2.411916e-03</td><td> 9.221483e-04</td><td>-0.0003940525</td><td>-0.0006401087</td><td> 0.0011058148</td><td>-0.0014634744</td><td>...          </td><td>-0.0007160610</td><td>-0.0007160610</td><td>-2.281217e-03</td><td>-7.517045e-05</td><td>-7.517045e-05</td><td>-0.0021536754</td><td>-0.0052572275</td><td> 0.0033194974</td><td>-7.517045e-05</td><td>-7.517045e-05</td></tr>\n",
       "\t<tr><td>-4.167009e-05</td><td> 0.0019769621</td><td>-0.001180745 </td><td> 0.0043327745</td><td>-3.158423e-03</td><td>-6.199736e-04</td><td>-0.0038112458</td><td> 0.0032219077</td><td> 0.0046907968</td><td> 0.0031977277</td><td>...          </td><td> 0.0002108731</td><td> 0.0002108731</td><td>-1.377415e-03</td><td>-1.092546e-03</td><td>-1.092546e-03</td><td> 0.0039803316</td><td>-0.0028148932</td><td> 0.0043747507</td><td>-1.092546e-03</td><td>-1.092546e-03</td></tr>\n",
       "\t<tr><td>-2.562013e-04</td><td> 0.0130931555</td><td>-0.012819479 </td><td> 0.0046800815</td><td>-7.348139e-04</td><td> 1.688643e-03</td><td>-0.0026581979</td><td> 0.0400620289</td><td> 0.0104638319</td><td>-0.0054968205</td><td>...          </td><td> 0.0004977785</td><td> 0.0004977785</td><td>-1.732812e-03</td><td>-1.018885e-03</td><td>-1.018885e-03</td><td>-0.0118706179</td><td>-0.0033072827</td><td> 0.0062778800</td><td>-1.018885e-03</td><td>-1.018885e-03</td></tr>\n",
       "\t<tr><td> 8.971886e-04</td><td>-0.0122070299</td><td> 0.005562342 </td><td> 0.0102068409</td><td>-1.463269e-03</td><td> 1.527773e-03</td><td>-0.0161923477</td><td>-0.0004058225</td><td>-0.0007664058</td><td> 0.0075111051</td><td>...          </td><td>-0.0001571848</td><td>-0.0001571848</td><td>-4.387600e-04</td><td> 3.839014e-03</td><td> 3.839014e-03</td><td> 0.0056317345</td><td>-0.0069645604</td><td> 0.0032857412</td><td> 3.839014e-03</td><td> 3.839014e-03</td></tr>\n",
       "\t<tr><td> 7.351255e-04</td><td> 0.0067767422</td><td>-0.004094108 </td><td> 0.0068978404</td><td>-6.186942e-04</td><td> 3.354616e-04</td><td>-0.0005689668</td><td>-0.0043612836</td><td> 0.0043900264</td><td> 0.0017279064</td><td>...          </td><td> 0.0001088992</td><td> 0.0001088992</td><td> 1.431715e-03</td><td>-1.465339e-03</td><td>-1.465339e-03</td><td> 0.0043273500</td><td>-0.0019603752</td><td> 0.0015880921</td><td>-1.465339e-03</td><td>-1.465339e-03</td></tr>\n",
       "\t<tr><td> 1.102660e-03</td><td> 0.0046911141</td><td>-0.002374300 </td><td> 0.0022782162</td><td> 8.765597e-04</td><td> 2.516142e-04</td><td> 0.0003854838</td><td> 0.0015163144</td><td> 0.0023061545</td><td>-0.0007735352</td><td>...          </td><td> 0.0005172111</td><td> 0.0005172111</td><td>-2.727223e-04</td><td>-3.435738e-04</td><td>-3.435738e-04</td><td> 0.0093884517</td><td>-0.0017627019</td><td> 0.0014020648</td><td>-3.435738e-04</td><td>-3.435738e-04</td></tr>\n",
       "\t<tr><td> 8.237945e-04</td><td> 0.0121708543</td><td>-0.003175380 </td><td>-0.0003956026</td><td> 1.232387e-03</td><td> 3.510138e-03</td><td> 0.0085983442</td><td>-0.0095878967</td><td> 0.0023601443</td><td> 0.0029719830</td><td>...          </td><td> 0.0005933291</td><td> 0.0005933291</td><td>-6.810234e-04</td><td> 1.674594e-03</td><td> 1.674594e-03</td><td>-0.0036623652</td><td>-0.0013417800</td><td> 0.0042938963</td><td> 1.674594e-03</td><td> 1.674594e-03</td></tr>\n",
       "\t<tr><td> 3.952658e-04</td><td> 0.0099293614</td><td> 0.006980698 </td><td> 0.0029644513</td><td> 1.775268e-04</td><td>-2.131555e-04</td><td>-0.0056841928</td><td> 0.0066900644</td><td> 0.0071605761</td><td> 0.0057788998</td><td>...          </td><td>-0.0003264559</td><td>-0.0003264559</td><td> 1.780692e-03</td><td>-4.137689e-05</td><td>-4.137689e-05</td><td> 0.0062257040</td><td>-0.0017457524</td><td> 0.0018501747</td><td>-4.137689e-05</td><td>-4.137689e-05</td></tr>\n",
       "\t<tr><td> 8.334990e-04</td><td>-0.0003626811</td><td>-0.000911992 </td><td> 0.0037963415</td><td> 1.491972e-04</td><td> 5.745126e-04</td><td> 0.0075295974</td><td> 0.0133280736</td><td> 0.0033514216</td><td>-0.0021193086</td><td>...          </td><td> 0.0001524059</td><td> 0.0001524059</td><td>-6.833922e-04</td><td>-3.229699e-04</td><td>-3.229699e-04</td><td> 0.0081127480</td><td>-0.0006993268</td><td>-0.0001444927</td><td>-3.229699e-04</td><td>-3.229699e-04</td></tr>\n",
       "\t<tr><td>-8.898293e-04</td><td>-0.0073579732</td><td>-0.024199844 </td><td> 0.0032532438</td><td> 4.710107e-03</td><td> 2.773184e-05</td><td> 0.0057547020</td><td> 0.0019543411</td><td>-0.0005747688</td><td>-0.0082389043</td><td>...          </td><td>-0.0007426356</td><td>-0.0007426356</td><td> 1.527853e-03</td><td>-3.527828e-04</td><td>-3.527828e-04</td><td>-0.0103324910</td><td> 0.0010327952</td><td> 0.0102249166</td><td>-3.527828e-04</td><td>-3.527828e-04</td></tr>\n",
       "\t<tr><td> 6.938902e-04</td><td> 0.0060307914</td><td> 0.022335052 </td><td> 0.0148779238</td><td> 3.514914e-04</td><td>-3.959386e-03</td><td>-0.0013705959</td><td> 0.0055621425</td><td> 0.0008770863</td><td>-0.0013954610</td><td>...          </td><td>-0.0008530621</td><td>-0.0008530621</td><td> 3.077633e-04</td><td>-6.791494e-04</td><td>-6.791494e-04</td><td>-0.0421124711</td><td> 0.0042019737</td><td> 0.0041256711</td><td>-6.791494e-04</td><td>-6.791494e-04</td></tr>\n",
       "\t<tr><td>-5.216738e-04</td><td>-0.0163077975</td><td>-0.003562187 </td><td> 0.0094187850</td><td>-2.225245e-03</td><td>-2.154199e-05</td><td> 0.0160710313</td><td>-0.0113057943</td><td> 0.0041118403</td><td> 0.0012530697</td><td>...          </td><td> 0.0007937222</td><td> 0.0007937222</td><td>-1.151777e-03</td><td> 1.286460e-03</td><td> 1.286460e-03</td><td>-0.0207589076</td><td> 0.0051691937</td><td> 0.0004194897</td><td> 1.286460e-03</td><td> 1.286460e-03</td></tr>\n",
       "\t<tr><td> 5.905980e-05</td><td> 0.0127581594</td><td>-0.010242558 </td><td> 0.0030871326</td><td> 1.588054e-03</td><td>-4.796768e-04</td><td>-0.0029262838</td><td>-0.0067569240</td><td> 0.0040438796</td><td> 0.0011750344</td><td>...          </td><td>-0.0007491363</td><td>-0.0007491363</td><td> 2.750504e-03</td><td>-8.666715e-04</td><td>-8.666715e-04</td><td> 0.0096943904</td><td>-0.0061586969</td><td>-0.0004712833</td><td>-8.666715e-04</td><td>-8.666715e-04</td></tr>\n",
       "\t<tr><td> 1.188678e-07</td><td>-0.0194321731</td><td>-0.013379573 </td><td> 0.0058660627</td><td> 7.807047e-04</td><td> 6.447486e-04</td><td>-0.0004265536</td><td> 0.0205001282</td><td> 0.0029420505</td><td> 0.0040330980</td><td>...          </td><td> 0.0003932637</td><td> 0.0003932637</td><td>-1.902273e-03</td><td> 7.523628e-04</td><td> 7.523628e-04</td><td>-0.0087205630</td><td> 0.0032037371</td><td>-0.0068624458</td><td> 7.523628e-04</td><td> 7.523628e-04</td></tr>\n",
       "\t<tr><td> 7.649404e-05</td><td> 0.0084877141</td><td>-0.019256438 </td><td> 0.0059666164</td><td>-6.820457e-04</td><td> 1.577338e-03</td><td> 0.0092547262</td><td> 0.0323976655</td><td> 0.0010501080</td><td>-0.0030125582</td><td>...          </td><td>-0.0015741405</td><td>-0.0015741405</td><td>-1.076686e-03</td><td>-1.410405e-03</td><td>-1.410405e-03</td><td>-0.0093743757</td><td> 0.0013057836</td><td>-0.0031733992</td><td>-1.410405e-03</td><td>-1.410405e-03</td></tr>\n",
       "\t<tr><td> 1.498169e-04</td><td> 0.0107363938</td><td> 0.018581802 </td><td>-0.0055162234</td><td>-7.739136e-04</td><td> 9.780621e-04</td><td> 0.0193560009</td><td>-0.0372795552</td><td>-0.0030105427</td><td> 0.0026385553</td><td>...          </td><td> 0.0009307131</td><td> 0.0009307131</td><td> 2.074715e-03</td><td> 5.440754e-04</td><td> 5.440754e-04</td><td>-0.0222153580</td><td> 0.0167264988</td><td> 0.0375611041</td><td> 5.440754e-04</td><td> 5.440754e-04</td></tr>\n",
       "\t<tr><td>-3.428203e-04</td><td>-0.0071111544</td><td> 0.005140784 </td><td>-0.0019672065</td><td> 2.233302e-04</td><td>-1.719091e-03</td><td> 0.0144599170</td><td> 0.0003646614</td><td>-0.0031703828</td><td> 0.0027548124</td><td>...          </td><td>-0.0001956492</td><td>-0.0001956492</td><td>-2.121939e-03</td><td>-2.556350e-03</td><td>-2.556350e-03</td><td> 0.0091539126</td><td> 0.0053612444</td><td>-0.0028005609</td><td>-2.556350e-03</td><td>-2.556350e-03</td></tr>\n",
       "\t<tr><td> 2.536811e-04</td><td>-0.0092190348</td><td>-0.010616235 </td><td> 0.0034894112</td><td> 1.319167e-03</td><td> 2.354670e-04</td><td> 0.0075960953</td><td>-0.0011566524</td><td> 0.0028510602</td><td>-0.0077989154</td><td>...          </td><td>-0.0001315594</td><td>-0.0001315594</td><td>-4.566006e-04</td><td> 2.283983e-03</td><td> 2.283983e-03</td><td> 0.0329748666</td><td> 0.0013371632</td><td> 0.0009067929</td><td> 2.283983e-03</td><td> 2.283983e-03</td></tr>\n",
       "\t<tr><td>-1.049100e-04</td><td> 0.0070842438</td><td>-0.004297493 </td><td>-0.0001554302</td><td> 1.160736e-03</td><td>-1.297434e-03</td><td>-0.0009133403</td><td>-0.0060622999</td><td>-0.0035156092</td><td>-0.0010602857</td><td>...          </td><td>-0.0004832284</td><td>-0.0004832284</td><td>-1.705315e-03</td><td>-1.730794e-03</td><td>-1.730794e-03</td><td> 0.0043391645</td><td>-0.0048878531</td><td> 0.0018825625</td><td>-1.730794e-03</td><td>-1.730794e-03</td></tr>\n",
       "\t<tr><td>-3.950295e-04</td><td> 0.0117220374</td><td>-0.008225777 </td><td>-0.0002942218</td><td> 3.278163e-03</td><td> 1.539193e-03</td><td> 0.0190930649</td><td> 0.0165959732</td><td> 0.0073847997</td><td>-0.0081294494</td><td>...          </td><td>-0.0013917500</td><td>-0.0013917500</td><td>-7.690534e-04</td><td>-1.990113e-03</td><td>-1.990113e-03</td><td> 0.0232230012</td><td> 0.0032373664</td><td>-0.0075324261</td><td>-1.990113e-03</td><td>-1.990113e-03</td></tr>\n",
       "\t<tr><td> 1.116243e-03</td><td> 0.0102965298</td><td>-0.002634183 </td><td> 0.0008036122</td><td> 3.808494e-06</td><td> 7.895901e-04</td><td> 0.0069028773</td><td> 0.0088813353</td><td> 0.0045316348</td><td> 0.0008351151</td><td>...          </td><td>-0.0002107797</td><td>-0.0002107797</td><td> 7.194145e-05</td><td>-1.378319e-03</td><td>-1.378319e-03</td><td> 0.0041763898</td><td> 0.0002779332</td><td> 0.0013583079</td><td>-1.378319e-03</td><td>-1.378319e-03</td></tr>\n",
       "\t<tr><td> 3.523108e-04</td><td>-0.0029347213</td><td>-0.014123801 </td><td> 0.0004211643</td><td> 3.183239e-04</td><td>-5.055848e-04</td><td> 0.0028873063</td><td> 0.0140193711</td><td> 0.0047435608</td><td> 0.0033096293</td><td>...          </td><td>-0.0001506197</td><td>-0.0001506197</td><td> 5.636015e-04</td><td>-1.838453e-03</td><td>-1.838453e-03</td><td>-0.0013318790</td><td>-0.0021949971</td><td> 0.0038245605</td><td>-1.838453e-03</td><td>-1.838453e-03</td></tr>\n",
       "\t<tr><td> 2.225600e-04</td><td>-0.0131874417</td><td>-0.008773226 </td><td> 0.0040835695</td><td>-7.013294e-05</td><td>-3.410801e-04</td><td> 0.0014305735</td><td>-0.0060019256</td><td> 0.0036501688</td><td> 0.0051199337</td><td>...          </td><td>-0.0002664806</td><td>-0.0002664806</td><td>-2.048843e-03</td><td>-1.417013e-03</td><td>-1.417013e-03</td><td> 0.0055096075</td><td>-0.0017520856</td><td>-0.0061782228</td><td>-1.417013e-03</td><td>-1.417013e-03</td></tr>\n",
       "\t<tr><td> 2.509900e-04</td><td>-0.0053425332</td><td>-0.005533803 </td><td> 0.0011132675</td><td> 2.777824e-03</td><td> 4.818614e-04</td><td> 0.0044230003</td><td>-0.0083070977</td><td> 0.0005622665</td><td>-0.0009481319</td><td>...          </td><td>-0.0002556719</td><td>-0.0002556719</td><td>-6.085969e-04</td><td>-5.347023e-04</td><td>-5.347023e-04</td><td>-0.0003019384</td><td>-0.0008925317</td><td> 0.0012661001</td><td>-5.347023e-04</td><td>-5.347023e-04</td></tr>\n",
       "\t<tr><td> 1.523937e-04</td><td> 0.0044469412</td><td>-0.005694581 </td><td> 0.0130369842</td><td>-5.816904e-03</td><td> 4.627281e-04</td><td>-0.0247034238</td><td>-0.0037586403</td><td>-0.0063942918</td><td> 0.0084359828</td><td>...          </td><td> 0.0002711837</td><td> 0.0002711837</td><td>-2.805128e-03</td><td> 7.119370e-03</td><td> 7.119370e-03</td><td> 0.0203021255</td><td>-0.0081698651</td><td> 0.0076572594</td><td> 7.119370e-03</td><td> 7.119370e-03</td></tr>\n",
       "\t<tr><td>-6.061743e-05</td><td> 0.0263592690</td><td> 0.014293539 </td><td>-0.0026722248</td><td> 3.239838e-03</td><td>-1.048690e-03</td><td>-0.0055971920</td><td> 0.0071119215</td><td>-0.0021437848</td><td> 0.0021771116</td><td>...          </td><td>-0.0002006873</td><td>-0.0002006873</td><td> 1.145595e-03</td><td> 1.064566e-03</td><td> 1.064566e-03</td><td> 0.0036802604</td><td>-0.0028737559</td><td>-0.0001988378</td><td> 1.064566e-03</td><td> 1.064566e-03</td></tr>\n",
       "\t<tr><td> 4.350721e-04</td><td> 0.0011146301</td><td> 0.014155888 </td><td>-0.0061847624</td><td> 8.614911e-04</td><td> 3.576574e-04</td><td>-0.0102116059</td><td>-0.0121119594</td><td>-0.0002963146</td><td> 0.0334890735</td><td>...          </td><td> 0.0008372955</td><td> 0.0008372955</td><td> 5.160007e-03</td><td>-4.227113e-03</td><td>-4.227113e-03</td><td>-0.0233170827</td><td>-0.0046051231</td><td> 0.0015514612</td><td>-4.227113e-03</td><td>-4.227113e-03</td></tr>\n",
       "\t<tr><td> 1.261668e-03</td><td> 0.0155713529</td><td>-0.009637985 </td><td> 0.0056944337</td><td> 1.337838e-03</td><td> 3.026957e-05</td><td>-0.0028362316</td><td> 0.0315822741</td><td> 0.0005429939</td><td> 0.0007950557</td><td>...          </td><td> 0.0007381622</td><td> 0.0007381622</td><td>-3.039435e-03</td><td> 4.299511e-04</td><td> 4.299511e-04</td><td>-0.0047371896</td><td>-0.0018805444</td><td>-0.0003448640</td><td> 4.299511e-04</td><td> 4.299511e-04</td></tr>\n",
       "\t<tr><td>-1.216094e-04</td><td> 0.0079781620</td><td> 0.020093764 </td><td>-0.0061733527</td><td>-1.052378e-03</td><td> 1.463581e-03</td><td> 0.0222573477</td><td>-0.0428276316</td><td>-0.0057799363</td><td> 0.0015834822</td><td>...          </td><td> 0.0009504662</td><td> 0.0009504662</td><td> 1.609616e-03</td><td>-5.935192e-04</td><td>-5.935192e-04</td><td>-0.0286441543</td><td> 0.0188195669</td><td> 0.0511149392</td><td>-5.935192e-04</td><td>-5.935192e-04</td></tr>\n",
       "</tbody>\n",
       "</table>\n"
      ],
      "text/markdown": [
       "\n",
       "|  1.614663e-03 | -0.0064360160 |  0.004516091  |  3.084076e-03 |  1.498243e-03 |  0.0051792576 |  0.0016278606 | -0.0026458282 | -0.0009616807 | -3.472796e-04 | ...           |  1.153022e-04 |  1.153022e-04 | -7.705301e-04 |  0.0024106017 |  0.0024106017 | -1.108446e-02 | -6.070464e-03 | -0.0007747259 |  0.0024106017 |  0.0024106017 | \n",
       "| -4.306473e-03 | -0.0108212858 | -0.062097642  | -7.362929e-03 | -8.878269e-03 | -0.0020605335 |  0.0072449746 |  0.0116365301 | -0.0116218043 | -3.046942e-02 | ...           | -2.038531e-03 | -2.038531e-03 | -2.924561e-03 | -0.0029675927 | -0.0029675927 |  7.462699e-03 |  2.348999e-02 |  0.0019286137 | -0.0029675927 | -0.0029675927 | \n",
       "|  1.158042e-03 | -0.0021899256 | -0.001288992  |  1.975648e-03 |  2.472237e-03 |  0.0026735453 |  0.0102017865 | -0.0042643537 |  0.0030438068 |  1.490451e-03 | ...           | -4.712345e-04 | -4.712345e-04 |  7.450329e-04 | -0.0006508840 | -0.0006508840 |  2.361350e-03 | -2.265587e-04 |  0.0008687036 | -0.0006508840 | -0.0006508840 | \n",
       "|  7.572003e-04 | -0.0038618801 | -0.010681137  | -7.384360e-04 |  1.661700e-03 |  0.0005608197 |  0.0050159734 | -0.0083115355 |  0.0016124679 | -6.745784e-04 | ...           | -4.114047e-04 | -4.114047e-04 |  8.822991e-04 | -0.0017461508 | -0.0017461508 |  5.718335e-03 | -1.193475e-03 |  0.0004540490 | -0.0017461508 | -0.0017461508 | \n",
       "|  2.165330e-04 |  0.0259714161 |  0.003648311  | -6.259294e-04 | -3.618052e-03 |  0.0023530517 | -0.0127794198 |  0.0067894640 | -0.0053004513 | -1.258731e-02 | ...           | -6.348230e-04 | -6.348230e-04 |  9.763357e-03 | -0.0013044160 | -0.0013044160 | -6.241441e-05 | -2.783437e-03 |  0.0065884383 | -0.0013044160 | -0.0013044160 | \n",
       "|  1.001803e-03 |  0.0014602181 |  0.010075080  |  3.535380e-04 |  8.199937e-04 |  0.0016017889 |  0.0048242550 | -0.0067961088 | -0.0007751090 | -3.124956e-05 | ...           | -8.282192e-04 | -8.282192e-04 | -5.973541e-05 | -0.0012045699 | -0.0012045699 | -1.291305e-03 |  2.804654e-03 |  0.0030333032 | -0.0012045699 | -0.0012045699 | \n",
       "|  6.215440e-04 |  0.0027119042 | -0.021151826  | -3.427848e-04 | -4.821570e-03 |  0.0040926505 | -0.0127503312 | -0.0182720564 | -0.0097113165 | -2.037022e-02 | ...           | -7.505797e-04 | -7.505797e-04 |  1.144826e-03 | -0.0013898237 | -0.0013898237 | -2.077210e-02 | -9.450266e-03 |  0.0169007652 | -0.0013898237 | -0.0013898237 | \n",
       "|  7.659163e-04 |  0.0023606165 |  0.001733951  |  1.023169e-03 |  6.062897e-04 | -0.0005603446 | -0.0024075107 | -0.0015638351 | -0.0000764839 | -2.416753e-03 | ...           |  1.313781e-03 |  1.313781e-03 |  1.714440e-03 |  0.0006295203 |  0.0006295203 |  5.839176e-03 | -6.971552e-04 |  0.0004741272 |  0.0006295203 |  0.0006295203 | \n",
       "|  1.380015e-04 | -0.0034751033 | -0.006282708  |  1.569003e-03 |  4.058840e-04 |  0.0005538587 | -0.0006546161 |  0.0073173309 | -0.0012399414 | -5.021430e-03 | ...           | -2.924642e-04 | -2.924642e-04 | -6.841894e-04 | -0.0012377250 | -0.0012377250 | -3.116834e-03 |  3.437636e-04 |  0.0020697413 | -0.0012377250 | -0.0012377250 | \n",
       "|  1.685525e-03 | -0.0090635523 |  0.005244457  |  5.389539e-03 |  5.271573e-04 |  0.0009241339 |  0.0046335901 |  0.0068657313 |  0.0056250236 |  4.675791e-03 | ...           | -6.151820e-04 | -6.151820e-04 | -1.271573e-04 | -0.0018225182 | -0.0018225182 |  7.286274e-03 |  1.913292e-03 | -0.0045523643 | -0.0018225182 | -0.0018225182 | \n",
       "| -1.483949e-03 | -0.0053473398 | -0.018267707  | -1.068212e-03 | -5.809423e-03 | -0.0076511739 | -0.0097578849 |  0.0354573948 |  0.0299365337 | -1.679365e-02 | ...           |  1.294439e-03 |  1.294439e-03 |  3.699973e-03 |  0.0005487397 |  0.0005487397 | -1.133586e-01 | -1.011909e-02 | -0.0022586853 |  0.0005487397 |  0.0005487397 | \n",
       "|  5.630363e-04 | -0.0020709929 |  0.002717317  | -2.834557e-05 |  3.205600e-04 |  0.0006376098 | -0.0024796484 | -0.0039306073 |  0.0024659337 | -2.153532e-03 | ...           | -4.543672e-04 | -4.543672e-04 | -4.948423e-04 |  0.0009528273 |  0.0009528273 |  2.913738e-03 | -2.233128e-03 | -0.0009476183 |  0.0009528273 |  0.0009528273 | \n",
       "|  7.551589e-04 |  0.0120349142 |  0.002578237  |  3.602870e-03 | -3.220535e-04 |  0.0020988139 | -0.0014834024 |  0.0152099648 |  0.0068558768 | -4.441445e-04 | ...           |  1.934467e-04 |  1.934467e-04 | -1.802370e-03 |  0.0002581566 |  0.0002581566 |  7.538946e-03 | -2.372864e-03 |  0.0055670638 |  0.0002581566 |  0.0002581566 | \n",
       "| -3.872407e-04 |  0.0045865269 | -0.010558987  | -1.775480e-04 |  3.029106e-04 |  0.0011471230 | -0.0060534251 | -0.0006710308 | -0.0031134546 | -7.810465e-03 | ...           | -1.213302e-03 | -1.213302e-03 |  2.146349e-04 | -0.0025705063 | -0.0025705063 |  9.390524e-04 | -1.538142e-03 |  0.0035768976 | -0.0025705063 | -0.0025705063 | \n",
       "|  7.061260e-05 | -0.0026588831 | -0.009497068  | -4.156104e-04 |  1.699298e-03 |  0.0009294810 | -0.0116521516 | -0.0096037439 |  0.0008785897 | -2.185447e-03 | ...           |  6.728688e-04 |  6.728688e-04 | -1.692942e-03 |  0.0011868716 |  0.0011868716 | -1.037898e-02 |  6.706683e-04 |  0.0006268686 |  0.0011868716 |  0.0011868716 | \n",
       "|  9.427233e-04 | -0.0023701874 |  0.005391480  |  1.485957e-03 | -8.794665e-04 | -0.0003886414 | -0.0026469391 |  0.0137576708 |  0.0018486127 |  5.924142e-04 | ...           |  3.099479e-05 |  3.099479e-05 | -5.082636e-04 | -0.0014204657 | -0.0014204657 | -7.753525e-04 | -2.751423e-05 | -0.0009465480 | -0.0014204657 | -0.0014204657 | \n",
       "| -6.965118e-04 |  0.0268576801 | -0.002648728  | -4.577411e-03 | -2.444119e-03 |  0.0005106907 | -0.0020166048 | -0.0107210146 |  0.0057932595 |  6.190411e-03 | ...           | -2.768910e-04 | -2.768910e-04 |  9.125515e-04 | -0.0007428318 | -0.0007428318 | -2.865850e-02 |  5.552842e-03 | -0.0022807575 | -0.0007428318 | -0.0007428318 | \n",
       "|  3.428038e-04 | -0.0047096574 | -0.017227720  |  8.384509e-04 |  2.265573e-03 |  0.0004626908 | -0.0108524229 |  0.0073621987 |  0.0137576384 |  1.230016e-03 | ...           | -3.757371e-04 | -3.757371e-04 | -4.786131e-04 | -0.0020646126 | -0.0020646126 | -2.347139e-02 |  6.341914e-03 |  0.0002722425 | -0.0020646126 | -0.0020646126 | \n",
       "|  6.312820e-04 |  0.0009075899 | -0.004602781  |  2.549648e-03 | -6.396989e-05 |  0.0008990392 | -0.0015718877 |  0.0018618614 |  0.0015254443 | -1.715490e-04 | ...           | -3.444651e-05 | -3.444651e-05 | -2.392236e-03 |  0.0005710223 |  0.0005710223 |  3.504840e-03 |  6.795552e-03 | -0.0006090211 |  0.0005710223 |  0.0005710223 | \n",
       "|  6.615674e-04 |  0.0050681429 |  0.025765382  | -3.245304e-04 |  1.185926e-03 |  0.0018908374 |  0.0013950879 | -0.0179766898 |  0.0047335783 |  7.286825e-03 | ...           | -5.103366e-04 | -5.103366e-04 | -2.304642e-03 | -0.0015956700 | -0.0015956700 |  9.241742e-03 | -3.119371e-03 |  0.0059784629 | -0.0015956700 | -0.0015956700 | \n",
       "|  5.177413e-04 |  0.0042081208 | -0.002118940  |  1.236093e-03 |  1.576831e-03 |  0.0002422223 | -0.0008690400 | -0.0036926644 |  0.0082215017 |  2.585917e-03 | ...           |  4.024688e-04 |  4.024688e-04 | -1.629650e-03 | -0.0004360143 | -0.0004360143 |  4.816421e-03 | -5.605289e-04 |  0.0066642714 | -0.0004360143 | -0.0004360143 | \n",
       "| -7.586661e-05 |  0.0199826840 | -0.011845858  |  4.172719e-03 | -6.813929e-05 |  0.0011749170 |  0.0027550381 | -0.0264445788 |  0.0006270406 |  4.938908e-03 | ...           |  4.497934e-04 |  4.497934e-04 | -6.518579e-04 | -0.0008651581 | -0.0008651581 |  2.697056e-03 |  1.890014e-04 |  0.0113963458 | -0.0008651581 | -0.0008651581 | \n",
       "|  1.343532e-03 | -0.0064609029 | -0.004787694  |  5.816253e-03 |  2.082880e-03 |  0.0023322368 | -0.0009801934 |  0.0359523455 |  0.0058096222 | -1.345289e-03 | ...           | -4.313962e-04 | -4.313962e-04 | -6.847015e-04 |  0.0003485168 |  0.0003485168 | -5.813102e-03 |  2.190462e-03 |  0.0023647683 |  0.0003485168 |  0.0003485168 | \n",
       "|  1.643357e-03 |  0.0072033390 |  0.008685127  |  2.112048e-03 | -8.000648e-04 |  0.0021985534 |  0.0032558110 |  0.0009484802 |  0.0014583793 | -4.077234e-03 | ...           |  3.595787e-04 |  3.595787e-04 | -1.488149e-03 |  0.0008679050 |  0.0008679050 | -1.585883e-02 | -4.071612e-03 |  0.0028051409 |  0.0008679050 |  0.0008679050 | \n",
       "|  8.185738e-04 |  0.0041421113 | -0.001318295  |  3.431740e-03 |  3.034928e-04 | -0.0003561988 | -0.0026298413 | -0.0003429256 |  0.0046975079 | -6.250060e-04 | ...           | -1.887949e-05 | -1.887949e-05 | -6.956701e-04 |  0.0003874383 |  0.0003874383 |  7.684756e-03 | -4.421510e-03 |  0.0012271345 |  0.0003874383 |  0.0003874383 | \n",
       "|  9.404338e-04 | -0.0003654308 |  0.004609598  |  1.939689e-03 |  2.825112e-03 |  0.0003660585 |  0.0003312286 | -0.0045073419 |  0.0056588392 | -3.598729e-04 | ...           |  3.087948e-04 |  3.087948e-04 | -1.570360e-03 |  0.0010200624 |  0.0010200624 |  2.452466e-02 | -3.811684e-03 | -0.0012852629 |  0.0010200624 |  0.0010200624 | \n",
       "|  9.301513e-04 |  0.0049415131 | -0.003252424  |  3.030053e-03 |  1.533773e-03 |  0.0015306619 |  0.0005392091 | -0.0057549833 |  0.0072363977 |  6.831196e-04 | ...           | -1.988763e-04 | -1.988763e-04 | -2.023663e-03 |  0.0007578300 |  0.0007578300 |  6.800464e-03 | -5.045633e-05 |  0.0051335832 |  0.0007578300 |  0.0007578300 | \n",
       "|  1.698642e-04 | -0.0099889350 | -0.019500704  | -7.729058e-03 | -5.384234e-03 |  0.0005477020 |  0.0087377795 | -0.0017076897 |  0.0070754461 |  1.130337e-02 | ...           |  1.259072e-04 |  1.259072e-04 |  1.558294e-03 | -0.0011790805 | -0.0011790805 |  9.965553e-03 |  2.649441e-02 | -0.0045057327 | -0.0011790805 | -0.0011790805 | \n",
       "| -3.860079e-04 |  0.0359248161 | -0.003519276  |  5.768377e-03 |  3.946749e-03 |  0.0001598034 |  0.0123140479 | -0.0330367281 |  0.0016754075 |  1.255165e-02 | ...           |  9.249664e-04 |  9.249664e-04 |  2.410778e-03 | -0.0027228808 | -0.0027228808 |  9.012230e-03 |  2.389926e-03 |  0.0114465211 | -0.0027228808 | -0.0027228808 | \n",
       "|  6.384837e-04 |  0.0053994676 | -0.016046396  |  2.257746e-03 | -2.498930e-03 |  0.0018831902 |  0.0062826667 |  0.0042562094 | -0.0061280383 | -2.446980e-03 | ...           | -3.842060e-04 | -3.842060e-04 | -2.597288e-03 | -0.0003740710 | -0.0003740710 |  8.293792e-03 |  5.220472e-03 | -0.0018122275 | -0.0003740710 | -0.0003740710 | \n",
       "| ... | ... | ... | ... | ... | ... | ... | ... | ... | ... |     | ... | ... | ... | ... | ... | ... | ... | ... | ... | ... | \n",
       "| -1.765544e-03 |  0.0116185301 | -0.047190318  |  0.0021289192 |  3.857301e-03 | -3.844244e-03 |  0.0282088866 |  0.0591491445 |  0.0058001397 | -0.0027309599 | ...           | -0.0015459420 | -0.0015459420 |  1.854217e-03 |  1.670557e-03 |  1.670557e-03 |  0.0066392117 | -0.0002948531 |  0.0038167830 |  1.670557e-03 |  1.670557e-03 | \n",
       "| -1.376064e-03 |  0.0010419636 | -0.021909407  |  0.0024480472 | -2.411916e-03 |  9.221483e-04 | -0.0003940525 | -0.0006401087 |  0.0011058148 | -0.0014634744 | ...           | -0.0007160610 | -0.0007160610 | -2.281217e-03 | -7.517045e-05 | -7.517045e-05 | -0.0021536754 | -0.0052572275 |  0.0033194974 | -7.517045e-05 | -7.517045e-05 | \n",
       "| -4.167009e-05 |  0.0019769621 | -0.001180745  |  0.0043327745 | -3.158423e-03 | -6.199736e-04 | -0.0038112458 |  0.0032219077 |  0.0046907968 |  0.0031977277 | ...           |  0.0002108731 |  0.0002108731 | -1.377415e-03 | -1.092546e-03 | -1.092546e-03 |  0.0039803316 | -0.0028148932 |  0.0043747507 | -1.092546e-03 | -1.092546e-03 | \n",
       "| -2.562013e-04 |  0.0130931555 | -0.012819479  |  0.0046800815 | -7.348139e-04 |  1.688643e-03 | -0.0026581979 |  0.0400620289 |  0.0104638319 | -0.0054968205 | ...           |  0.0004977785 |  0.0004977785 | -1.732812e-03 | -1.018885e-03 | -1.018885e-03 | -0.0118706179 | -0.0033072827 |  0.0062778800 | -1.018885e-03 | -1.018885e-03 | \n",
       "|  8.971886e-04 | -0.0122070299 |  0.005562342  |  0.0102068409 | -1.463269e-03 |  1.527773e-03 | -0.0161923477 | -0.0004058225 | -0.0007664058 |  0.0075111051 | ...           | -0.0001571848 | -0.0001571848 | -4.387600e-04 |  3.839014e-03 |  3.839014e-03 |  0.0056317345 | -0.0069645604 |  0.0032857412 |  3.839014e-03 |  3.839014e-03 | \n",
       "|  7.351255e-04 |  0.0067767422 | -0.004094108  |  0.0068978404 | -6.186942e-04 |  3.354616e-04 | -0.0005689668 | -0.0043612836 |  0.0043900264 |  0.0017279064 | ...           |  0.0001088992 |  0.0001088992 |  1.431715e-03 | -1.465339e-03 | -1.465339e-03 |  0.0043273500 | -0.0019603752 |  0.0015880921 | -1.465339e-03 | -1.465339e-03 | \n",
       "|  1.102660e-03 |  0.0046911141 | -0.002374300  |  0.0022782162 |  8.765597e-04 |  2.516142e-04 |  0.0003854838 |  0.0015163144 |  0.0023061545 | -0.0007735352 | ...           |  0.0005172111 |  0.0005172111 | -2.727223e-04 | -3.435738e-04 | -3.435738e-04 |  0.0093884517 | -0.0017627019 |  0.0014020648 | -3.435738e-04 | -3.435738e-04 | \n",
       "|  8.237945e-04 |  0.0121708543 | -0.003175380  | -0.0003956026 |  1.232387e-03 |  3.510138e-03 |  0.0085983442 | -0.0095878967 |  0.0023601443 |  0.0029719830 | ...           |  0.0005933291 |  0.0005933291 | -6.810234e-04 |  1.674594e-03 |  1.674594e-03 | -0.0036623652 | -0.0013417800 |  0.0042938963 |  1.674594e-03 |  1.674594e-03 | \n",
       "|  3.952658e-04 |  0.0099293614 |  0.006980698  |  0.0029644513 |  1.775268e-04 | -2.131555e-04 | -0.0056841928 |  0.0066900644 |  0.0071605761 |  0.0057788998 | ...           | -0.0003264559 | -0.0003264559 |  1.780692e-03 | -4.137689e-05 | -4.137689e-05 |  0.0062257040 | -0.0017457524 |  0.0018501747 | -4.137689e-05 | -4.137689e-05 | \n",
       "|  8.334990e-04 | -0.0003626811 | -0.000911992  |  0.0037963415 |  1.491972e-04 |  5.745126e-04 |  0.0075295974 |  0.0133280736 |  0.0033514216 | -0.0021193086 | ...           |  0.0001524059 |  0.0001524059 | -6.833922e-04 | -3.229699e-04 | -3.229699e-04 |  0.0081127480 | -0.0006993268 | -0.0001444927 | -3.229699e-04 | -3.229699e-04 | \n",
       "| -8.898293e-04 | -0.0073579732 | -0.024199844  |  0.0032532438 |  4.710107e-03 |  2.773184e-05 |  0.0057547020 |  0.0019543411 | -0.0005747688 | -0.0082389043 | ...           | -0.0007426356 | -0.0007426356 |  1.527853e-03 | -3.527828e-04 | -3.527828e-04 | -0.0103324910 |  0.0010327952 |  0.0102249166 | -3.527828e-04 | -3.527828e-04 | \n",
       "|  6.938902e-04 |  0.0060307914 |  0.022335052  |  0.0148779238 |  3.514914e-04 | -3.959386e-03 | -0.0013705959 |  0.0055621425 |  0.0008770863 | -0.0013954610 | ...           | -0.0008530621 | -0.0008530621 |  3.077633e-04 | -6.791494e-04 | -6.791494e-04 | -0.0421124711 |  0.0042019737 |  0.0041256711 | -6.791494e-04 | -6.791494e-04 | \n",
       "| -5.216738e-04 | -0.0163077975 | -0.003562187  |  0.0094187850 | -2.225245e-03 | -2.154199e-05 |  0.0160710313 | -0.0113057943 |  0.0041118403 |  0.0012530697 | ...           |  0.0007937222 |  0.0007937222 | -1.151777e-03 |  1.286460e-03 |  1.286460e-03 | -0.0207589076 |  0.0051691937 |  0.0004194897 |  1.286460e-03 |  1.286460e-03 | \n",
       "|  5.905980e-05 |  0.0127581594 | -0.010242558  |  0.0030871326 |  1.588054e-03 | -4.796768e-04 | -0.0029262838 | -0.0067569240 |  0.0040438796 |  0.0011750344 | ...           | -0.0007491363 | -0.0007491363 |  2.750504e-03 | -8.666715e-04 | -8.666715e-04 |  0.0096943904 | -0.0061586969 | -0.0004712833 | -8.666715e-04 | -8.666715e-04 | \n",
       "|  1.188678e-07 | -0.0194321731 | -0.013379573  |  0.0058660627 |  7.807047e-04 |  6.447486e-04 | -0.0004265536 |  0.0205001282 |  0.0029420505 |  0.0040330980 | ...           |  0.0003932637 |  0.0003932637 | -1.902273e-03 |  7.523628e-04 |  7.523628e-04 | -0.0087205630 |  0.0032037371 | -0.0068624458 |  7.523628e-04 |  7.523628e-04 | \n",
       "|  7.649404e-05 |  0.0084877141 | -0.019256438  |  0.0059666164 | -6.820457e-04 |  1.577338e-03 |  0.0092547262 |  0.0323976655 |  0.0010501080 | -0.0030125582 | ...           | -0.0015741405 | -0.0015741405 | -1.076686e-03 | -1.410405e-03 | -1.410405e-03 | -0.0093743757 |  0.0013057836 | -0.0031733992 | -1.410405e-03 | -1.410405e-03 | \n",
       "|  1.498169e-04 |  0.0107363938 |  0.018581802  | -0.0055162234 | -7.739136e-04 |  9.780621e-04 |  0.0193560009 | -0.0372795552 | -0.0030105427 |  0.0026385553 | ...           |  0.0009307131 |  0.0009307131 |  2.074715e-03 |  5.440754e-04 |  5.440754e-04 | -0.0222153580 |  0.0167264988 |  0.0375611041 |  5.440754e-04 |  5.440754e-04 | \n",
       "| -3.428203e-04 | -0.0071111544 |  0.005140784  | -0.0019672065 |  2.233302e-04 | -1.719091e-03 |  0.0144599170 |  0.0003646614 | -0.0031703828 |  0.0027548124 | ...           | -0.0001956492 | -0.0001956492 | -2.121939e-03 | -2.556350e-03 | -2.556350e-03 |  0.0091539126 |  0.0053612444 | -0.0028005609 | -2.556350e-03 | -2.556350e-03 | \n",
       "|  2.536811e-04 | -0.0092190348 | -0.010616235  |  0.0034894112 |  1.319167e-03 |  2.354670e-04 |  0.0075960953 | -0.0011566524 |  0.0028510602 | -0.0077989154 | ...           | -0.0001315594 | -0.0001315594 | -4.566006e-04 |  2.283983e-03 |  2.283983e-03 |  0.0329748666 |  0.0013371632 |  0.0009067929 |  2.283983e-03 |  2.283983e-03 | \n",
       "| -1.049100e-04 |  0.0070842438 | -0.004297493  | -0.0001554302 |  1.160736e-03 | -1.297434e-03 | -0.0009133403 | -0.0060622999 | -0.0035156092 | -0.0010602857 | ...           | -0.0004832284 | -0.0004832284 | -1.705315e-03 | -1.730794e-03 | -1.730794e-03 |  0.0043391645 | -0.0048878531 |  0.0018825625 | -1.730794e-03 | -1.730794e-03 | \n",
       "| -3.950295e-04 |  0.0117220374 | -0.008225777  | -0.0002942218 |  3.278163e-03 |  1.539193e-03 |  0.0190930649 |  0.0165959732 |  0.0073847997 | -0.0081294494 | ...           | -0.0013917500 | -0.0013917500 | -7.690534e-04 | -1.990113e-03 | -1.990113e-03 |  0.0232230012 |  0.0032373664 | -0.0075324261 | -1.990113e-03 | -1.990113e-03 | \n",
       "|  1.116243e-03 |  0.0102965298 | -0.002634183  |  0.0008036122 |  3.808494e-06 |  7.895901e-04 |  0.0069028773 |  0.0088813353 |  0.0045316348 |  0.0008351151 | ...           | -0.0002107797 | -0.0002107797 |  7.194145e-05 | -1.378319e-03 | -1.378319e-03 |  0.0041763898 |  0.0002779332 |  0.0013583079 | -1.378319e-03 | -1.378319e-03 | \n",
       "|  3.523108e-04 | -0.0029347213 | -0.014123801  |  0.0004211643 |  3.183239e-04 | -5.055848e-04 |  0.0028873063 |  0.0140193711 |  0.0047435608 |  0.0033096293 | ...           | -0.0001506197 | -0.0001506197 |  5.636015e-04 | -1.838453e-03 | -1.838453e-03 | -0.0013318790 | -0.0021949971 |  0.0038245605 | -1.838453e-03 | -1.838453e-03 | \n",
       "|  2.225600e-04 | -0.0131874417 | -0.008773226  |  0.0040835695 | -7.013294e-05 | -3.410801e-04 |  0.0014305735 | -0.0060019256 |  0.0036501688 |  0.0051199337 | ...           | -0.0002664806 | -0.0002664806 | -2.048843e-03 | -1.417013e-03 | -1.417013e-03 |  0.0055096075 | -0.0017520856 | -0.0061782228 | -1.417013e-03 | -1.417013e-03 | \n",
       "|  2.509900e-04 | -0.0053425332 | -0.005533803  |  0.0011132675 |  2.777824e-03 |  4.818614e-04 |  0.0044230003 | -0.0083070977 |  0.0005622665 | -0.0009481319 | ...           | -0.0002556719 | -0.0002556719 | -6.085969e-04 | -5.347023e-04 | -5.347023e-04 | -0.0003019384 | -0.0008925317 |  0.0012661001 | -5.347023e-04 | -5.347023e-04 | \n",
       "|  1.523937e-04 |  0.0044469412 | -0.005694581  |  0.0130369842 | -5.816904e-03 |  4.627281e-04 | -0.0247034238 | -0.0037586403 | -0.0063942918 |  0.0084359828 | ...           |  0.0002711837 |  0.0002711837 | -2.805128e-03 |  7.119370e-03 |  7.119370e-03 |  0.0203021255 | -0.0081698651 |  0.0076572594 |  7.119370e-03 |  7.119370e-03 | \n",
       "| -6.061743e-05 |  0.0263592690 |  0.014293539  | -0.0026722248 |  3.239838e-03 | -1.048690e-03 | -0.0055971920 |  0.0071119215 | -0.0021437848 |  0.0021771116 | ...           | -0.0002006873 | -0.0002006873 |  1.145595e-03 |  1.064566e-03 |  1.064566e-03 |  0.0036802604 | -0.0028737559 | -0.0001988378 |  1.064566e-03 |  1.064566e-03 | \n",
       "|  4.350721e-04 |  0.0011146301 |  0.014155888  | -0.0061847624 |  8.614911e-04 |  3.576574e-04 | -0.0102116059 | -0.0121119594 | -0.0002963146 |  0.0334890735 | ...           |  0.0008372955 |  0.0008372955 |  5.160007e-03 | -4.227113e-03 | -4.227113e-03 | -0.0233170827 | -0.0046051231 |  0.0015514612 | -4.227113e-03 | -4.227113e-03 | \n",
       "|  1.261668e-03 |  0.0155713529 | -0.009637985  |  0.0056944337 |  1.337838e-03 |  3.026957e-05 | -0.0028362316 |  0.0315822741 |  0.0005429939 |  0.0007950557 | ...           |  0.0007381622 |  0.0007381622 | -3.039435e-03 |  4.299511e-04 |  4.299511e-04 | -0.0047371896 | -0.0018805444 | -0.0003448640 |  4.299511e-04 |  4.299511e-04 | \n",
       "| -1.216094e-04 |  0.0079781620 |  0.020093764  | -0.0061733527 | -1.052378e-03 |  1.463581e-03 |  0.0222573477 | -0.0428276316 | -0.0057799363 |  0.0015834822 | ...           |  0.0009504662 |  0.0009504662 |  1.609616e-03 | -5.935192e-04 | -5.935192e-04 | -0.0286441543 |  0.0188195669 |  0.0511149392 | -5.935192e-04 | -5.935192e-04 | \n",
       "\n",
       "\n"
      ],
      "text/plain": [
       "      [,1]          [,2]          [,3]         [,4]          [,5]         \n",
       " [1,]  1.614663e-03 -0.0064360160  0.004516091  3.084076e-03  1.498243e-03\n",
       " [2,] -4.306473e-03 -0.0108212858 -0.062097642 -7.362929e-03 -8.878269e-03\n",
       " [3,]  1.158042e-03 -0.0021899256 -0.001288992  1.975648e-03  2.472237e-03\n",
       " [4,]  7.572003e-04 -0.0038618801 -0.010681137 -7.384360e-04  1.661700e-03\n",
       " [5,]  2.165330e-04  0.0259714161  0.003648311 -6.259294e-04 -3.618052e-03\n",
       " [6,]  1.001803e-03  0.0014602181  0.010075080  3.535380e-04  8.199937e-04\n",
       " [7,]  6.215440e-04  0.0027119042 -0.021151826 -3.427848e-04 -4.821570e-03\n",
       " [8,]  7.659163e-04  0.0023606165  0.001733951  1.023169e-03  6.062897e-04\n",
       " [9,]  1.380015e-04 -0.0034751033 -0.006282708  1.569003e-03  4.058840e-04\n",
       "[10,]  1.685525e-03 -0.0090635523  0.005244457  5.389539e-03  5.271573e-04\n",
       "[11,] -1.483949e-03 -0.0053473398 -0.018267707 -1.068212e-03 -5.809423e-03\n",
       "[12,]  5.630363e-04 -0.0020709929  0.002717317 -2.834557e-05  3.205600e-04\n",
       "[13,]  7.551589e-04  0.0120349142  0.002578237  3.602870e-03 -3.220535e-04\n",
       "[14,] -3.872407e-04  0.0045865269 -0.010558987 -1.775480e-04  3.029106e-04\n",
       "[15,]  7.061260e-05 -0.0026588831 -0.009497068 -4.156104e-04  1.699298e-03\n",
       "[16,]  9.427233e-04 -0.0023701874  0.005391480  1.485957e-03 -8.794665e-04\n",
       "[17,] -6.965118e-04  0.0268576801 -0.002648728 -4.577411e-03 -2.444119e-03\n",
       "[18,]  3.428038e-04 -0.0047096574 -0.017227720  8.384509e-04  2.265573e-03\n",
       "[19,]  6.312820e-04  0.0009075899 -0.004602781  2.549648e-03 -6.396989e-05\n",
       "[20,]  6.615674e-04  0.0050681429  0.025765382 -3.245304e-04  1.185926e-03\n",
       "[21,]  5.177413e-04  0.0042081208 -0.002118940  1.236093e-03  1.576831e-03\n",
       "[22,] -7.586661e-05  0.0199826840 -0.011845858  4.172719e-03 -6.813929e-05\n",
       "[23,]  1.343532e-03 -0.0064609029 -0.004787694  5.816253e-03  2.082880e-03\n",
       "[24,]  1.643357e-03  0.0072033390  0.008685127  2.112048e-03 -8.000648e-04\n",
       "[25,]  8.185738e-04  0.0041421113 -0.001318295  3.431740e-03  3.034928e-04\n",
       "[26,]  9.404338e-04 -0.0003654308  0.004609598  1.939689e-03  2.825112e-03\n",
       "[27,]  9.301513e-04  0.0049415131 -0.003252424  3.030053e-03  1.533773e-03\n",
       "[28,]  1.698642e-04 -0.0099889350 -0.019500704 -7.729058e-03 -5.384234e-03\n",
       "[29,] -3.860079e-04  0.0359248161 -0.003519276  5.768377e-03  3.946749e-03\n",
       "[30,]  6.384837e-04  0.0053994676 -0.016046396  2.257746e-03 -2.498930e-03\n",
       "[31,] ...           ...           ...          ...           ...          \n",
       "[32,] -1.765544e-03  0.0116185301 -0.047190318  0.0021289192  3.857301e-03\n",
       "[33,] -1.376064e-03  0.0010419636 -0.021909407  0.0024480472 -2.411916e-03\n",
       "[34,] -4.167009e-05  0.0019769621 -0.001180745  0.0043327745 -3.158423e-03\n",
       "[35,] -2.562013e-04  0.0130931555 -0.012819479  0.0046800815 -7.348139e-04\n",
       "[36,]  8.971886e-04 -0.0122070299  0.005562342  0.0102068409 -1.463269e-03\n",
       "[37,]  7.351255e-04  0.0067767422 -0.004094108  0.0068978404 -6.186942e-04\n",
       "[38,]  1.102660e-03  0.0046911141 -0.002374300  0.0022782162  8.765597e-04\n",
       "[39,]  8.237945e-04  0.0121708543 -0.003175380 -0.0003956026  1.232387e-03\n",
       "[40,]  3.952658e-04  0.0099293614  0.006980698  0.0029644513  1.775268e-04\n",
       "[41,]  8.334990e-04 -0.0003626811 -0.000911992  0.0037963415  1.491972e-04\n",
       "[42,] -8.898293e-04 -0.0073579732 -0.024199844  0.0032532438  4.710107e-03\n",
       "[43,]  6.938902e-04  0.0060307914  0.022335052  0.0148779238  3.514914e-04\n",
       "[44,] -5.216738e-04 -0.0163077975 -0.003562187  0.0094187850 -2.225245e-03\n",
       "[45,]  5.905980e-05  0.0127581594 -0.010242558  0.0030871326  1.588054e-03\n",
       "[46,]  1.188678e-07 -0.0194321731 -0.013379573  0.0058660627  7.807047e-04\n",
       "[47,]  7.649404e-05  0.0084877141 -0.019256438  0.0059666164 -6.820457e-04\n",
       "[48,]  1.498169e-04  0.0107363938  0.018581802 -0.0055162234 -7.739136e-04\n",
       "[49,] -3.428203e-04 -0.0071111544  0.005140784 -0.0019672065  2.233302e-04\n",
       "[50,]  2.536811e-04 -0.0092190348 -0.010616235  0.0034894112  1.319167e-03\n",
       "[51,] -1.049100e-04  0.0070842438 -0.004297493 -0.0001554302  1.160736e-03\n",
       "[52,] -3.950295e-04  0.0117220374 -0.008225777 -0.0002942218  3.278163e-03\n",
       "[53,]  1.116243e-03  0.0102965298 -0.002634183  0.0008036122  3.808494e-06\n",
       "[54,]  3.523108e-04 -0.0029347213 -0.014123801  0.0004211643  3.183239e-04\n",
       "[55,]  2.225600e-04 -0.0131874417 -0.008773226  0.0040835695 -7.013294e-05\n",
       "[56,]  2.509900e-04 -0.0053425332 -0.005533803  0.0011132675  2.777824e-03\n",
       "[57,]  1.523937e-04  0.0044469412 -0.005694581  0.0130369842 -5.816904e-03\n",
       "[58,] -6.061743e-05  0.0263592690  0.014293539 -0.0026722248  3.239838e-03\n",
       "[59,]  4.350721e-04  0.0011146301  0.014155888 -0.0061847624  8.614911e-04\n",
       "[60,]  1.261668e-03  0.0155713529 -0.009637985  0.0056944337  1.337838e-03\n",
       "[61,] -1.216094e-04  0.0079781620  0.020093764 -0.0061733527 -1.052378e-03\n",
       "      [,6]          [,7]          [,8]          [,9]          [,10]        \n",
       " [1,]  0.0051792576  0.0016278606 -0.0026458282 -0.0009616807 -3.472796e-04\n",
       " [2,] -0.0020605335  0.0072449746  0.0116365301 -0.0116218043 -3.046942e-02\n",
       " [3,]  0.0026735453  0.0102017865 -0.0042643537  0.0030438068  1.490451e-03\n",
       " [4,]  0.0005608197  0.0050159734 -0.0083115355  0.0016124679 -6.745784e-04\n",
       " [5,]  0.0023530517 -0.0127794198  0.0067894640 -0.0053004513 -1.258731e-02\n",
       " [6,]  0.0016017889  0.0048242550 -0.0067961088 -0.0007751090 -3.124956e-05\n",
       " [7,]  0.0040926505 -0.0127503312 -0.0182720564 -0.0097113165 -2.037022e-02\n",
       " [8,] -0.0005603446 -0.0024075107 -0.0015638351 -0.0000764839 -2.416753e-03\n",
       " [9,]  0.0005538587 -0.0006546161  0.0073173309 -0.0012399414 -5.021430e-03\n",
       "[10,]  0.0009241339  0.0046335901  0.0068657313  0.0056250236  4.675791e-03\n",
       "[11,] -0.0076511739 -0.0097578849  0.0354573948  0.0299365337 -1.679365e-02\n",
       "[12,]  0.0006376098 -0.0024796484 -0.0039306073  0.0024659337 -2.153532e-03\n",
       "[13,]  0.0020988139 -0.0014834024  0.0152099648  0.0068558768 -4.441445e-04\n",
       "[14,]  0.0011471230 -0.0060534251 -0.0006710308 -0.0031134546 -7.810465e-03\n",
       "[15,]  0.0009294810 -0.0116521516 -0.0096037439  0.0008785897 -2.185447e-03\n",
       "[16,] -0.0003886414 -0.0026469391  0.0137576708  0.0018486127  5.924142e-04\n",
       "[17,]  0.0005106907 -0.0020166048 -0.0107210146  0.0057932595  6.190411e-03\n",
       "[18,]  0.0004626908 -0.0108524229  0.0073621987  0.0137576384  1.230016e-03\n",
       "[19,]  0.0008990392 -0.0015718877  0.0018618614  0.0015254443 -1.715490e-04\n",
       "[20,]  0.0018908374  0.0013950879 -0.0179766898  0.0047335783  7.286825e-03\n",
       "[21,]  0.0002422223 -0.0008690400 -0.0036926644  0.0082215017  2.585917e-03\n",
       "[22,]  0.0011749170  0.0027550381 -0.0264445788  0.0006270406  4.938908e-03\n",
       "[23,]  0.0023322368 -0.0009801934  0.0359523455  0.0058096222 -1.345289e-03\n",
       "[24,]  0.0021985534  0.0032558110  0.0009484802  0.0014583793 -4.077234e-03\n",
       "[25,] -0.0003561988 -0.0026298413 -0.0003429256  0.0046975079 -6.250060e-04\n",
       "[26,]  0.0003660585  0.0003312286 -0.0045073419  0.0056588392 -3.598729e-04\n",
       "[27,]  0.0015306619  0.0005392091 -0.0057549833  0.0072363977  6.831196e-04\n",
       "[28,]  0.0005477020  0.0087377795 -0.0017076897  0.0070754461  1.130337e-02\n",
       "[29,]  0.0001598034  0.0123140479 -0.0330367281  0.0016754075  1.255165e-02\n",
       "[30,]  0.0018831902  0.0062826667  0.0042562094 -0.0061280383 -2.446980e-03\n",
       "[31,] ...           ...           ...           ...           ...          \n",
       "[32,] -3.844244e-03  0.0282088866  0.0591491445  0.0058001397 -0.0027309599\n",
       "[33,]  9.221483e-04 -0.0003940525 -0.0006401087  0.0011058148 -0.0014634744\n",
       "[34,] -6.199736e-04 -0.0038112458  0.0032219077  0.0046907968  0.0031977277\n",
       "[35,]  1.688643e-03 -0.0026581979  0.0400620289  0.0104638319 -0.0054968205\n",
       "[36,]  1.527773e-03 -0.0161923477 -0.0004058225 -0.0007664058  0.0075111051\n",
       "[37,]  3.354616e-04 -0.0005689668 -0.0043612836  0.0043900264  0.0017279064\n",
       "[38,]  2.516142e-04  0.0003854838  0.0015163144  0.0023061545 -0.0007735352\n",
       "[39,]  3.510138e-03  0.0085983442 -0.0095878967  0.0023601443  0.0029719830\n",
       "[40,] -2.131555e-04 -0.0056841928  0.0066900644  0.0071605761  0.0057788998\n",
       "[41,]  5.745126e-04  0.0075295974  0.0133280736  0.0033514216 -0.0021193086\n",
       "[42,]  2.773184e-05  0.0057547020  0.0019543411 -0.0005747688 -0.0082389043\n",
       "[43,] -3.959386e-03 -0.0013705959  0.0055621425  0.0008770863 -0.0013954610\n",
       "[44,] -2.154199e-05  0.0160710313 -0.0113057943  0.0041118403  0.0012530697\n",
       "[45,] -4.796768e-04 -0.0029262838 -0.0067569240  0.0040438796  0.0011750344\n",
       "[46,]  6.447486e-04 -0.0004265536  0.0205001282  0.0029420505  0.0040330980\n",
       "[47,]  1.577338e-03  0.0092547262  0.0323976655  0.0010501080 -0.0030125582\n",
       "[48,]  9.780621e-04  0.0193560009 -0.0372795552 -0.0030105427  0.0026385553\n",
       "[49,] -1.719091e-03  0.0144599170  0.0003646614 -0.0031703828  0.0027548124\n",
       "[50,]  2.354670e-04  0.0075960953 -0.0011566524  0.0028510602 -0.0077989154\n",
       "[51,] -1.297434e-03 -0.0009133403 -0.0060622999 -0.0035156092 -0.0010602857\n",
       "[52,]  1.539193e-03  0.0190930649  0.0165959732  0.0073847997 -0.0081294494\n",
       "[53,]  7.895901e-04  0.0069028773  0.0088813353  0.0045316348  0.0008351151\n",
       "[54,] -5.055848e-04  0.0028873063  0.0140193711  0.0047435608  0.0033096293\n",
       "[55,] -3.410801e-04  0.0014305735 -0.0060019256  0.0036501688  0.0051199337\n",
       "[56,]  4.818614e-04  0.0044230003 -0.0083070977  0.0005622665 -0.0009481319\n",
       "[57,]  4.627281e-04 -0.0247034238 -0.0037586403 -0.0063942918  0.0084359828\n",
       "[58,] -1.048690e-03 -0.0055971920  0.0071119215 -0.0021437848  0.0021771116\n",
       "[59,]  3.576574e-04 -0.0102116059 -0.0121119594 -0.0002963146  0.0334890735\n",
       "[60,]  3.026957e-05 -0.0028362316  0.0315822741  0.0005429939  0.0007950557\n",
       "[61,]  1.463581e-03  0.0222573477 -0.0428276316 -0.0057799363  0.0015834822\n",
       "      [,11] [,12]         [,13]         [,14]         [,15]        \n",
       " [1,] ...    1.153022e-04  1.153022e-04 -7.705301e-04  0.0024106017\n",
       " [2,] ...   -2.038531e-03 -2.038531e-03 -2.924561e-03 -0.0029675927\n",
       " [3,] ...   -4.712345e-04 -4.712345e-04  7.450329e-04 -0.0006508840\n",
       " [4,] ...   -4.114047e-04 -4.114047e-04  8.822991e-04 -0.0017461508\n",
       " [5,] ...   -6.348230e-04 -6.348230e-04  9.763357e-03 -0.0013044160\n",
       " [6,] ...   -8.282192e-04 -8.282192e-04 -5.973541e-05 -0.0012045699\n",
       " [7,] ...   -7.505797e-04 -7.505797e-04  1.144826e-03 -0.0013898237\n",
       " [8,] ...    1.313781e-03  1.313781e-03  1.714440e-03  0.0006295203\n",
       " [9,] ...   -2.924642e-04 -2.924642e-04 -6.841894e-04 -0.0012377250\n",
       "[10,] ...   -6.151820e-04 -6.151820e-04 -1.271573e-04 -0.0018225182\n",
       "[11,] ...    1.294439e-03  1.294439e-03  3.699973e-03  0.0005487397\n",
       "[12,] ...   -4.543672e-04 -4.543672e-04 -4.948423e-04  0.0009528273\n",
       "[13,] ...    1.934467e-04  1.934467e-04 -1.802370e-03  0.0002581566\n",
       "[14,] ...   -1.213302e-03 -1.213302e-03  2.146349e-04 -0.0025705063\n",
       "[15,] ...    6.728688e-04  6.728688e-04 -1.692942e-03  0.0011868716\n",
       "[16,] ...    3.099479e-05  3.099479e-05 -5.082636e-04 -0.0014204657\n",
       "[17,] ...   -2.768910e-04 -2.768910e-04  9.125515e-04 -0.0007428318\n",
       "[18,] ...   -3.757371e-04 -3.757371e-04 -4.786131e-04 -0.0020646126\n",
       "[19,] ...   -3.444651e-05 -3.444651e-05 -2.392236e-03  0.0005710223\n",
       "[20,] ...   -5.103366e-04 -5.103366e-04 -2.304642e-03 -0.0015956700\n",
       "[21,] ...    4.024688e-04  4.024688e-04 -1.629650e-03 -0.0004360143\n",
       "[22,] ...    4.497934e-04  4.497934e-04 -6.518579e-04 -0.0008651581\n",
       "[23,] ...   -4.313962e-04 -4.313962e-04 -6.847015e-04  0.0003485168\n",
       "[24,] ...    3.595787e-04  3.595787e-04 -1.488149e-03  0.0008679050\n",
       "[25,] ...   -1.887949e-05 -1.887949e-05 -6.956701e-04  0.0003874383\n",
       "[26,] ...    3.087948e-04  3.087948e-04 -1.570360e-03  0.0010200624\n",
       "[27,] ...   -1.988763e-04 -1.988763e-04 -2.023663e-03  0.0007578300\n",
       "[28,] ...    1.259072e-04  1.259072e-04  1.558294e-03 -0.0011790805\n",
       "[29,] ...    9.249664e-04  9.249664e-04  2.410778e-03 -0.0027228808\n",
       "[30,] ...   -3.842060e-04 -3.842060e-04 -2.597288e-03 -0.0003740710\n",
       "[31,]       ...           ...           ...           ...          \n",
       "[32,] ...   -0.0015459420 -0.0015459420  1.854217e-03  1.670557e-03\n",
       "[33,] ...   -0.0007160610 -0.0007160610 -2.281217e-03 -7.517045e-05\n",
       "[34,] ...    0.0002108731  0.0002108731 -1.377415e-03 -1.092546e-03\n",
       "[35,] ...    0.0004977785  0.0004977785 -1.732812e-03 -1.018885e-03\n",
       "[36,] ...   -0.0001571848 -0.0001571848 -4.387600e-04  3.839014e-03\n",
       "[37,] ...    0.0001088992  0.0001088992  1.431715e-03 -1.465339e-03\n",
       "[38,] ...    0.0005172111  0.0005172111 -2.727223e-04 -3.435738e-04\n",
       "[39,] ...    0.0005933291  0.0005933291 -6.810234e-04  1.674594e-03\n",
       "[40,] ...   -0.0003264559 -0.0003264559  1.780692e-03 -4.137689e-05\n",
       "[41,] ...    0.0001524059  0.0001524059 -6.833922e-04 -3.229699e-04\n",
       "[42,] ...   -0.0007426356 -0.0007426356  1.527853e-03 -3.527828e-04\n",
       "[43,] ...   -0.0008530621 -0.0008530621  3.077633e-04 -6.791494e-04\n",
       "[44,] ...    0.0007937222  0.0007937222 -1.151777e-03  1.286460e-03\n",
       "[45,] ...   -0.0007491363 -0.0007491363  2.750504e-03 -8.666715e-04\n",
       "[46,] ...    0.0003932637  0.0003932637 -1.902273e-03  7.523628e-04\n",
       "[47,] ...   -0.0015741405 -0.0015741405 -1.076686e-03 -1.410405e-03\n",
       "[48,] ...    0.0009307131  0.0009307131  2.074715e-03  5.440754e-04\n",
       "[49,] ...   -0.0001956492 -0.0001956492 -2.121939e-03 -2.556350e-03\n",
       "[50,] ...   -0.0001315594 -0.0001315594 -4.566006e-04  2.283983e-03\n",
       "[51,] ...   -0.0004832284 -0.0004832284 -1.705315e-03 -1.730794e-03\n",
       "[52,] ...   -0.0013917500 -0.0013917500 -7.690534e-04 -1.990113e-03\n",
       "[53,] ...   -0.0002107797 -0.0002107797  7.194145e-05 -1.378319e-03\n",
       "[54,] ...   -0.0001506197 -0.0001506197  5.636015e-04 -1.838453e-03\n",
       "[55,] ...   -0.0002664806 -0.0002664806 -2.048843e-03 -1.417013e-03\n",
       "[56,] ...   -0.0002556719 -0.0002556719 -6.085969e-04 -5.347023e-04\n",
       "[57,] ...    0.0002711837  0.0002711837 -2.805128e-03  7.119370e-03\n",
       "[58,] ...   -0.0002006873 -0.0002006873  1.145595e-03  1.064566e-03\n",
       "[59,] ...    0.0008372955  0.0008372955  5.160007e-03 -4.227113e-03\n",
       "[60,] ...    0.0007381622  0.0007381622 -3.039435e-03  4.299511e-04\n",
       "[61,] ...    0.0009504662  0.0009504662  1.609616e-03 -5.935192e-04\n",
       "      [,16]         [,17]         [,18]         [,19]         [,20]        \n",
       " [1,]  0.0024106017 -1.108446e-02 -6.070464e-03 -0.0007747259  0.0024106017\n",
       " [2,] -0.0029675927  7.462699e-03  2.348999e-02  0.0019286137 -0.0029675927\n",
       " [3,] -0.0006508840  2.361350e-03 -2.265587e-04  0.0008687036 -0.0006508840\n",
       " [4,] -0.0017461508  5.718335e-03 -1.193475e-03  0.0004540490 -0.0017461508\n",
       " [5,] -0.0013044160 -6.241441e-05 -2.783437e-03  0.0065884383 -0.0013044160\n",
       " [6,] -0.0012045699 -1.291305e-03  2.804654e-03  0.0030333032 -0.0012045699\n",
       " [7,] -0.0013898237 -2.077210e-02 -9.450266e-03  0.0169007652 -0.0013898237\n",
       " [8,]  0.0006295203  5.839176e-03 -6.971552e-04  0.0004741272  0.0006295203\n",
       " [9,] -0.0012377250 -3.116834e-03  3.437636e-04  0.0020697413 -0.0012377250\n",
       "[10,] -0.0018225182  7.286274e-03  1.913292e-03 -0.0045523643 -0.0018225182\n",
       "[11,]  0.0005487397 -1.133586e-01 -1.011909e-02 -0.0022586853  0.0005487397\n",
       "[12,]  0.0009528273  2.913738e-03 -2.233128e-03 -0.0009476183  0.0009528273\n",
       "[13,]  0.0002581566  7.538946e-03 -2.372864e-03  0.0055670638  0.0002581566\n",
       "[14,] -0.0025705063  9.390524e-04 -1.538142e-03  0.0035768976 -0.0025705063\n",
       "[15,]  0.0011868716 -1.037898e-02  6.706683e-04  0.0006268686  0.0011868716\n",
       "[16,] -0.0014204657 -7.753525e-04 -2.751423e-05 -0.0009465480 -0.0014204657\n",
       "[17,] -0.0007428318 -2.865850e-02  5.552842e-03 -0.0022807575 -0.0007428318\n",
       "[18,] -0.0020646126 -2.347139e-02  6.341914e-03  0.0002722425 -0.0020646126\n",
       "[19,]  0.0005710223  3.504840e-03  6.795552e-03 -0.0006090211  0.0005710223\n",
       "[20,] -0.0015956700  9.241742e-03 -3.119371e-03  0.0059784629 -0.0015956700\n",
       "[21,] -0.0004360143  4.816421e-03 -5.605289e-04  0.0066642714 -0.0004360143\n",
       "[22,] -0.0008651581  2.697056e-03  1.890014e-04  0.0113963458 -0.0008651581\n",
       "[23,]  0.0003485168 -5.813102e-03  2.190462e-03  0.0023647683  0.0003485168\n",
       "[24,]  0.0008679050 -1.585883e-02 -4.071612e-03  0.0028051409  0.0008679050\n",
       "[25,]  0.0003874383  7.684756e-03 -4.421510e-03  0.0012271345  0.0003874383\n",
       "[26,]  0.0010200624  2.452466e-02 -3.811684e-03 -0.0012852629  0.0010200624\n",
       "[27,]  0.0007578300  6.800464e-03 -5.045633e-05  0.0051335832  0.0007578300\n",
       "[28,] -0.0011790805  9.965553e-03  2.649441e-02 -0.0045057327 -0.0011790805\n",
       "[29,] -0.0027228808  9.012230e-03  2.389926e-03  0.0114465211 -0.0027228808\n",
       "[30,] -0.0003740710  8.293792e-03  5.220472e-03 -0.0018122275 -0.0003740710\n",
       "[31,] ...           ...           ...           ...           ...          \n",
       "[32,]  1.670557e-03  0.0066392117 -0.0002948531  0.0038167830  1.670557e-03\n",
       "[33,] -7.517045e-05 -0.0021536754 -0.0052572275  0.0033194974 -7.517045e-05\n",
       "[34,] -1.092546e-03  0.0039803316 -0.0028148932  0.0043747507 -1.092546e-03\n",
       "[35,] -1.018885e-03 -0.0118706179 -0.0033072827  0.0062778800 -1.018885e-03\n",
       "[36,]  3.839014e-03  0.0056317345 -0.0069645604  0.0032857412  3.839014e-03\n",
       "[37,] -1.465339e-03  0.0043273500 -0.0019603752  0.0015880921 -1.465339e-03\n",
       "[38,] -3.435738e-04  0.0093884517 -0.0017627019  0.0014020648 -3.435738e-04\n",
       "[39,]  1.674594e-03 -0.0036623652 -0.0013417800  0.0042938963  1.674594e-03\n",
       "[40,] -4.137689e-05  0.0062257040 -0.0017457524  0.0018501747 -4.137689e-05\n",
       "[41,] -3.229699e-04  0.0081127480 -0.0006993268 -0.0001444927 -3.229699e-04\n",
       "[42,] -3.527828e-04 -0.0103324910  0.0010327952  0.0102249166 -3.527828e-04\n",
       "[43,] -6.791494e-04 -0.0421124711  0.0042019737  0.0041256711 -6.791494e-04\n",
       "[44,]  1.286460e-03 -0.0207589076  0.0051691937  0.0004194897  1.286460e-03\n",
       "[45,] -8.666715e-04  0.0096943904 -0.0061586969 -0.0004712833 -8.666715e-04\n",
       "[46,]  7.523628e-04 -0.0087205630  0.0032037371 -0.0068624458  7.523628e-04\n",
       "[47,] -1.410405e-03 -0.0093743757  0.0013057836 -0.0031733992 -1.410405e-03\n",
       "[48,]  5.440754e-04 -0.0222153580  0.0167264988  0.0375611041  5.440754e-04\n",
       "[49,] -2.556350e-03  0.0091539126  0.0053612444 -0.0028005609 -2.556350e-03\n",
       "[50,]  2.283983e-03  0.0329748666  0.0013371632  0.0009067929  2.283983e-03\n",
       "[51,] -1.730794e-03  0.0043391645 -0.0048878531  0.0018825625 -1.730794e-03\n",
       "[52,] -1.990113e-03  0.0232230012  0.0032373664 -0.0075324261 -1.990113e-03\n",
       "[53,] -1.378319e-03  0.0041763898  0.0002779332  0.0013583079 -1.378319e-03\n",
       "[54,] -1.838453e-03 -0.0013318790 -0.0021949971  0.0038245605 -1.838453e-03\n",
       "[55,] -1.417013e-03  0.0055096075 -0.0017520856 -0.0061782228 -1.417013e-03\n",
       "[56,] -5.347023e-04 -0.0003019384 -0.0008925317  0.0012661001 -5.347023e-04\n",
       "[57,]  7.119370e-03  0.0203021255 -0.0081698651  0.0076572594  7.119370e-03\n",
       "[58,]  1.064566e-03  0.0036802604 -0.0028737559 -0.0001988378  1.064566e-03\n",
       "[59,] -4.227113e-03 -0.0233170827 -0.0046051231  0.0015514612 -4.227113e-03\n",
       "[60,]  4.299511e-04 -0.0047371896 -0.0018805444 -0.0003448640  4.299511e-04\n",
       "[61,] -5.935192e-04 -0.0286441543  0.0188195669  0.0511149392 -5.935192e-04\n",
       "      [,21]        \n",
       " [1,]  0.0024106017\n",
       " [2,] -0.0029675927\n",
       " [3,] -0.0006508840\n",
       " [4,] -0.0017461508\n",
       " [5,] -0.0013044160\n",
       " [6,] -0.0012045699\n",
       " [7,] -0.0013898237\n",
       " [8,]  0.0006295203\n",
       " [9,] -0.0012377250\n",
       "[10,] -0.0018225182\n",
       "[11,]  0.0005487397\n",
       "[12,]  0.0009528273\n",
       "[13,]  0.0002581566\n",
       "[14,] -0.0025705063\n",
       "[15,]  0.0011868716\n",
       "[16,] -0.0014204657\n",
       "[17,] -0.0007428318\n",
       "[18,] -0.0020646126\n",
       "[19,]  0.0005710223\n",
       "[20,] -0.0015956700\n",
       "[21,] -0.0004360143\n",
       "[22,] -0.0008651581\n",
       "[23,]  0.0003485168\n",
       "[24,]  0.0008679050\n",
       "[25,]  0.0003874383\n",
       "[26,]  0.0010200624\n",
       "[27,]  0.0007578300\n",
       "[28,] -0.0011790805\n",
       "[29,] -0.0027228808\n",
       "[30,] -0.0003740710\n",
       "[31,] ...          \n",
       "[32,]  1.670557e-03\n",
       "[33,] -7.517045e-05\n",
       "[34,] -1.092546e-03\n",
       "[35,] -1.018885e-03\n",
       "[36,]  3.839014e-03\n",
       "[37,] -1.465339e-03\n",
       "[38,] -3.435738e-04\n",
       "[39,]  1.674594e-03\n",
       "[40,] -4.137689e-05\n",
       "[41,] -3.229699e-04\n",
       "[42,] -3.527828e-04\n",
       "[43,] -6.791494e-04\n",
       "[44,]  1.286460e-03\n",
       "[45,] -8.666715e-04\n",
       "[46,]  7.523628e-04\n",
       "[47,] -1.410405e-03\n",
       "[48,]  5.440754e-04\n",
       "[49,] -2.556350e-03\n",
       "[50,]  2.283983e-03\n",
       "[51,] -1.730794e-03\n",
       "[52,] -1.990113e-03\n",
       "[53,] -1.378319e-03\n",
       "[54,] -1.838453e-03\n",
       "[55,] -1.417013e-03\n",
       "[56,] -5.347023e-04\n",
       "[57,]  7.119370e-03\n",
       "[58,]  1.064566e-03\n",
       "[59,] -4.227113e-03\n",
       "[60,]  4.299511e-04\n",
       "[61,] -5.935192e-04"
      ]
     },
     "metadata": {},
     "output_type": "display_data"
    }
   ],
   "source": [
    "ds <- diag(s$d[1:100])  # let's now use the first three values\n",
    "us <- as.matrix(s$u[,1:100])\n",
    "vs <- as.matrix(s$v[,1:100])\n",
    "m.approx3 <- us %*% ds %*% t(vs)\n",
    "m.approx3   # m.approx2 will never be a worst approximation than m.approx1\n",
    "\n"
   ]
  },
  {
   "cell_type": "code",
   "execution_count": 31,
   "metadata": {
    "collapsed": false
   },
   "outputs": [
    {
     "data": {
      "text/html": [
       "115473.118544118"
      ],
      "text/latex": [
       "115473.118544118"
      ],
      "text/markdown": [
       "115473.118544118"
      ],
      "text/plain": [
       "[1] 115473.1"
      ]
     },
     "metadata": {},
     "output_type": "display_data"
    }
   ],
   "source": [
    "# we could compute the sum of squared errors\n",
    "approx.error <- function(m1,m2) {\n",
    "  sum((m1-m2)^2)\n",
    "}\n",
    "approx.error(dtm,m.approx3)"
   ]
  },
  {
   "cell_type": "code",
   "execution_count": 32,
   "metadata": {
    "collapsed": true
   },
   "outputs": [],
   "source": [
    "library(cluster)\n",
    "library(NbClust)"
   ]
  },
  {
   "cell_type": "code",
   "execution_count": 33,
   "metadata": {
    "collapsed": true
   },
   "outputs": [],
   "source": [
    "#dtm"
   ]
  },
  {
   "cell_type": "code",
   "execution_count": 35,
   "metadata": {
    "collapsed": false
   },
   "outputs": [
    {
     "ename": "ERROR",
     "evalue": "Error: cannot allocate vector of size 4.2 Gb\n",
     "output_type": "error",
     "traceback": [
      "Error: cannot allocate vector of size 4.2 Gb\nTraceback:\n",
      "1. NbClust(dtm, min.nc = 2, max.nc = 15, method = \"kmeans\")"
     ]
    }
   ],
   "source": [
    "set.seed(1234)\n",
    "nc <- NbClust(dtm, min.nc=2, max.nc=15, method=\"kmeans\") \n",
    "table(nc$Best.n[1,])"
   ]
  },
  {
   "cell_type": "code",
   "execution_count": null,
   "metadata": {
    "collapsed": true
   },
   "outputs": [],
   "source": [
    "set.seed(123) \n",
    "km.res <- kmeans(dtm, k=100, nstart = 25)\n",
    "# k-means group number of each observation\n",
    "km.res$cluster"
   ]
  },
  {
   "cell_type": "code",
   "execution_count": null,
   "metadata": {
    "collapsed": true
   },
   "outputs": [],
   "source": [
    "# Visualize k-means clusters\n",
    "fviz_cluster(km.res, data = dtm, geom = \"point\", stand = FALSE, frame.type = \"norm\")"
   ]
  }
 ],
 "metadata": {
  "anaconda-cloud": {},
  "kernelspec": {
   "display_name": "R 3.3",
   "language": "R",
   "name": "ir33"
  },
  "language_info": {
   "codemirror_mode": "r",
   "file_extension": ".r",
   "mimetype": "text/x-r-source",
   "name": "R",
   "pygments_lexer": "r",
   "version": "3.3.2"
  }
 },
 "nbformat": 4,
 "nbformat_minor": 0
}
