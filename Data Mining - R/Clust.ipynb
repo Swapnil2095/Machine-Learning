{
 "cells": [
  {
   "cell_type": "code",
   "execution_count": 3,
   "metadata": {},
   "outputs": [
    {
     "name": "stderr",
     "output_type": "stream",
     "text": [
      "Warning message:\n",
      "\"package 'factoextra' was built under R version 3.3.3\"Loading required package: ggplot2\n",
      "Warning message:\n",
      "\"package 'ggplot2' was built under R version 3.4.2\""
     ]
    },
    {
     "ename": "ERROR",
     "evalue": "Error: package 'ggplot2' could not be loaded\n",
     "output_type": "error",
     "traceback": [
      "Error: package 'ggplot2' could not be loaded\nTraceback:\n",
      "1. library(factoextra)",
      "2. .getRequiredPackages2(pkgInfo, quietly = quietly)",
      "3. stop(gettextf(\"package %s could not be loaded\", sQuote(pkg)), \n .     call. = FALSE, domain = NA)"
     ]
    }
   ],
   "source": [
    "# Load\n",
    "library(\"tm\")\n",
    "library(\"SnowballC\")\n",
    "library(\"wordcloud\")\n",
    "library(\"RColorBrewer\")\n",
    "library(factoextra)\n",
    "library(cluster)\n",
    "library(NbClust)\n",
    "library(pryr)\n",
    "\n",
    "#library(\"lsa\")\n",
    "#library(\"lda\")\n",
    "mem_used()\n",
    "\n"
   ]
  },
  {
   "cell_type": "code",
   "execution_count": null,
   "metadata": {},
   "outputs": [],
   "source": [
    "\n",
    "newsGroups <- c(\"C:\\Users\\Dell\\Documents\\Codes\\Machine-Learning\\Data Mining - R\\20news-18828\")\n",
    "\n",
    "#read in the recursive way\n",
    "alldir=DirSource(newsGroups, encoding = \"UTF-8\", recursive=TRUE)\n",
    "\n"
   ]
  },
  {
   "cell_type": "code",
   "execution_count": null,
   "metadata": {},
   "outputs": [],
   "source": [
    "alldir$filelist\n"
   ]
  },
  {
   "cell_type": "code",
   "execution_count": null,
   "metadata": {},
   "outputs": [],
   "source": [
    "news <- Corpus(alldir, readerControl=list(reader=readPlain,language=\"en\"))\n",
    "\n",
    "\n",
    "# data preprocessing\n",
    "news <- tm_map(news, removeWords,\"Subject\") \n",
    "news <- tm_map(news, removeWords,\"Organization\") \n",
    "news <- tm_map(news, removeWords,\"writes\") \n",
    "news <- tm_map(news, removeWords,\"From\") \n",
    "news <- tm_map(news, removeWords,\"lines\") \n",
    "news <- tm_map(news, removeWords,\"NNTP-Posting-Host\") \n",
    "news <- tm_map(news, removeWords,\"article\")\n",
    "\n",
    "\n",
    "\n"
   ]
  },
  {
   "cell_type": "code",
   "execution_count": null,
   "metadata": {},
   "outputs": [],
   "source": [
    "\n",
    "\n",
    "news <- tm_map(news, tolower) ## Convert to Lower Case \n",
    "\n",
    "news <- tm_map(news, removeWords, stopwords(\"english\")) ## Remove Stopwords \n",
    "\n",
    "news <- tm_map(news, removePunctuation) ## Remove Punctuations \n",
    "\n",
    "news <- tm_map(news, stemDocument) ## Stemming \n",
    "\n",
    "news <- tm_map(news, removeNumbers) ## Remove Numbers \n",
    "\n",
    "news <- tm_map(news, stripWhitespace) ## Eliminate Extra White Spaces \n",
    "\n",
    "news <- tm_map(news , PlainTextDocument)\n",
    "\n",
    "mem_used()\n",
    "\n"
   ]
  },
  {
   "cell_type": "code",
   "execution_count": null,
   "metadata": {},
   "outputs": [],
   "source": [
    "#DocumentTermMatrix\n",
    "\n",
    "dtm <- DocumentTermMatrix(news,control=list(wordLengths=c(3,Inf)))\n",
    "dtm\n",
    "dim(dtm)\n",
    "str(dtm)\n",
    "#inspect(dtm[1:5,1:20])\n",
    "mem_used()\n"
   ]
  },
  {
   "cell_type": "code",
   "execution_count": null,
   "metadata": {},
   "outputs": [],
   "source": [
    "#construct an empty vector, to be used for holding class labels of the documents\n",
    "classvec <- vector()\n",
    "\n",
    "#loop all the files: for each document, make its parent folder name as the class label of this document, and put the class label value in classvec vector\n",
    "\n",
    "#alldir$filelist  #display all the files\n",
    "for (filedir in alldir$filelist) {\n",
    "\n",
    "classlabel=basename(dirname(filedir))\n",
    "classvec=c(classvec,classlabel)\n",
    "\n",
    "}\n",
    "summary(classvec)\n",
    "\n"
   ]
  },
  {
   "cell_type": "code",
   "execution_count": null,
   "metadata": {},
   "outputs": [],
   "source": [
    "#factor classvec to let R know it's a categorical variable\n",
    "classvec <- factor(classvec)"
   ]
  },
  {
   "cell_type": "code",
   "execution_count": null,
   "metadata": {},
   "outputs": [],
   "source": [
    "classvec"
   ]
  },
  {
   "cell_type": "code",
   "execution_count": null,
   "metadata": {},
   "outputs": [],
   "source": [
    "\n",
    "library(Matrix)\n",
    "library(SparseM)\n",
    "library(e1071)\n"
   ]
  },
  {
   "cell_type": "code",
   "execution_count": null,
   "metadata": {},
   "outputs": [],
   "source": [
    "\n",
    "# convert dtm to dtm_matrix using sparse storage\n",
    "dtm_matrix=as.matrix.csr(as.matrix(dtm))\n",
    "#specify the features, vector to be predicted, and kernel method in the svm model\n",
    "svm_model <- svm(dtm_matrix, classvec, kernel=\"linear\")\n",
    "summary(svm_model)\n",
    "#inspect results\n",
    "pred <- predict(svm_model, dtm)\n",
    "table(pred,classvec)"
   ]
  },
  {
   "cell_type": "code",
   "execution_count": null,
   "metadata": {},
   "outputs": [],
   "source": [
    "str(dtm$dimnames$Docs)\n"
   ]
  },
  {
   "cell_type": "code",
   "execution_count": null,
   "metadata": {},
   "outputs": [],
   "source": [
    "#dtm$dimnames$Docs <- classvec"
   ]
  },
  {
   "cell_type": "code",
   "execution_count": null,
   "metadata": {},
   "outputs": [],
   "source": [
    "#dtm$dimnames$Docs"
   ]
  },
  {
   "cell_type": "code",
   "execution_count": null,
   "metadata": {},
   "outputs": [],
   "source": [
    "#str(dtm$dimnames$Docs)"
   ]
  },
  {
   "cell_type": "code",
   "execution_count": null,
   "metadata": {},
   "outputs": [],
   "source": [
    "str(dtm)"
   ]
  },
  {
   "cell_type": "code",
   "execution_count": null,
   "metadata": {},
   "outputs": [],
   "source": [
    "#str(dtm$dimnames$Docs[1000:1015])"
   ]
  },
  {
   "cell_type": "code",
   "execution_count": null,
   "metadata": {},
   "outputs": [],
   "source": [
    "#str(dtm$dimnames$Docs[10:15])"
   ]
  },
  {
   "cell_type": "code",
   "execution_count": null,
   "metadata": {},
   "outputs": [],
   "source": [
    "#str(dtm$dimnames$Docs[1570:1575])"
   ]
  },
  {
   "cell_type": "code",
   "execution_count": null,
   "metadata": {},
   "outputs": [],
   "source": [
    "mat4 <- weightTfIdf(dtm)\n",
    "mat4 <- as.matrix(mat4)\n",
    "\n",
    "rm(dtm)\n",
    "\n",
    "mem_used()\n",
    "\n"
   ]
  },
  {
   "cell_type": "code",
   "execution_count": null,
   "metadata": {},
   "outputs": [],
   "source": [
    "\n",
    "\n",
    "set.seed(123)\n",
    "# Compute and plot wss for k = 1 to k = 8\n",
    "k.max <- 8\n",
    "# Maximal number of clusters\n",
    "data <- mat4\n",
    "wss <- sapply(1:k.max, function(k){kmeans(mat4, k, nstart=10 )$tot.withinss})\n",
    "plot(1:k.max, wss, type=\"b\", pch = 19, frame = FALSE, xlab=\"Number of clusters K\", ylab=\"Total within-clusters sum of squares\")\n",
    "abline(v = 3, lty =2)\n",
    "\n",
    "\n"
   ]
  },
  {
   "cell_type": "code",
   "execution_count": null,
   "metadata": {},
   "outputs": [],
   "source": []
  }
 ],
 "metadata": {
  "kernelspec": {
   "display_name": "R",
   "language": "R",
   "name": "ir"
  },
  "language_info": {
   "codemirror_mode": "r",
   "file_extension": ".r",
   "mimetype": "text/x-r-source",
   "name": "R",
   "pygments_lexer": "r",
   "version": "3.3.2"
  }
 },
 "nbformat": 4,
 "nbformat_minor": 1
}
