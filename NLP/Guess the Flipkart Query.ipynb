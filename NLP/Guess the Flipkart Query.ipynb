{
  "cells": [
    {
      "metadata": {
        "_uuid": "8f2839f25d086af736a60e9eeb907d3b93b6e0e5",
        "_cell_guid": "b1076dfc-b9ad-4769-8c92-a6c4dae69d19",
        "trusted": true
      },
      "cell_type": "code",
      "source": "import os\nprint(os.listdir(\"../input\"))",
      "execution_count": null,
      "outputs": []
    },
    {
      "metadata": {
        "_cell_guid": "79c7e3d0-c299-4dcb-8224-4455121ee9b0",
        "_uuid": "d629ff2d2480ee46fbb7e2d37f6b5fab8052498a",
        "trusted": true
      },
      "cell_type": "code",
      "source": "import re\nimport numpy as np\n#from numpy  import array\n\nfrom sklearn.feature_extraction.text import CountVectorizer\nfrom sklearn.feature_extraction.text import TfidfTransformer,TfidfVectorizer\nfrom sklearn.linear_model import SGDClassifier\nfrom sklearn.pipeline import Pipeline\n\nfrom sklearn.metrics import accuracy_score\nfrom sklearn import metrics\n",
      "execution_count": null,
      "outputs": []
    },
    {
      "metadata": {
        "trusted": true,
        "_uuid": "ca31a832a985cfaffdb1f65c35d809951f85a3ed"
      },
      "cell_type": "code",
      "source": "def filter_words(line):\n    return re.findall(r\"(?:[A-Za-z0-9\\+]+)\",line)",
      "execution_count": null,
      "outputs": []
    },
    {
      "metadata": {
        "trusted": true,
        "_uuid": "2ad30d218b5290d3a144662ef073b3003b36484b"
      },
      "cell_type": "code",
      "source": "X_train = []\nY_train = []\n\nwith open('../input/training/training.txt', 'r') as f:\n    lines = f.readlines()[1:]\n    for line in lines:\n        #print(line)\n        data = [words for words in line.rstrip().split(\"\\t\")]\n        #print(data[0])\n        '''\n            data[0] = query \n            data[1] = product label\n        '''\n        query = \" \".join(word for word in filter_words(data[0]))\n        #print(query, end=\"\\n\\n\")\n        X_train.append(query)\n        Y_train.append(data[1])\n     ",
      "execution_count": null,
      "outputs": []
    },
    {
      "metadata": {
        "trusted": true,
        "_uuid": "004fac655bcafb9a741f4e0285d384e8ffce4857"
      },
      "cell_type": "code",
      "source": "print( X_train[:5])",
      "execution_count": null,
      "outputs": []
    },
    {
      "metadata": {
        "trusted": true,
        "_uuid": "d752d63a515077280cd0d404e51a252509365c79"
      },
      "cell_type": "code",
      "source": "print(Y_train[:5])\n        \n",
      "execution_count": null,
      "outputs": []
    },
    {
      "metadata": {
        "trusted": true,
        "_uuid": "53d9f5aa14df00b1659e46418de76a84d58dbf8a"
      },
      "cell_type": "code",
      "source": "unique_product_label = set(Y_train)\nprint(len(unique_product_label))\nprint(unique_product_label)",
      "execution_count": null,
      "outputs": []
    },
    {
      "metadata": {
        "trusted": true,
        "_uuid": "86373a3b8962df16f94bcbf568e495b7884e3751"
      },
      "cell_type": "code",
      "source": "X = np.array(X_train)\nY = np.array(Y_train)\n\ntext_clf = Pipeline([\n    ('vect', CountVectorizer()),\n    ('tfidf', TfidfTransformer()),\n    ('clf', SGDClassifier(loss='hinge',\n                          alpha=1e-3, random_state=42,\n                           max_iter=10, tol=None))])\n\ntext_clf.fit(X,Y)\n",
      "execution_count": null,
      "outputs": []
    },
    {
      "metadata": {
        "trusted": true,
        "_uuid": "eb1726ada3200e7f514a942673bf52fb302332d2"
      },
      "cell_type": "code",
      "source": "print(os.listdir(\"../input/testcases/guess-the-flipkart-query-testcases\"))",
      "execution_count": null,
      "outputs": []
    },
    {
      "metadata": {
        "trusted": true,
        "_uuid": "59b99ff1c162cd2cbc3d3dd0885a495c6559164a"
      },
      "cell_type": "code",
      "source": "X_test = []\n\nwith open('../input/testcases/guess-the-flipkart-query-testcases/input/input01.txt', 'r') as f:\n    lines = f.readlines()[1:]\n    for line in lines:\n        query = \" \".join(word for word in filter_words(line))\n        #print(query, end=\"\\n\\n\")\n        X_test.append(query)\n        ",
      "execution_count": null,
      "outputs": []
    },
    {
      "metadata": {
        "trusted": true,
        "_uuid": "4828c1ad7e61f0da37e4dd99ccdef754fe98cd5e"
      },
      "cell_type": "code",
      "source": "Y_test = []\ncount = 1 \nwith open('../input/testcases/guess-the-flipkart-query-testcases/output/output01.txt', 'r') as f:\n    lines = f.readlines()\n    for line in lines:\n        data = [words for words in line.rstrip().split(\"\\n\")]\n        #print(count , data, end=\"\\n\\n\")\n        count += 1 \n        Y_test.append(data[0])",
      "execution_count": null,
      "outputs": []
    },
    {
      "metadata": {
        "trusted": true,
        "_uuid": "59b9158dac9194ba4dcd3b5c0792dce91f1e3f0d"
      },
      "cell_type": "code",
      "source": "print(X_test[:5])",
      "execution_count": null,
      "outputs": []
    },
    {
      "metadata": {
        "trusted": true,
        "_uuid": "0e32632610b52a97aa1d4027467fdb3a1d9711dd"
      },
      "cell_type": "code",
      "source": "print(Y_test[:5])",
      "execution_count": null,
      "outputs": []
    },
    {
      "metadata": {
        "_uuid": "54c2c217697065838ceee077bd8e5989294e6448"
      },
      "cell_type": "markdown",
      "source": "<h1>Running on Input Samples</h1>"
    },
    {
      "metadata": {
        "trusted": true,
        "_uuid": "b3883977e901167127d42ab9bbd9250987693573"
      },
      "cell_type": "code",
      "source": "predicted = text_clf.predict(np.array(X_test))",
      "execution_count": null,
      "outputs": []
    },
    {
      "metadata": {
        "trusted": true,
        "_uuid": "0acc57447ec95ecd7cd7e3afd7df21f0d994d95a"
      },
      "cell_type": "code",
      "source": "type(predicted)",
      "execution_count": null,
      "outputs": []
    },
    {
      "metadata": {
        "trusted": true,
        "_uuid": "1da07ee9563429a59295e3119aeca6ab806bf5e7"
      },
      "cell_type": "code",
      "source": "predicted[:5]",
      "execution_count": null,
      "outputs": []
    },
    {
      "metadata": {
        "trusted": true,
        "_uuid": "8b0edb46cb99f9cef2eb1119f30bbc2509cdb4b2"
      },
      "cell_type": "code",
      "source": "print(len(Y_test))\nprint(len(predicted))",
      "execution_count": null,
      "outputs": []
    },
    {
      "metadata": {
        "_uuid": "c92473b0df3b42c6278a4397180fdb5d1c62a6c8"
      },
      "cell_type": "markdown",
      "source": "<h3> Accuracy Score</h3>"
    },
    {
      "metadata": {
        "trusted": true,
        "_uuid": "0245e078f8603b706e53a86c75f441e68adf761b"
      },
      "cell_type": "code",
      "source": "print(np.mean(predicted == Y_test))",
      "execution_count": null,
      "outputs": []
    },
    {
      "metadata": {
        "trusted": true,
        "_uuid": "bd895ae26bdff7377aed9e6b7d9699a204a0e9fe"
      },
      "cell_type": "code",
      "source": "indices = np.where(predicted != Y_test)\n#print(indices[0])\nfor index in indices[0]:\n    print(X_test[index], end=\"\\n\\n\")",
      "execution_count": null,
      "outputs": []
    },
    {
      "metadata": {
        "trusted": true,
        "_uuid": "bd8c592319c1c7b9f5112de874a361c9eed2991f"
      },
      "cell_type": "code",
      "source": "# Evaluate accuracy\nprint(accuracy_score(Y_test, predicted))",
      "execution_count": null,
      "outputs": []
    },
    {
      "metadata": {
        "trusted": true,
        "_uuid": "3bc95c415d125b4e420a42dd7061af8103424e0f"
      },
      "cell_type": "code",
      "source": "print(metrics.confusion_matrix(Y_test, predicted))",
      "execution_count": null,
      "outputs": []
    },
    {
      "metadata": {
        "_uuid": "a298aca580cf282b35ec7efba8caeb76da4f0519"
      },
      "cell_type": "markdown",
      "source": "<h1> Take Input from User</h1>"
    },
    {
      "metadata": {
        "trusted": true,
        "_uuid": "3982c6e0e94191f40927d54e168a4fe2e85ba207"
      },
      "cell_type": "code",
      "source": "x_test = []\nfor no_of_inputs in range(int(input())): \n    input_query = input()\n    data = \" \".join(words for words in filter_words(input_query))\n    x_test.append(data)",
      "execution_count": null,
      "outputs": []
    },
    {
      "metadata": {
        "trusted": true,
        "_uuid": "815eb76b10b06972f1f3c8d0e3a1ddc548b87f68"
      },
      "cell_type": "code",
      "source": "predicted = text_clf.predict(np.array(x_test))",
      "execution_count": null,
      "outputs": []
    },
    {
      "metadata": {
        "trusted": true,
        "scrolled": true,
        "_uuid": "e575d7a08a2c9e434e2814245599eb1061949a89"
      },
      "cell_type": "code",
      "source": "for output in predicted:\n    print(output)",
      "execution_count": null,
      "outputs": []
    },
    {
      "metadata": {
        "trusted": true,
        "_uuid": "a58e30b882f715a206b76f4c7322e585989ea5a1"
      },
      "cell_type": "code",
      "source": "",
      "execution_count": null,
      "outputs": []
    }
  ],
  "metadata": {
    "kernelspec": {
      "display_name": "Python 3",
      "language": "python",
      "name": "python3"
    },
    "language_info": {
      "name": "python",
      "version": "3.6.6",
      "mimetype": "text/x-python",
      "codemirror_mode": {
        "name": "ipython",
        "version": 3
      },
      "pygments_lexer": "ipython3",
      "nbconvert_exporter": "python",
      "file_extension": ".py"
    }
  },
  "nbformat": 4,
  "nbformat_minor": 1
}